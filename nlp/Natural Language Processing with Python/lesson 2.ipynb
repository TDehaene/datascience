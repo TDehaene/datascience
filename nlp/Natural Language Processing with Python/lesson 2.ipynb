{
 "cells": [
  {
   "cell_type": "markdown",
   "metadata": {},
   "source": [
    "## Lesson 2: stop words"
   ]
  },
  {
   "cell_type": "code",
   "execution_count": 2,
   "metadata": {
    "collapsed": false
   },
   "outputs": [],
   "source": [
    "import nltk\n",
    "nltk.data.path.append(r\"C:\\Users\\dehaeth\\Documents\\Tools\\nltk\")"
   ]
  },
  {
   "cell_type": "markdown",
   "metadata": {},
   "source": [
    "### Import specific libraries"
   ]
  },
  {
   "cell_type": "code",
   "execution_count": 3,
   "metadata": {
    "collapsed": true
   },
   "outputs": [],
   "source": [
    "from nltk.corpus import stopwords\n",
    "from nltk.tokenize import word_tokenize"
   ]
  },
  {
   "cell_type": "markdown",
   "metadata": {},
   "source": [
    "### Example"
   ]
  },
  {
   "cell_type": "code",
   "execution_count": 5,
   "metadata": {
    "collapsed": true
   },
   "outputs": [],
   "source": [
    "example = \"this is an example, showing off stop word filtration during the lecture\"\n",
    "stop_words = set(stopwords.words(\"english\"))"
   ]
  },
  {
   "cell_type": "code",
   "execution_count": 6,
   "metadata": {
    "collapsed": false
   },
   "outputs": [
    {
     "name": "stdout",
     "output_type": "stream",
     "text": [
      "{'before', 'does', 'once', 'over', 'ain', 'themselves', 'having', 'off', 'it', 'me', 'your', 'again', 'why', 'were', 'won', 'than', 'below', 'up', 'both', 'his', 'will', 'shouldn', 's', 'as', 'their', 'couldn', 'how', 'shan', 'and', 'don', 'no', 'own', 'those', 'same', 'at', 'whom', 'from', 've', 'while', 'of', 'for', 'into', 'only', 'aren', 'my', 'that', 'but', 'more', 'what', 'was', 'yourselves', 'with', 'on', 'didn', 'they', 'did', 'should', 'nor', 'some', 'you', 'these', 'then', 'hasn', 'now', 'myself', 'do', 'few', 'd', 'ours', 'll', 'have', 'mustn', 'against', 'hers', 'mightn', 'a', 'its', 'during', 'this', 'y', 'theirs', 'has', 'very', 't', 'are', 'he', 'when', 'doesn', 'him', 'she', 'being', 'each', 'm', 'in', 'above', 'after', 'any', 'if', 'such', 'further', 'yourself', 'haven', 'i', 'isn', 'most', 'between', 'be', 'or', 'which', 'needn', 'other', 'yours', 'her', 'until', 'herself', 'doing', 'o', 'ourselves', 'an', 'is', 'just', 'our', 'am', 'so', 'who', 'there', 'through', 'ma', 'about', 'itself', 'been', 'too', 'not', 'hadn', 're', 'by', 'out', 'to', 'down', 'wasn', 'them', 'weren', 'can', 'himself', 'wouldn', 'here', 'had', 'because', 'under', 'where', 'all', 'we', 'the'}\n"
     ]
    }
   ],
   "source": [
    "print(stop_words)"
   ]
  },
  {
   "cell_type": "code",
   "execution_count": 8,
   "metadata": {
    "collapsed": false
   },
   "outputs": [
    {
     "name": "stdout",
     "output_type": "stream",
     "text": [
      "['example', ',', 'showing', 'stop', 'word', 'filtration', 'lecture']\n"
     ]
    }
   ],
   "source": [
    "words = word_tokenize(example)\n",
    "filtered = []\n",
    "\n",
    "for w in words:\n",
    "    if w not in stop_words:\n",
    "        filtered.append(w)\n",
    "        \n",
    "print(filtered)"
   ]
  },
  {
   "cell_type": "markdown",
   "metadata": {},
   "source": [
    "### Now in a one-liner"
   ]
  },
  {
   "cell_type": "code",
   "execution_count": 9,
   "metadata": {
    "collapsed": false
   },
   "outputs": [
    {
     "name": "stdout",
     "output_type": "stream",
     "text": [
      "['example', ',', 'showing', 'stop', 'word', 'filtration', 'lecture']\n"
     ]
    }
   ],
   "source": [
    "filtered_oneliner = [w for w in words if not w in stop_words]\n",
    "print(filtered_oneliner)"
   ]
  }
 ],
 "metadata": {
  "kernelspec": {
   "display_name": "Python 3",
   "language": "python",
   "name": "python3"
  },
  "language_info": {
   "codemirror_mode": {
    "name": "ipython",
    "version": 3
   },
   "file_extension": ".py",
   "mimetype": "text/x-python",
   "name": "python",
   "nbconvert_exporter": "python",
   "pygments_lexer": "ipython3",
   "version": "3.6.0"
  }
 },
 "nbformat": 4,
 "nbformat_minor": 2
}
