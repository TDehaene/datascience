{
 "cells": [
  {
   "cell_type": "markdown",
   "metadata": {},
   "source": [
    "## French NLP function tests"
   ]
  },
  {
   "cell_type": "markdown",
   "metadata": {},
   "source": [
    "### Basic imports"
   ]
  },
  {
   "cell_type": "code",
   "execution_count": 3,
   "metadata": {
    "collapsed": true
   },
   "outputs": [],
   "source": [
    "import os\n",
    "import nltk"
   ]
  },
  {
   "cell_type": "markdown",
   "metadata": {},
   "source": [
    "### Download NLTK"
   ]
  },
  {
   "cell_type": "code",
   "execution_count": 4,
   "metadata": {
    "collapsed": false
   },
   "outputs": [
    {
     "name": "stdout",
     "output_type": "stream",
     "text": [
      "showing info https://raw.githubusercontent.com/nltk/nltk_data/gh-pages/index.xml\n"
     ]
    },
    {
     "data": {
      "text/plain": [
       "True"
      ]
     },
     "execution_count": 4,
     "metadata": {},
     "output_type": "execute_result"
    }
   ],
   "source": [
    "nltk.download()"
   ]
  },
  {
   "cell_type": "markdown",
   "metadata": {},
   "source": [
    "### Import dataset"
   ]
  },
  {
   "cell_type": "code",
   "execution_count": 6,
   "metadata": {
    "collapsed": true
   },
   "outputs": [],
   "source": [
    "datapath = r'C:\\Users\\Gauthier\\Documents\\Tools\\corpus\\french\\wikipedia.txt'"
   ]
  },
  {
   "cell_type": "markdown",
   "metadata": {},
   "source": [
    "### Stanford POS tagger"
   ]
  },
  {
   "cell_type": "code",
   "execution_count": 7,
   "metadata": {
    "collapsed": false
   },
   "outputs": [],
   "source": [
    "from nltk.tag.stanford import StanfordPOSTagger as POS_Tag\n",
    "\n",
    "nltk.data.path.append(r'C:\\Users\\dehaeth\\Documents\\Tools\\nltk')\n",
    "\n",
    "homepath = r'C:\\Users\\Gauthier\\Documents\\Tools\\stanford-postagger-full-2017-06-09\\stanford-postagger-full-2017-06-09'\n",
    "taggerpath = os.path.join(homepath,r'models\\french.tagger')\n",
    "jarpath = os.path.join(homepath,'stanford-postagger.jar')\n",
    "\n",
    "st = POS_Tag(taggerpath,jarpath)"
   ]
  },
  {
   "cell_type": "markdown",
   "metadata": {},
   "source": [
    "### Test sent tokenizer"
   ]
  },
  {
   "cell_type": "code",
   "execution_count": 8,
   "metadata": {
    "collapsed": false
   },
   "outputs": [
    {
     "name": "stdout",
     "output_type": "stream",
     "text": [
      "[[], ['<#1>'], ['Åge Hareide'], [], [], ['\\t|'], ['\\t|'], ['Cet article est une ébauche concernant un footballeurnorvégien et un entraîneurnorvégien de football.'], [\"Vous pouvez partager vos connaissances en l'améliorant.\", '(Comment ?).', '|'], []]\n"
     ]
    }
   ],
   "source": [
    "limit = 100\n",
    "sents = []\n",
    "\n",
    "with open(datapath, 'r', encoding = 'latin-1') as f:\n",
    "    for line in range(limit):\n",
    "        sents.append(nltk.tokenize.sent_tokenize(f.readline()))\n",
    "        \n",
    "print(sents[:10])"
   ]
  },
  {
   "cell_type": "markdown",
   "metadata": {},
   "source": [
    "### Test work tokenizer on first x lines"
   ]
  },
  {
   "cell_type": "code",
   "execution_count": 9,
   "metadata": {
    "collapsed": false
   },
   "outputs": [],
   "source": [
    "limit = 1000\n",
    "words = []\n",
    "\n",
    "with open(datapath, 'r', encoding = 'latin-1') as f:\n",
    "    for line in range(limit):\n",
    "        words.append(nltk.tokenize.word_tokenize(f.readline()))\n",
    "\n",
    "flat_words = [item for sublist in words for item in sublist]"
   ]
  },
  {
   "cell_type": "markdown",
   "metadata": {},
   "source": [
    "### Test POS tagger"
   ]
  },
  {
   "cell_type": "code",
   "execution_count": 10,
   "metadata": {
    "collapsed": false
   },
   "outputs": [
    {
     "name": "stdout",
     "output_type": "stream",
     "text": [
      "[('Je', 'CLS'), ('vous', 'CLO'), ('donne', 'V'), ('d’abord', 'NC'), ('les', 'DET'), ('ingrédients', 'NC'), ('de', 'P'), ('la', 'DET'), ('garniture', 'NC'), ('pour', 'P'), ('huit', 'DET'), ('personnes.Alors', 'NC'), (',', 'PUNC'), ('il', 'CLS'), ('vous', 'CLO'), ('faut', 'V'), ('deux', 'DET'), ('beaux', 'ADJ'), ('citrons', 'NC'), (',', 'PUNC'), ('bio', 'ADJ'), ('de', 'P'), ('préférence', 'NC'), (',', 'PUNC'), ('cent', 'DET'), ('grammes', 'NC'), ('de', 'P'), ('crème', 'N'), ('fraîche', 'ADJ'), (',', 'PUNC'), ('deux', 'DET'), ('gros', 'ADJ'), ('oeufs', 'NC'), ('et', 'CC'), ('cent', 'DET'), ('grammes', 'NC'), ('de', 'P'), ('sucre', 'NC'), ('semoule.Vous', 'NPP'), ('allez', 'V'), ('commencer', 'VINF'), ('par', 'P'), ('préparer', 'VINF'), ('une', 'DET'), ('pâte', 'NC'), ('brisée', 'VPP'), ('et', 'CC'), (',', 'PUNC'), ('une', 'DET'), ('fois', 'NC'), ('prête', 'ADJ'), (',', 'PUNC'), ('vous', 'CLS'), ('la', 'CLO'), ('laissez', 'V'), ('reposer', 'VINF'), ('au', 'P'), ('frigo', 'NC'), ('pendant', 'P'), ('deux', 'DET'), ('heures.Vous', 'NC'), ('préchauffez', 'V'), ('votre', 'DET'), ('four', 'NC'), ('à', 'P'), ('220', 'DET'), ('degrés', 'NC'), ('.', 'PUNC'), ('Ensuite', 'ADV'), (',', 'PUNC'), ('vous', 'CLS'), ('prélevez', 'V'), ('un', 'DET'), ('peu', 'ADV'), ('de', 'P'), ('zeste', 'NC'), ('de', 'P'), ('citron', 'NC'), ('et', 'CC'), ('vous', 'CLS'), ('mettez', 'V'), ('le', 'DET'), ('zeste', 'NC'), ('dans', 'P'), ('un', 'DET'), ('bol', 'NC'), ('.', 'PUNC'), ('Vous', 'CLS'), ('pouvez', 'V'), ('alors', 'ADV'), ('éplucher', 'VINF'), ('les', 'DET'), ('citrons', 'NC'), ('.', 'PUNC'), ('Une', 'DET'), ('fois', 'N'), ('épluchés', 'ADJ'), (',', 'PUNC'), ('vous', 'CLS'), ('les', 'CLO'), ('coupez', 'V'), ('en', 'P'), ('deux', 'DET'), ('et', 'CC'), ('vous', 'CLS'), ('prélevez', 'V'), ('la', 'DET'), ('chair', 'NC'), ('mais', 'CC'), ('pas', 'ADV'), ('les', 'DET'), ('peaux', 'NC'), ('blanches', 'ADJ'), ('.', 'PUNC'), ('Une', 'DET'), ('fois', 'NC'), ('terminé', 'VPP'), (',', 'PUNC'), ('vous', 'CLS'), ('allez', 'V'), ('mettre', 'VINF'), ('tout', 'DET'), ('ça', 'PRO'), ('dans', 'P'), ('un', 'DET'), ('mixer', 'NC'), ('.', 'PUNC'), ('Vous', 'CLS'), ('mixez', 'V'), ('et', 'CC'), ('vous', 'CLS'), ('mélangez', 'V'), ('avec', 'P'), ('la', 'DET'), ('crème', 'N'), ('fraîche', 'ADJ'), ('épaisse', 'ADJ'), (',', 'PUNC'), ('le', 'DET'), ('sucre', 'NC'), ('et', 'CC'), ('le', 'DET'), ('zeste', 'NC'), ('des', 'P'), ('citrons', 'NC'), ('.', 'PUNC'), ('Ensuite', 'ADV'), (',', 'PUNC'), ('vous', 'CLS'), ('ajoutez', 'V'), ('les', 'DET'), ('oeufs', 'NC'), ('.', 'PUNC'), ('Il', 'CLS'), ('faut', 'V'), ('bien', 'ADV'), ('battre', 'VINF'), ('pour', 'P'), ('que', 'C'), ('le', 'DET'), ('mélange', 'NC'), ('soit', 'VS'), ('crémeux.Voilà', 'NPP'), (',', 'PUNC'), ('c’est', 'NC'), ('presque', 'ADV'), ('terminé', 'VPP'), ('.', 'PUNC'), ('Il', 'CLS'), ('vous', 'CLO'), ('faut', 'V'), ('maintenant', 'ADV'), ('verser', 'VINF'), ('votre', 'DET'), ('mélange', 'NC'), ('sur', 'P'), ('la', 'DET'), ('pâte', 'NC'), ('abaissée', 'VPP'), (',', 'PUNC'), ('vous', 'CLS'), ('enfournez', 'V'), ('et', 'CC'), ('vous', 'CLS'), ('faites', 'V'), ('cuire', 'VINF'), ('.', 'PUNC'), ('Vous', 'CLS'), ('baissez', 'V'), ('le', 'DET'), ('four', 'NC'), ('à', 'P'), ('180', 'DET'), ('degrés', 'NC'), (',', 'PUNC'), ('vous', 'CLS'), ('surveillez', 'V'), ('et', 'CC'), ('vous', 'CLS'), ('sortez', 'V'), ('votre', 'DET'), ('tarte', 'N'), ('après', 'P'), ('trente', 'DET'), ('minutes', 'NC'), ('de', 'P'), ('cuisson', 'DET'), ('.', 'PUNC'), ('C’est', 'DET'), ('tout.Je', 'NC'), ('vous', 'CLO'), ('souhaite', 'V'), ('un', 'DET'), ('bon', 'ADJ'), ('appétit', 'NC'), ('!', 'PUNC')]\n"
     ]
    }
   ],
   "source": [
    "import os\n",
    "java_path = r\"C:\\Program Files (x86)\\Java\\jre1.8.0_144\\bin\\java.exe\"\n",
    "os.environ['JAVAHOME'] = java_path\n",
    "\n",
    "text = 'Je vous donne d’abord les ingrédients de la garniture pour huit personnes.Alors, il vous faut deux beaux citrons, bio de préférence, cent grammes de crème fraîche, deux gros oeufs et cent grammes de sucre semoule.Vous allez commencer par préparer une pâte brisée et, une fois prête, vous la laissez reposer au frigo pendant deux heures.Vous préchauffez votre four à 220 degrés. Ensuite, vous prélevez un peu de zeste de citron et vous mettez le zeste dans un bol. Vous pouvez alors éplucher les citrons. Une fois épluchés, vous les coupez en deux et vous prélevez la chair mais pas les peaux blanches. Une fois terminé, vous allez mettre tout ça dans un mixer. Vous mixez et vous mélangez avec la crème fraîche épaisse, le sucre et le zeste des citrons. Ensuite, vous ajoutez les oeufs. Il faut bien battre pour que le mélange soit crémeux.Voilà, c’est presque terminé. Il vous faut maintenant verser votre mélange sur la pâte abaissée, vous enfournez et vous faites cuire. Vous baissez le four à 180 degrés, vous surveillez et vous sortez votre tarte après trente minutes de cuisson. C’est tout.Je vous souhaite un bon appétit !'\n",
    "\n",
    "tokenized_text = nltk.tokenize.word_tokenize(text)\n",
    "\n",
    "classified_text = st.tag(tokenized_text)\n",
    "\n",
    "print(classified_text)"
   ]
  },
  {
   "cell_type": "markdown",
   "metadata": {},
   "source": [
    "V\t\t\tV\t\tindicative verb\n",
    "\n",
    "VS\t\t\tV\t\tsubjonctive verb\n",
    "\n",
    "VINF\t\tV\t\tinfinitival verb\n",
    "\n",
    "VPP\t\t\tV\t\tpast participle\n",
    "\n",
    "VPR\t\t\tV\t\tpresent participle\n",
    "\n",
    "VIMP\t\tV\t\timperative verb\n",
    "\n",
    "NC\t\t\tN\t\tcommon noun\n",
    "\n",
    "NPP\t\t\tN\t\tpropoer noun\n",
    "\n",
    "CS\t\t\tC\t\tcoordinating conjunction\n",
    "\n",
    "CC\t\t\tC\t\tsubordinating conjunction (complementizer)\n",
    "\n",
    "CLS\t\t\tCL\t\tnominative clitic\n",
    "\n",
    "CLO\t\t\tCL\t\taccusative or dative clitic\n",
    "\n",
    "CLR\t\t\tCL\t\treflexive clitic (whether its interpretation is truly reflexive or not)\n",
    "\n",
    "P\t\t\tP\t\tnon amalgamated preposition\n",
    "\n",
    "P+D\t\t\tP+D\t\tprep+determiner amalgam\n",
    "\n",
    "P+PRO\t\tP+PRO\tprep+relative pronoun amalgam (auquel (to which))\n",
    "\n",
    "I\t\t\tI\t\tinterjection\n",
    "\n",
    "PONCT\t\tPONCT\t\tpunctuation\n",
    "\n",
    "ET\t\t\tET\t\tforeign words, with a POS that is not guessable from context\n",
    "\n",
    "ADJ\t\t\tA\t\tnon interrogative adjectives\n",
    "\n",
    "ADJWH\t\tA\t\tinterrogative adjectives\n",
    "\n",
    "ADV\t\t\tADV\t\tnon interrogative adjectives\n",
    "\n",
    "ADVWH\t\tADV\t\tinterrogative adjectives\n",
    "\n",
    "PRO\t\t\tPRO\t\tneither relative nor interrogative pronouns\n",
    "\n",
    "PROREL\t\tPRO\t\trelative pronouns\n",
    "\n",
    "PROWH\t\tPRO\t\tinterrogative pronouns\n",
    "\n",
    "DET\t\t\tD\t\tnon interrogative nor relative determiners\n",
    "\n",
    "DETWH\t\tD\t\tinterrogative or relative determiners"
   ]
  },
  {
   "cell_type": "markdown",
   "metadata": {},
   "source": [
    "### Lemma's\n",
    "Might prove a bit difficult, so let's try with Treetagger, which supposedly both tags and lemmatizes your text:"
   ]
  },
  {
   "cell_type": "code",
   "execution_count": 33,
   "metadata": {
    "collapsed": false
   },
   "outputs": [],
   "source": [
    "import os\n",
    "import pprint\n",
    "import treetaggerwrapper\n",
    "tagger = treetaggerwrapper.TreeTagger(TAGLANG='fr')\n",
    "lemma_docs= []\n",
    "\n",
    "recipe_path = r'C:\\Users\\Gauthier\\Documents\\GitHub\\datascience\\nlp\\French NLP\\marmitton'\n",
    "for filename in os.listdir(recipe_path):\n",
    "    with open(os.path.join(recipe_path,filename),'r') as f:\n",
    "        tags = treetaggerwrapper.make_tags(tagger.tag_text(f.read()))\n",
    "        lemmas = [tag.lemma.lower() for tag in tags if (tag.pos == 'NOM' or tag.pos =='ADJ')]\n",
    "        lemma_docs.append(lemmas)\n",
    "        \n"
   ]
  },
  {
   "cell_type": "markdown",
   "metadata": {},
   "source": [
    "Apply metric"
   ]
  },
  {
   "cell_type": "code",
   "execution_count": 13,
   "metadata": {
    "collapsed": true
   },
   "outputs": [],
   "source": []
  },
  {
   "cell_type": "code",
   "execution_count": null,
   "metadata": {
    "collapsed": true
   },
   "outputs": [],
   "source": []
  }
 ],
 "metadata": {
  "kernelspec": {
   "display_name": "Python 3",
   "language": "python",
   "name": "python3"
  },
  "language_info": {
   "codemirror_mode": {
    "name": "ipython",
    "version": 3
   },
   "file_extension": ".py",
   "mimetype": "text/x-python",
   "name": "python",
   "nbconvert_exporter": "python",
   "pygments_lexer": "ipython3",
   "version": "3.6.0"
  }
 },
 "nbformat": 4,
 "nbformat_minor": 2
}
