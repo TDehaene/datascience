{
 "cells": [
  {
   "cell_type": "markdown",
   "metadata": {},
   "source": [
    "## French NLP function tests"
   ]
  },
  {
   "cell_type": "markdown",
   "metadata": {},
   "source": [
    "### Basic imports"
   ]
  },
  {
   "cell_type": "code",
   "execution_count": 21,
   "metadata": {
    "collapsed": true
   },
   "outputs": [],
   "source": [
    "import os\n",
    "import nltk\n",
    "from nltk import FreqDist"
   ]
  },
  {
   "cell_type": "markdown",
   "metadata": {},
   "source": [
    "### Download NLTK"
   ]
  },
  {
   "cell_type": "code",
   "execution_count": 2,
   "metadata": {
    "collapsed": false
   },
   "outputs": [],
   "source": [
    "#nltk.download()"
   ]
  },
  {
   "cell_type": "markdown",
   "metadata": {},
   "source": [
    "### Import dataset"
   ]
  },
  {
   "cell_type": "code",
   "execution_count": 3,
   "metadata": {
    "collapsed": true
   },
   "outputs": [],
   "source": [
    "datapath = r'C:\\Users\\peter\\Documents\\Tools\\corpus\\french\\wikipedia.txt'"
   ]
  },
  {
   "cell_type": "markdown",
   "metadata": {},
   "source": [
    "### Stanford POS tagger"
   ]
  },
  {
   "cell_type": "code",
   "execution_count": 4,
   "metadata": {
    "collapsed": false
   },
   "outputs": [],
   "source": [
    "from nltk.tag.stanford import StanfordPOSTagger as POS_Tag\n",
    "\n",
    "homepath = r'C:\\Users\\peter\\Documents\\Tools\\stanford-postagger-full-2017-06-09'\n",
    "taggerpath = os.path.join(homepath,r'models\\french.tagger')\n",
    "jarpath = os.path.join(homepath,'stanford-postagger.jar')\n",
    "\n",
    "st = POS_Tag(taggerpath,jarpath)"
   ]
  },
  {
   "cell_type": "markdown",
   "metadata": {},
   "source": [
    "### Test sent tokenizer"
   ]
  },
  {
   "cell_type": "code",
   "execution_count": 11,
   "metadata": {
    "collapsed": false
   },
   "outputs": [
    {
     "ename": "FileNotFoundError",
     "evalue": "[Errno 2] No such file or directory: 'C:\\\\Users\\\\Gauthier\\\\Documents\\\\Tools\\\\corpus\\\\french\\\\wikipedia.txt'",
     "output_type": "error",
     "traceback": [
      "\u001b[0;31m---------------------------------------------------------------------------\u001b[0m",
      "\u001b[0;31mFileNotFoundError\u001b[0m                         Traceback (most recent call last)",
      "\u001b[0;32m<ipython-input-11-6af0584df99d>\u001b[0m in \u001b[0;36m<module>\u001b[0;34m()\u001b[0m\n\u001b[1;32m      2\u001b[0m \u001b[0msents\u001b[0m \u001b[1;33m=\u001b[0m \u001b[1;33m[\u001b[0m\u001b[1;33m]\u001b[0m\u001b[1;33m\u001b[0m\u001b[0m\n\u001b[1;32m      3\u001b[0m \u001b[1;33m\u001b[0m\u001b[0m\n\u001b[0;32m----> 4\u001b[0;31m \u001b[1;32mwith\u001b[0m \u001b[0mopen\u001b[0m\u001b[1;33m(\u001b[0m\u001b[0mdatapath\u001b[0m\u001b[1;33m,\u001b[0m \u001b[1;34m'r'\u001b[0m\u001b[1;33m,\u001b[0m \u001b[0mencoding\u001b[0m \u001b[1;33m=\u001b[0m \u001b[1;34m'latin-1'\u001b[0m\u001b[1;33m)\u001b[0m \u001b[1;32mas\u001b[0m \u001b[0mf\u001b[0m\u001b[1;33m:\u001b[0m\u001b[1;33m\u001b[0m\u001b[0m\n\u001b[0m\u001b[1;32m      5\u001b[0m     \u001b[1;32mfor\u001b[0m \u001b[0mline\u001b[0m \u001b[1;32min\u001b[0m \u001b[0mrange\u001b[0m\u001b[1;33m(\u001b[0m\u001b[0mlimit\u001b[0m\u001b[1;33m)\u001b[0m\u001b[1;33m:\u001b[0m\u001b[1;33m\u001b[0m\u001b[0m\n\u001b[1;32m      6\u001b[0m         \u001b[0msents\u001b[0m\u001b[1;33m.\u001b[0m\u001b[0mappend\u001b[0m\u001b[1;33m(\u001b[0m\u001b[0mnltk\u001b[0m\u001b[1;33m.\u001b[0m\u001b[0mtokenize\u001b[0m\u001b[1;33m.\u001b[0m\u001b[0msent_tokenize\u001b[0m\u001b[1;33m(\u001b[0m\u001b[0mf\u001b[0m\u001b[1;33m.\u001b[0m\u001b[0mreadline\u001b[0m\u001b[1;33m(\u001b[0m\u001b[1;33m)\u001b[0m\u001b[1;33m)\u001b[0m\u001b[1;33m)\u001b[0m\u001b[1;33m\u001b[0m\u001b[0m\n",
      "\u001b[0;31mFileNotFoundError\u001b[0m: [Errno 2] No such file or directory: 'C:\\\\Users\\\\Gauthier\\\\Documents\\\\Tools\\\\corpus\\\\french\\\\wikipedia.txt'"
     ]
    }
   ],
   "source": [
    "limit = 100\n",
    "sents = []\n",
    "\n",
    "with open(datapath, 'r', encoding = 'latin-1') as f:\n",
    "    for line in range(limit):\n",
    "        sents.append(nltk.tokenize.sent_tokenize(f.readline()))\n",
    "        \n",
    "print(sents[:10])"
   ]
  },
  {
   "cell_type": "markdown",
   "metadata": {},
   "source": [
    "### Test work tokenizer on first x lines"
   ]
  },
  {
   "cell_type": "code",
   "execution_count": 9,
   "metadata": {
    "collapsed": false
   },
   "outputs": [],
   "source": [
    "limit = 1000\n",
    "words = []\n",
    "\n",
    "with open(datapath, 'r', encoding = 'latin-1') as f:\n",
    "    for line in range(limit):\n",
    "        words.append(nltk.tokenize.word_tokenize(f.readline()))\n",
    "\n",
    "flat_words = [item for sublist in words for item in sublist]"
   ]
  },
  {
   "cell_type": "markdown",
   "metadata": {},
   "source": [
    "### Test POS tagger"
   ]
  },
  {
   "cell_type": "code",
   "execution_count": 5,
   "metadata": {
    "collapsed": false
   },
   "outputs": [
    {
     "name": "stdout",
     "output_type": "stream",
     "text": [
      "[('Je', 'CLS'), ('vous', 'CLO'), ('donne', 'V'), ('d’abord', 'NC'), ('les', 'DET'), ('ingrédients', 'NC'), ('de', 'P'), ('la', 'DET'), ('garniture', 'NC'), ('pour', 'P'), ('huit', 'DET'), ('personnes.Alors', 'NC'), (',', 'PUNC'), ('il', 'CLS'), ('vous', 'CLO'), ('faut', 'V'), ('deux', 'DET'), ('beaux', 'ADJ'), ('citrons', 'NC'), (',', 'PUNC'), ('bio', 'ADJ'), ('de', 'P'), ('préférence', 'NC'), (',', 'PUNC'), ('cent', 'DET'), ('grammes', 'NC'), ('de', 'P'), ('crème', 'N'), ('fraîche', 'ADJ'), (',', 'PUNC'), ('deux', 'DET'), ('gros', 'ADJ'), ('oeufs', 'NC'), ('et', 'CC'), ('cent', 'DET'), ('grammes', 'NC'), ('de', 'P'), ('sucre', 'NC'), ('semoule.Vous', 'NPP'), ('allez', 'V'), ('commencer', 'VINF'), ('par', 'P'), ('préparer', 'VINF'), ('une', 'DET'), ('pâte', 'NC'), ('brisée', 'VPP'), ('et', 'CC'), (',', 'PUNC'), ('une', 'DET'), ('fois', 'NC'), ('prête', 'ADJ'), (',', 'PUNC'), ('vous', 'CLS'), ('la', 'CLO'), ('laissez', 'V'), ('reposer', 'VINF'), ('au', 'P'), ('frigo', 'NC'), ('pendant', 'P'), ('deux', 'DET'), ('heures.Vous', 'NC'), ('préchauffez', 'V'), ('votre', 'DET'), ('four', 'NC'), ('à', 'P'), ('220', 'DET'), ('degrés', 'NC'), ('.', 'PUNC'), ('Ensuite', 'ADV'), (',', 'PUNC'), ('vous', 'CLS'), ('prélevez', 'V'), ('un', 'DET'), ('peu', 'ADV'), ('de', 'P'), ('zeste', 'NC'), ('de', 'P'), ('citron', 'NC'), ('et', 'CC'), ('vous', 'CLS'), ('mettez', 'V'), ('le', 'DET'), ('zeste', 'NC'), ('dans', 'P'), ('un', 'DET'), ('bol', 'NC'), ('.', 'PUNC'), ('Vous', 'CLS'), ('pouvez', 'V'), ('alors', 'ADV'), ('éplucher', 'VINF'), ('les', 'DET'), ('citrons', 'NC'), ('.', 'PUNC'), ('Une', 'DET'), ('fois', 'N'), ('épluchés', 'ADJ'), (',', 'PUNC'), ('vous', 'CLS'), ('les', 'CLO'), ('coupez', 'V'), ('en', 'P'), ('deux', 'DET'), ('et', 'CC'), ('vous', 'CLS'), ('prélevez', 'V'), ('la', 'DET'), ('chair', 'NC'), ('mais', 'CC'), ('pas', 'ADV'), ('les', 'DET'), ('peaux', 'NC'), ('blanches', 'ADJ'), ('.', 'PUNC'), ('Une', 'DET'), ('fois', 'NC'), ('terminé', 'VPP'), (',', 'PUNC'), ('vous', 'CLS'), ('allez', 'V'), ('mettre', 'VINF'), ('tout', 'DET'), ('ça', 'PRO'), ('dans', 'P'), ('un', 'DET'), ('mixer', 'NC'), ('.', 'PUNC'), ('Vous', 'CLS'), ('mixez', 'V'), ('et', 'CC'), ('vous', 'CLS'), ('mélangez', 'V'), ('avec', 'P'), ('la', 'DET'), ('crème', 'N'), ('fraîche', 'ADJ'), ('épaisse', 'ADJ'), (',', 'PUNC'), ('le', 'DET'), ('sucre', 'NC'), ('et', 'CC'), ('le', 'DET'), ('zeste', 'NC'), ('des', 'P'), ('citrons', 'NC'), ('.', 'PUNC'), ('Ensuite', 'ADV'), (',', 'PUNC'), ('vous', 'CLS'), ('ajoutez', 'V'), ('les', 'DET'), ('oeufs', 'NC'), ('.', 'PUNC'), ('Il', 'CLS'), ('faut', 'V'), ('bien', 'ADV'), ('battre', 'VINF'), ('pour', 'P'), ('que', 'C'), ('le', 'DET'), ('mélange', 'NC'), ('soit', 'VS'), ('crémeux.Voilà', 'NPP'), (',', 'PUNC'), ('c’est', 'NC'), ('presque', 'ADV'), ('terminé', 'VPP'), ('.', 'PUNC'), ('Il', 'CLS'), ('vous', 'CLO'), ('faut', 'V'), ('maintenant', 'ADV'), ('verser', 'VINF'), ('votre', 'DET'), ('mélange', 'NC'), ('sur', 'P'), ('la', 'DET'), ('pâte', 'NC'), ('abaissée', 'VPP'), (',', 'PUNC'), ('vous', 'CLS'), ('enfournez', 'V'), ('et', 'CC'), ('vous', 'CLS'), ('faites', 'V'), ('cuire', 'VINF'), ('.', 'PUNC'), ('Vous', 'CLS'), ('baissez', 'V'), ('le', 'DET'), ('four', 'NC'), ('à', 'P'), ('180', 'DET'), ('degrés', 'NC'), (',', 'PUNC'), ('vous', 'CLS'), ('surveillez', 'V'), ('et', 'CC'), ('vous', 'CLS'), ('sortez', 'V'), ('votre', 'DET'), ('tarte', 'N'), ('après', 'P'), ('trente', 'DET'), ('minutes', 'NC'), ('de', 'P'), ('cuisson', 'DET'), ('.', 'PUNC'), ('C’est', 'DET'), ('tout.Je', 'NC'), ('vous', 'CLO'), ('souhaite', 'V'), ('un', 'DET'), ('bon', 'ADJ'), ('appétit', 'NC'), ('!', 'PUNC')]\n"
     ]
    }
   ],
   "source": [
    "import os\n",
    "java_path = r\"C:\\Program Files (x86)\\Java\\jre1.8.0_144\\bin\\java.exe\"\n",
    "os.environ['JAVAHOME'] = java_path\n",
    "\n",
    "text = 'Je vous donne d’abord les ingrédients de la garniture pour huit personnes.Alors, il vous faut deux beaux citrons, bio de préférence, cent grammes de crème fraîche, deux gros oeufs et cent grammes de sucre semoule.Vous allez commencer par préparer une pâte brisée et, une fois prête, vous la laissez reposer au frigo pendant deux heures.Vous préchauffez votre four à 220 degrés. Ensuite, vous prélevez un peu de zeste de citron et vous mettez le zeste dans un bol. Vous pouvez alors éplucher les citrons. Une fois épluchés, vous les coupez en deux et vous prélevez la chair mais pas les peaux blanches. Une fois terminé, vous allez mettre tout ça dans un mixer. Vous mixez et vous mélangez avec la crème fraîche épaisse, le sucre et le zeste des citrons. Ensuite, vous ajoutez les oeufs. Il faut bien battre pour que le mélange soit crémeux.Voilà, c’est presque terminé. Il vous faut maintenant verser votre mélange sur la pâte abaissée, vous enfournez et vous faites cuire. Vous baissez le four à 180 degrés, vous surveillez et vous sortez votre tarte après trente minutes de cuisson. C’est tout.Je vous souhaite un bon appétit !'\n",
    "\n",
    "tokenized_text = nltk.tokenize.word_tokenize(text)\n",
    "\n",
    "classified_text = st.tag(tokenized_text)\n",
    "\n",
    "print(classified_text)"
   ]
  },
  {
   "cell_type": "markdown",
   "metadata": {},
   "source": [
    "V\t\t\tV\t\tindicative verb\n",
    "\n",
    "VS\t\t\tV\t\tsubjonctive verb\n",
    "\n",
    "VINF\t\tV\t\tinfinitival verb\n",
    "\n",
    "VPP\t\t\tV\t\tpast participle\n",
    "\n",
    "VPR\t\t\tV\t\tpresent participle\n",
    "\n",
    "VIMP\t\tV\t\timperative verb\n",
    "\n",
    "NC\t\t\tN\t\tcommon noun\n",
    "\n",
    "NPP\t\t\tN\t\tpropoer noun\n",
    "\n",
    "CS\t\t\tC\t\tcoordinating conjunction\n",
    "\n",
    "CC\t\t\tC\t\tsubordinating conjunction (complementizer)\n",
    "\n",
    "CLS\t\t\tCL\t\tnominative clitic\n",
    "\n",
    "CLO\t\t\tCL\t\taccusative or dative clitic\n",
    "\n",
    "CLR\t\t\tCL\t\treflexive clitic (whether its interpretation is truly reflexive or not)\n",
    "\n",
    "P\t\t\tP\t\tnon amalgamated preposition\n",
    "\n",
    "P+D\t\t\tP+D\t\tprep+determiner amalgam\n",
    "\n",
    "P+PRO\t\tP+PRO\tprep+relative pronoun amalgam (auquel (to which))\n",
    "\n",
    "I\t\t\tI\t\tinterjection\n",
    "\n",
    "PONCT\t\tPONCT\t\tpunctuation\n",
    "\n",
    "ET\t\t\tET\t\tforeign words, with a POS that is not guessable from context\n",
    "\n",
    "ADJ\t\t\tA\t\tnon interrogative adjectives\n",
    "\n",
    "ADJWH\t\tA\t\tinterrogative adjectives\n",
    "\n",
    "ADV\t\t\tADV\t\tnon interrogative adjectives\n",
    "\n",
    "ADVWH\t\tADV\t\tinterrogative adjectives\n",
    "\n",
    "PRO\t\t\tPRO\t\tneither relative nor interrogative pronouns\n",
    "\n",
    "PROREL\t\tPRO\t\trelative pronouns\n",
    "\n",
    "PROWH\t\tPRO\t\tinterrogative pronouns\n",
    "\n",
    "DET\t\t\tD\t\tnon interrogative nor relative determiners\n",
    "\n",
    "DETWH\t\tD\t\tinterrogative or relative determiners"
   ]
  },
  {
   "cell_type": "markdown",
   "metadata": {},
   "source": [
    "### Lemma's\n",
    "Might prove a bit difficult, so let's try with Treetagger, which supposedly both tags and lemmatizes your text:"
   ]
  },
  {
   "cell_type": "code",
   "execution_count": 8,
   "metadata": {
    "collapsed": false
   },
   "outputs": [
    {
     "name": "stdout",
     "output_type": "stream",
     "text": [
      "[['etape', 'blanc', 'poulet', 'petit', 'morceau', 'etape', 'pendant', 'temps', 'champignon', 'foi|fois', 'tête', 'petit', 'morceau', 'etape', 'faire', 'poulet', 'beurre', 'cesse', 'etape', 'fin', 'cuisson', 'beurre', 'champignon', 'etape', 'riz', 'purée', 'etape', 'roux', 'farine', 'beurre', 'etape', 'litre', 'bouillon', 'poule', 'bouillon', 'litre', 'eau', 'bouillant', 'jus', 'citron', 'etape', 'poêlon', 'beurre', 'farine', 'grumeau', 'etape', 'rajouter', 'petit', 'petit', 'bouillon', 'sauce', 'jus', 'citron', 'sel', 'poivre', 'etape', 'foi|fois', 'viande', 'champignon', 'feu', 'sauce', 'etape', 'bouchée', 'préparation', 'four', 'min', 'etape', 'garniture', 'bol', 'riz', 'purée'], ['etape', 'four', 'thermostat', 'etape', 'aubergine', 'minute', 'four', 'foi|fois', 'chair', 'etape', 'bol', 'chair', 'persil', 'tomate', 'poivron', 'morcaux', 'mayonnaise', 'amora', 'etape', 'aubergine', 'mélange', 'four', 'minute'], ['etape', 'casserole', 'eau', 'bouillant', 'cube', 'bouillon', 'filet', 'poulet', 'minute', 'poulet', 'etape', 'éplucher', 'carotte', 'dé', 'petit', 'pois', 'minute', 'casserole', 'eau', 'bouillant', 'etape', 'saladier', 'légume', 'poulet', 'etape', 'casserole', 'beurre', 'feu', 'doux', 'farine', 'lait', 'minute', 'etape', 'en', 'feu', 'jaune', 'œuf', 'gruyère', 'mélange', 'saladier', 'légume', 'poulet', 'heure', 'réfrigérateur', 'etape', 'main', 'emporte-pièce', 'croquette', 'personne', 'chapelure', 'etape', 'poêle', 'feu', 'moyen', 'croquette', 'minute', 'côté', 'filet', 'huile', 'olive', 'etape', 'croquette'], ['etape', 'épaule', 'veau', 'cube', 'minute', 'eau', 'etape', 'éplucher', 'légume', 'clou', 'girofle', 'oignon', 'etape', 'faitout', 'eau', 'froid', 'viande', 'légume', 'feu', 'doux', 'etape', 'casserole', 'roux', 'blanc', 'farine', 'beurre', 'bol', 'jaune', 'œuf', 'crème', 'frais', 'moutarde', 'etape', 'foi|fois', 'cuit', 'viande', 'louche', 'bouillon', 'saladier', 'film', 'alimentaire', 'etape', 'bouillon', 'roux', 'ébullition', 'consistance', 'épais', 'petit', 'petit', 'mélange', 'œuf', 'crème', 'moutarde', 'etape', 'moment', 'viande', 'sauce'], ['etape', 'four', 'thermostat', 'etape', 'laver', 'carotte', 'pomme', 'terre', 'cube', 'oignon', 'gousse', 'ail', 'etape', 'moutarde', 'tranche', 'pain', 'mie', 'etape', 'huile', 'cocotte', 'morceau', 'bœuf', 'bourguignon', 'face', 'côté', 'saladier', 'etape', 'cube', 'carotte', 'pomme', 'terre', 'oignon', 'minute', 'morceau', 'bœuf', 'vin', 'rouge', 'minute', 'etape', 'fond', 'veau', 'laurier', 'thym', 'ail', 'etape', 'poser', 'pain', 'mie', 'dessus', 'côté', 'moutarde', 'bas', 'four', 'minute', 'etape', 'bœuf', 'bourguignon', 'morceau', 'viande', 'légume', 'plat', 'service', 'laurier', 'thym', 'etape', 'sauce', 'tranche', 'mie', 'pain', 'chinois', 'etape', 'viande', 'sauce', 'chaud'], ['etape', 'four', 'thermostat', 'etape', 'gigot', 'agneau', 'gros', 'morceau', 'bol', 'oignon', 'haché', 'ail', 'cumin', 'jus', 'demi-citron', 'huile', 'heure', 'etape', 'pique', 'brochette', 'morceau', 'gigot', 'lamelle', 'oignon', 'etape', 'brochette', 'minute', 'face', 'poêle', 'chaud', 'etape', 'concombre', 'dé', 'menthe', 'huile', 'olive', 'dernier', 'oignon', 'haché', 'etape', 'brochette', 'agneau', 'verrine', 'sauce'], ['etape', 'onglet', 'bœuf', 'gros', 'morceau', 'etape', 'saladier', 'moutarde', 'ail', 'huile', 'olive', 'viande', 'etape', 'film', 'alimentaire', 'matinée', 'réfrigérateur', 'etape', 'saladier', 'poivron', 'oignon', 'sel', 'poivre', 'huile', 'olive', 'thym', 'frais', 'etape', 'brochette', 'morceau', 'onglet', 'bœuf', 'légume', 'barbecue', 'gril', 'four', 'note', 'auteur', 'brochette', 'mayonnaise'], ['etape', 'porter', 'faitout', 'eau', 'ébullition', 'pomme', 'terre', 'robe', 'champ', 'etape', 'pendant', 'pomme', 'terre', 'tomate', 'dé', 'oignon', 'quartier', 'crevette', 'etape', 'crevette', 'pique', 'brochette', 'alternant', 'oignon', 'mayonnaise', 'frais', 'etape', 'mayonnaise', 'amora', 'casserole', 'bouillon', 'volaille', 'etape', 'sauce', 'siphon', 'seul', 'foi|fois', 'siphon', 'bain-marie', 'petit', 'frémissement', 'etape', 'mettre', 'brochette', 'crevette', 'four', 'position', 'gril', 'mi-cuisson', 'etape', 'pomme', 'terre', 'fourchette', 'aide', 'écrase-purée', 'beurre', 'etape', 'tomate', 'dé', 'etape', 'moment', 'purée', 'centre', 'assiette', 'brochette', 'siphon', 'émulsion', 'mayonnaise']]\n"
     ]
    }
   ],
   "source": [
    "import os\n",
    "import pprint\n",
    "import treetaggerwrapper\n",
    "tagger = treetaggerwrapper.TreeTagger(TAGLANG='fr')\n",
    "lemma_docs= []\n",
    "\n",
    "recipe_path = r'C:\\Users\\peter\\Documents\\GitHub\\datascience\\nlp\\French NLP\\marmitton'\n",
    "for filename in os.listdir(recipe_path):\n",
    "    with open(os.path.join(recipe_path,filename),'r') as f:\n",
    "        tags = treetaggerwrapper.make_tags(tagger.tag_text(f.read()))\n",
    "        lemmas = [tag.lemma.lower() for tag in tags if (tag.pos == 'NOM' or tag.pos =='ADJ')]\n",
    "        lemma_docs.append(lemmas)\n",
    "        \n",
    "print(lemma_docs)\n"
   ]
  },
  {
   "cell_type": "markdown",
   "metadata": {},
   "source": [
    "Apply metric"
   ]
  },
  {
   "cell_type": "code",
   "execution_count": 173,
   "metadata": {
    "collapsed": false
   },
   "outputs": [],
   "source": [
    "import collections\n",
    "import numpy as np\n",
    "import pandas as pd\n",
    "\n",
    "\n",
    "def calc_metric(application,applications):\n",
    "    \n",
    "    # calc P(ingr)\n",
    "    \n",
    "    flat_list = [item for sublist in applications for item in sublist]\n",
    "    cnt_freqdist = collections.Counter(flat_list)\n",
    "    \n",
    "    metrics = []\n",
    "    \n",
    "    # calc P(ingr|application)\n",
    "    \n",
    "    application_freqdist = collections.Counter(application)\n",
    "        \n",
    "    for ingredient in application_freqdist.keys():\n",
    "            \n",
    "        p_ingr_app = (application_freqdist[ingredient] / len(application))\n",
    "        p_ingr = (cnt_freqdist[ingredient] / len(flat_list))\n",
    "            \n",
    "        metric = p_ingr_app * ((p_ingr_app - p_ingr) / (1 - p_ingr))\n",
    "        \n",
    "        metrics.append([ingredient,metric])\n",
    "        \n",
    "    headers = [\"ingredient\",'score']\n",
    "    df = pd.DataFrame(metrics, columns=headers).sort_values(by = 'score',ascending = False)\n",
    "    return df"
   ]
  },
  {
   "cell_type": "code",
   "execution_count": 176,
   "metadata": {
    "collapsed": false,
    "scrolled": true
   },
   "outputs": [
    {
     "name": "stdout",
     "output_type": "stream",
     "text": [
      "     ingredient     score\n",
      "0         etape  0.005901\n",
      "11       beurre  0.002313\n",
      "3         petit  0.002187\n",
      "7    champignon  0.001507\n",
      "20     bouillon  0.001130\n",
      "25       citron  0.000668\n",
      "15          riz  0.000668\n",
      "19        litre  0.000668\n",
      "24          jus  0.000605\n",
      "16        purée  0.000605\n",
      "18       farine  0.000542\n",
      "8      foi|fois  0.000478\n",
      "2        poulet  0.000414\n",
      "29        sauce  0.000350\n",
      "4       morceau  0.000221\n",
      "21        poule  0.000167\n",
      "28     rajouter  0.000167\n",
      "27      grumeau  0.000167\n",
      "26       poêlon  0.000167\n",
      "38    garniture  0.000167\n",
      "6         temps  0.000167\n",
      "34      bouchée  0.000167\n",
      "35  préparation  0.000167\n",
      "14      cuisson  0.000167\n",
      "13          fin  0.000167\n",
      "12        cesse  0.000167\n",
      "10        faire  0.000167\n",
      "9          tête  0.000167\n",
      "37          min  0.000167\n",
      "31       poivre  0.000135\n",
      "5       pendant  0.000135\n",
      "30          sel  0.000135\n",
      "1         blanc  0.000135\n",
      "23    bouillant  0.000103\n",
      "17         roux  0.000103\n",
      "39          bol  0.000071\n",
      "33          feu  0.000038\n",
      "22          eau  0.000006\n",
      "32       viande -0.000027\n",
      "36         four -0.000092\n",
      "    ingredient     score\n",
      "1         four  0.014639\n",
      "3    aubergine  0.007198\n",
      "6        chair  0.007198\n",
      "0        etape  0.007061\n",
      "4       minute  0.005521\n",
      "8       persil  0.001795\n",
      "11     morcaux  0.001795\n",
      "10     poivron  0.001700\n",
      "13       amora  0.001700\n",
      "2   thermostat  0.001604\n",
      "9       tomate  0.001604\n",
      "14     mélange  0.001604\n",
      "7          bol  0.001508\n",
      "5     foi|fois  0.001411\n",
      "12  mayonnaise  0.001411\n",
      "       ingredient     score\n",
      "7          poulet  0.003326\n",
      "8          minute  0.002611\n",
      "30      croquette  0.002024\n",
      "1       casserole  0.001811\n",
      "17            feu  0.001811\n",
      "6           filet  0.000898\n",
      "3       bouillant  0.000826\n",
      "15         légume  0.000608\n",
      "2             eau  0.000608\n",
      "14       saladier  0.000608\n",
      "28           main  0.000224\n",
      "24        gruyère  0.000224\n",
      "21             en  0.000224\n",
      "20           lait  0.000224\n",
      "31       personne  0.000224\n",
      "29  emporte-pièce  0.000224\n",
      "13           pois  0.000224\n",
      "32      chapelure  0.000224\n",
      "34          moyen  0.000224\n",
      "18           doux  0.000188\n",
      "33          poêle  0.000188\n",
      "9        éplucher  0.000188\n",
      "22          jaune  0.000188\n",
      "26          heure  0.000188\n",
      "27  réfrigérateur  0.000188\n",
      "10        carotte  0.000151\n",
      "23            œuf  0.000151\n",
      "25        mélange  0.000151\n",
      "35           côté  0.000151\n",
      "19         farine  0.000114\n",
      "37          olive  0.000114\n",
      "11             dé  0.000114\n",
      "4            cube  0.000114\n",
      "36          huile  0.000040\n",
      "16         beurre  0.000003\n",
      "5        bouillon  0.000003\n",
      "12          petit -0.000034\n",
      "0           etape -0.001487\n",
      "     ingredient     score\n",
      "13       viande  0.001962\n",
      "24        crème  0.001076\n",
      "23          œuf  0.000998\n",
      "17         roux  0.000998\n",
      "26     moutarde  0.000841\n",
      "5           eau  0.000762\n",
      "7        légume  0.000762\n",
      "30     bouillon  0.000683\n",
      "37        petit  0.000603\n",
      "12        froid  0.000268\n",
      "28         cuit  0.000268\n",
      "36        épais  0.000268\n",
      "29       louche  0.000268\n",
      "9       girofle  0.000268\n",
      "8          clou  0.000268\n",
      "35  consistance  0.000268\n",
      "1        épaule  0.000268\n",
      "22        jaune  0.000229\n",
      "32         film  0.000229\n",
      "33  alimentaire  0.000229\n",
      "34   ébullition  0.000229\n",
      "18        blanc  0.000229\n",
      "15         doux  0.000229\n",
      "11      faitout  0.000229\n",
      "6      éplucher  0.000229\n",
      "39       moment  0.000229\n",
      "2          veau  0.000229\n",
      "25        frais  0.000189\n",
      "38      mélange  0.000189\n",
      "21          bol  0.000149\n",
      "19       farine  0.000149\n",
      "3          cube  0.000149\n",
      "16    casserole  0.000109\n",
      "27     foi|fois  0.000109\n",
      "14          feu  0.000109\n",
      "31     saladier  0.000069\n",
      "20       beurre  0.000028\n",
      "40        sauce  0.000028\n",
      "10       oignon -0.000053\n",
      "4        minute -0.000135\n",
      "0         etape -0.002303\n",
      "     ingredient     score\n",
      "13         pain  0.001376\n",
      "14          mie  0.001376\n",
      "18         bœuf  0.001195\n",
      "17      morceau  0.000829\n",
      "23       minute  0.000644\n",
      "12      tranche  0.000610\n",
      "19  bourguignon  0.000610\n",
      "28      laurier  0.000610\n",
      "29         thym  0.000550\n",
      "21         côté  0.000550\n",
      "4       carotte  0.000550\n",
      "7          cube  0.000489\n",
      "10          ail  0.000489\n",
      "11     moutarde  0.000428\n",
      "6         terre  0.000428\n",
      "5         pomme  0.000428\n",
      "37        sauce  0.000304\n",
      "33       viande  0.000304\n",
      "8        oignon  0.000180\n",
      "1          four  0.000180\n",
      "16      cocotte  0.000152\n",
      "26         fond  0.000152\n",
      "30        poser  0.000152\n",
      "31       dessus  0.000152\n",
      "35         plat  0.000152\n",
      "32          bas  0.000152\n",
      "25        rouge  0.000152\n",
      "24          vin  0.000152\n",
      "36      service  0.000152\n",
      "9        gousse  0.000152\n",
      "3         laver  0.000152\n",
      "38      chinois  0.000152\n",
      "20         face  0.000122\n",
      "39        chaud  0.000122\n",
      "27         veau  0.000122\n",
      "2    thermostat  0.000091\n",
      "34       légume -0.000002\n",
      "22     saladier -0.000002\n",
      "15        huile -0.000002\n",
      "0         etape -0.000599\n",
      "     ingredient     score\n",
      "17    brochette  0.003469\n",
      "8        oignon  0.003319\n",
      "3         gigot  0.001868\n",
      "4        agneau  0.001868\n",
      "9         haché  0.001868\n",
      "14        huile  0.001465\n",
      "6       morceau  0.001158\n",
      "13  demi-citron  0.000466\n",
      "23    concombre  0.000466\n",
      "27      dernier  0.000466\n",
      "18      lamelle  0.000466\n",
      "28      verrine  0.000466\n",
      "25       menthe  0.000466\n",
      "11        cumin  0.000466\n",
      "16        pique  0.000415\n",
      "5          gros  0.000415\n",
      "20         face  0.000415\n",
      "21        poêle  0.000415\n",
      "22        chaud  0.000415\n",
      "15        heure  0.000415\n",
      "12          jus  0.000364\n",
      "2    thermostat  0.000364\n",
      "26        olive  0.000312\n",
      "10          ail  0.000312\n",
      "7           bol  0.000312\n",
      "24           dé  0.000312\n",
      "29        sauce  0.000157\n",
      "1          four  0.000052\n",
      "19       minute -0.000054\n",
      "0         etape -0.000410\n",
      "       ingredient     score\n",
      "1          onglet  0.002283\n",
      "9           olive  0.002063\n",
      "2            bœuf  0.001953\n",
      "5        saladier  0.001842\n",
      "8           huile  0.001842\n",
      "21      brochette  0.001618\n",
      "4         morceau  0.001506\n",
      "27         auteur  0.000569\n",
      "26           note  0.000569\n",
      "23       barbecue  0.000569\n",
      "13        matinée  0.000569\n",
      "15        poivron  0.000513\n",
      "18         poivre  0.000513\n",
      "17            sel  0.000513\n",
      "24           gril  0.000513\n",
      "14  réfrigérateur  0.000513\n",
      "12    alimentaire  0.000513\n",
      "3            gros  0.000513\n",
      "11           film  0.000513\n",
      "19           thym  0.000457\n",
      "20          frais  0.000457\n",
      "7             ail  0.000401\n",
      "28     mayonnaise  0.000344\n",
      "6        moutarde  0.000344\n",
      "22         légume  0.000287\n",
      "10         viande  0.000230\n",
      "16         oignon  0.000115\n",
      "25           four  0.000115\n",
      "0           etape -0.002025\n",
      "      ingredient     score\n",
      "25        siphon  0.001656\n",
      "14      crevette  0.001656\n",
      "18    mayonnaise  0.001461\n",
      "5          pomme  0.001461\n",
      "6          terre  0.001461\n",
      "16     brochette  0.001164\n",
      "10        tomate  0.000669\n",
      "11            dé  0.000603\n",
      "12        oignon  0.000268\n",
      "42        centre  0.000183\n",
      "43      assiette  0.000183\n",
      "26          seul  0.000183\n",
      "28    bain-marie  0.000183\n",
      "44      émulsion  0.000183\n",
      "1         porter  0.000183\n",
      "30  frémissement  0.000183\n",
      "31        mettre  0.000183\n",
      "33      position  0.000183\n",
      "35    mi-cuisson  0.000183\n",
      "36    fourchette  0.000183\n",
      "37          aide  0.000183\n",
      "23      volaille  0.000183\n",
      "38  écrase-purée  0.000183\n",
      "17     alternant  0.000183\n",
      "13      quartier  0.000183\n",
      "8          champ  0.000183\n",
      "7           robe  0.000183\n",
      "20         amora  0.000150\n",
      "40        moment  0.000150\n",
      "15         pique  0.000150\n",
      "9        pendant  0.000150\n",
      "34          gril  0.000150\n",
      "4     ébullition  0.000150\n",
      "2        faitout  0.000150\n",
      "41         purée  0.000117\n",
      "19         frais  0.000117\n",
      "21     casserole  0.000049\n",
      "27      foi|fois  0.000049\n",
      "3            eau  0.000015\n",
      "22      bouillon -0.000019\n",
      "39        beurre -0.000019\n",
      "24         sauce -0.000019\n",
      "29         petit -0.000053\n",
      "32          four -0.000087\n",
      "0          etape -0.001014\n"
     ]
    }
   ],
   "source": [
    "for application in lemma_docs:\n",
    "    print(calc_metric(application,lemma_docs))\n"
   ]
  },
  {
   "cell_type": "markdown",
   "metadata": {
    "collapsed": true
   },
   "source": [
    "### Test wordnet and synsets in French"
   ]
  },
  {
   "cell_type": "code",
   "execution_count": 200,
   "metadata": {
    "collapsed": false
   },
   "outputs": [
    {
     "name": "stdout",
     "output_type": "stream",
     "text": [
      "[Synset('cashew.n.02'), Synset('cashew.n.01')]\n"
     ]
    }
   ],
   "source": [
    "from nltk.corpus import wordnet as wn\n",
    "syns = wn.synsets('anacardier',lang='fra')\n",
    "print(syns)"
   ]
  },
  {
   "cell_type": "code",
   "execution_count": 198,
   "metadata": {
    "collapsed": false
   },
   "outputs": [
    {
     "ename": "OSError",
     "evalue": "No such file or directory: 'C:\\\\Users\\\\peter\\\\Documents\\\\Tools\\\\nltk\\\\corpora\\\\wordnet_ic\\\\ic-brown.dat'",
     "output_type": "error",
     "traceback": [
      "\u001b[0;31m---------------------------------------------------------------------------\u001b[0m",
      "\u001b[0;31mOSError\u001b[0m                                   Traceback (most recent call last)",
      "\u001b[0;32m<ipython-input-198-d129b0838068>\u001b[0m in \u001b[0;36m<module>\u001b[0;34m()\u001b[0m\n\u001b[1;32m      9\u001b[0m \u001b[1;33m\u001b[0m\u001b[0m\n\u001b[1;32m     10\u001b[0m \u001b[1;32mfrom\u001b[0m \u001b[0mnltk\u001b[0m\u001b[1;33m.\u001b[0m\u001b[0mcorpus\u001b[0m \u001b[1;32mimport\u001b[0m \u001b[0mwordnet_ic\u001b[0m\u001b[1;33m\u001b[0m\u001b[0m\n\u001b[0;32m---> 11\u001b[0;31m \u001b[0mbrown_ic\u001b[0m \u001b[1;33m=\u001b[0m \u001b[0mwordnet_ic\u001b[0m\u001b[1;33m.\u001b[0m\u001b[0mic\u001b[0m\u001b[1;33m(\u001b[0m\u001b[1;34mr'C:\\Users\\peter\\Documents\\Tools\\nltk\\corpora\\wordnet_ic\\ic-brown.dat'\u001b[0m\u001b[1;33m)\u001b[0m\u001b[1;33m\u001b[0m\u001b[0m\n\u001b[0m\u001b[1;32m     12\u001b[0m \u001b[1;33m\u001b[0m\u001b[0m\n\u001b[1;32m     13\u001b[0m \u001b[0mingredient\u001b[0m\u001b[1;33m.\u001b[0m\u001b[0mlin_similarity\u001b[0m\u001b[1;33m(\u001b[0m\u001b[0mcashew\u001b[0m\u001b[1;33m,\u001b[0m\u001b[0mbrown_ic\u001b[0m\u001b[1;33m)\u001b[0m\u001b[1;33m\u001b[0m\u001b[0m\n",
      "\u001b[0;32mC:\\Users\\peter\\Anaconda3\\lib\\site-packages\\nltk\\corpus\\reader\\wordnet.py\u001b[0m in \u001b[0;36mic\u001b[0;34m(self, icfile)\u001b[0m\n\u001b[1;32m   1815\u001b[0m         \u001b[0mic\u001b[0m\u001b[1;33m[\u001b[0m\u001b[0mNOUN\u001b[0m\u001b[1;33m]\u001b[0m \u001b[1;33m=\u001b[0m \u001b[0mdefaultdict\u001b[0m\u001b[1;33m(\u001b[0m\u001b[0mfloat\u001b[0m\u001b[1;33m)\u001b[0m\u001b[1;33m\u001b[0m\u001b[0m\n\u001b[1;32m   1816\u001b[0m         \u001b[0mic\u001b[0m\u001b[1;33m[\u001b[0m\u001b[0mVERB\u001b[0m\u001b[1;33m]\u001b[0m \u001b[1;33m=\u001b[0m \u001b[0mdefaultdict\u001b[0m\u001b[1;33m(\u001b[0m\u001b[0mfloat\u001b[0m\u001b[1;33m)\u001b[0m\u001b[1;33m\u001b[0m\u001b[0m\n\u001b[0;32m-> 1817\u001b[0;31m         \u001b[1;32mfor\u001b[0m \u001b[0mnum\u001b[0m\u001b[1;33m,\u001b[0m \u001b[0mline\u001b[0m \u001b[1;32min\u001b[0m \u001b[0menumerate\u001b[0m\u001b[1;33m(\u001b[0m\u001b[0mself\u001b[0m\u001b[1;33m.\u001b[0m\u001b[0mopen\u001b[0m\u001b[1;33m(\u001b[0m\u001b[0micfile\u001b[0m\u001b[1;33m)\u001b[0m\u001b[1;33m)\u001b[0m\u001b[1;33m:\u001b[0m\u001b[1;33m\u001b[0m\u001b[0m\n\u001b[0m\u001b[1;32m   1818\u001b[0m             \u001b[1;32mif\u001b[0m \u001b[0mnum\u001b[0m \u001b[1;33m==\u001b[0m \u001b[1;36m0\u001b[0m\u001b[1;33m:\u001b[0m \u001b[1;31m# skip the header\u001b[0m\u001b[1;33m\u001b[0m\u001b[0m\n\u001b[1;32m   1819\u001b[0m                 \u001b[1;32mcontinue\u001b[0m\u001b[1;33m\u001b[0m\u001b[0m\n",
      "\u001b[0;32mC:\\Users\\peter\\Anaconda3\\lib\\site-packages\\nltk\\corpus\\reader\\api.py\u001b[0m in \u001b[0;36mopen\u001b[0;34m(self, file)\u001b[0m\n\u001b[1;32m    209\u001b[0m         \"\"\"\n\u001b[1;32m    210\u001b[0m         \u001b[0mencoding\u001b[0m \u001b[1;33m=\u001b[0m \u001b[0mself\u001b[0m\u001b[1;33m.\u001b[0m\u001b[0mencoding\u001b[0m\u001b[1;33m(\u001b[0m\u001b[0mfile\u001b[0m\u001b[1;33m)\u001b[0m\u001b[1;33m\u001b[0m\u001b[0m\n\u001b[0;32m--> 211\u001b[0;31m         \u001b[0mstream\u001b[0m \u001b[1;33m=\u001b[0m \u001b[0mself\u001b[0m\u001b[1;33m.\u001b[0m\u001b[0m_root\u001b[0m\u001b[1;33m.\u001b[0m\u001b[0mjoin\u001b[0m\u001b[1;33m(\u001b[0m\u001b[0mfile\u001b[0m\u001b[1;33m)\u001b[0m\u001b[1;33m.\u001b[0m\u001b[0mopen\u001b[0m\u001b[1;33m(\u001b[0m\u001b[0mencoding\u001b[0m\u001b[1;33m)\u001b[0m\u001b[1;33m\u001b[0m\u001b[0m\n\u001b[0m\u001b[1;32m    212\u001b[0m         \u001b[1;32mreturn\u001b[0m \u001b[0mstream\u001b[0m\u001b[1;33m\u001b[0m\u001b[0m\n\u001b[1;32m    213\u001b[0m \u001b[1;33m\u001b[0m\u001b[0m\n",
      "\u001b[0;32mC:\\Users\\peter\\Anaconda3\\lib\\site-packages\\nltk\\data.py\u001b[0m in \u001b[0;36mjoin\u001b[0;34m(self, fileid)\u001b[0m\n\u001b[1;32m    320\u001b[0m     \u001b[1;32mdef\u001b[0m \u001b[0mjoin\u001b[0m\u001b[1;33m(\u001b[0m\u001b[0mself\u001b[0m\u001b[1;33m,\u001b[0m \u001b[0mfileid\u001b[0m\u001b[1;33m)\u001b[0m\u001b[1;33m:\u001b[0m\u001b[1;33m\u001b[0m\u001b[0m\n\u001b[1;32m    321\u001b[0m         \u001b[0m_path\u001b[0m \u001b[1;33m=\u001b[0m \u001b[0mos\u001b[0m\u001b[1;33m.\u001b[0m\u001b[0mpath\u001b[0m\u001b[1;33m.\u001b[0m\u001b[0mjoin\u001b[0m\u001b[1;33m(\u001b[0m\u001b[0mself\u001b[0m\u001b[1;33m.\u001b[0m\u001b[0m_path\u001b[0m\u001b[1;33m,\u001b[0m \u001b[0mfileid\u001b[0m\u001b[1;33m)\u001b[0m\u001b[1;33m\u001b[0m\u001b[0m\n\u001b[0;32m--> 322\u001b[0;31m         \u001b[1;32mreturn\u001b[0m \u001b[0mFileSystemPathPointer\u001b[0m\u001b[1;33m(\u001b[0m\u001b[0m_path\u001b[0m\u001b[1;33m)\u001b[0m\u001b[1;33m\u001b[0m\u001b[0m\n\u001b[0m\u001b[1;32m    323\u001b[0m \u001b[1;33m\u001b[0m\u001b[0m\n\u001b[1;32m    324\u001b[0m     \u001b[1;32mdef\u001b[0m \u001b[0m__repr__\u001b[0m\u001b[1;33m(\u001b[0m\u001b[0mself\u001b[0m\u001b[1;33m)\u001b[0m\u001b[1;33m:\u001b[0m\u001b[1;33m\u001b[0m\u001b[0m\n",
      "\u001b[0;32mC:\\Users\\peter\\Anaconda3\\lib\\site-packages\\nltk\\compat.py\u001b[0m in \u001b[0;36m_decorator\u001b[0;34m(*args, **kwargs)\u001b[0m\n\u001b[1;32m    364\u001b[0m     \u001b[1;32mdef\u001b[0m \u001b[0m_decorator\u001b[0m\u001b[1;33m(\u001b[0m\u001b[1;33m*\u001b[0m\u001b[0margs\u001b[0m\u001b[1;33m,\u001b[0m \u001b[1;33m**\u001b[0m\u001b[0mkwargs\u001b[0m\u001b[1;33m)\u001b[0m\u001b[1;33m:\u001b[0m\u001b[1;33m\u001b[0m\u001b[0m\n\u001b[1;32m    365\u001b[0m         \u001b[0margs\u001b[0m \u001b[1;33m=\u001b[0m \u001b[1;33m(\u001b[0m\u001b[0margs\u001b[0m\u001b[1;33m[\u001b[0m\u001b[1;36m0\u001b[0m\u001b[1;33m]\u001b[0m\u001b[1;33m,\u001b[0m \u001b[0madd_py3_data\u001b[0m\u001b[1;33m(\u001b[0m\u001b[0margs\u001b[0m\u001b[1;33m[\u001b[0m\u001b[1;36m1\u001b[0m\u001b[1;33m]\u001b[0m\u001b[1;33m)\u001b[0m\u001b[1;33m)\u001b[0m \u001b[1;33m+\u001b[0m \u001b[0margs\u001b[0m\u001b[1;33m[\u001b[0m\u001b[1;36m2\u001b[0m\u001b[1;33m:\u001b[0m\u001b[1;33m]\u001b[0m\u001b[1;33m\u001b[0m\u001b[0m\n\u001b[0;32m--> 366\u001b[0;31m         \u001b[1;32mreturn\u001b[0m \u001b[0minit_func\u001b[0m\u001b[1;33m(\u001b[0m\u001b[1;33m*\u001b[0m\u001b[0margs\u001b[0m\u001b[1;33m,\u001b[0m \u001b[1;33m**\u001b[0m\u001b[0mkwargs\u001b[0m\u001b[1;33m)\u001b[0m\u001b[1;33m\u001b[0m\u001b[0m\n\u001b[0m\u001b[1;32m    367\u001b[0m     \u001b[1;32mreturn\u001b[0m \u001b[0mwraps\u001b[0m\u001b[1;33m(\u001b[0m\u001b[0minit_func\u001b[0m\u001b[1;33m)\u001b[0m\u001b[1;33m(\u001b[0m\u001b[0m_decorator\u001b[0m\u001b[1;33m)\u001b[0m\u001b[1;33m\u001b[0m\u001b[0m\n\u001b[1;32m    368\u001b[0m \u001b[1;33m\u001b[0m\u001b[0m\n",
      "\u001b[0;32mC:\\Users\\peter\\Anaconda3\\lib\\site-packages\\nltk\\data.py\u001b[0m in \u001b[0;36m__init__\u001b[0;34m(self, _path)\u001b[0m\n\u001b[1;32m    298\u001b[0m         \u001b[0m_path\u001b[0m \u001b[1;33m=\u001b[0m \u001b[0mos\u001b[0m\u001b[1;33m.\u001b[0m\u001b[0mpath\u001b[0m\u001b[1;33m.\u001b[0m\u001b[0mabspath\u001b[0m\u001b[1;33m(\u001b[0m\u001b[0m_path\u001b[0m\u001b[1;33m)\u001b[0m\u001b[1;33m\u001b[0m\u001b[0m\n\u001b[1;32m    299\u001b[0m         \u001b[1;32mif\u001b[0m \u001b[1;32mnot\u001b[0m \u001b[0mos\u001b[0m\u001b[1;33m.\u001b[0m\u001b[0mpath\u001b[0m\u001b[1;33m.\u001b[0m\u001b[0mexists\u001b[0m\u001b[1;33m(\u001b[0m\u001b[0m_path\u001b[0m\u001b[1;33m)\u001b[0m\u001b[1;33m:\u001b[0m\u001b[1;33m\u001b[0m\u001b[0m\n\u001b[0;32m--> 300\u001b[0;31m             \u001b[1;32mraise\u001b[0m \u001b[0mIOError\u001b[0m\u001b[1;33m(\u001b[0m\u001b[1;34m'No such file or directory: %r'\u001b[0m \u001b[1;33m%\u001b[0m \u001b[0m_path\u001b[0m\u001b[1;33m)\u001b[0m\u001b[1;33m\u001b[0m\u001b[0m\n\u001b[0m\u001b[1;32m    301\u001b[0m         \u001b[0mself\u001b[0m\u001b[1;33m.\u001b[0m\u001b[0m_path\u001b[0m \u001b[1;33m=\u001b[0m \u001b[0m_path\u001b[0m\u001b[1;33m\u001b[0m\u001b[0m\n\u001b[1;32m    302\u001b[0m \u001b[1;33m\u001b[0m\u001b[0m\n",
      "\u001b[0;31mOSError\u001b[0m: No such file or directory: 'C:\\\\Users\\\\peter\\\\Documents\\\\Tools\\\\nltk\\\\corpora\\\\wordnet_ic\\\\ic-brown.dat'"
     ]
    }
   ],
   "source": [
    "from nltk.corpus import wordnet as wn\n",
    "\n",
    "cashew = wn.synset(\"cashew.n.01\")\n",
    "ingredient = wn.synset(\"nut_tree.n.01\")\n",
    "\n",
    "cashew.path_similarity(ingredient)"
   ]
  },
  {
   "cell_type": "code",
   "execution_count": null,
   "metadata": {
    "collapsed": true
   },
   "outputs": [],
   "source": []
  }
 ],
 "metadata": {
  "kernelspec": {
   "display_name": "Python 3",
   "language": "python",
   "name": "python3"
  },
  "language_info": {
   "codemirror_mode": {
    "name": "ipython",
    "version": 3
   },
   "file_extension": ".py",
   "mimetype": "text/x-python",
   "name": "python",
   "nbconvert_exporter": "python",
   "pygments_lexer": "ipython3",
   "version": "3.6.0"
  }
 },
 "nbformat": 4,
 "nbformat_minor": 2
}
