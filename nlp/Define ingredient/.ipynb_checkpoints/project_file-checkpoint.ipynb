{
 "cells": [
  {
   "cell_type": "markdown",
   "metadata": {},
   "source": [
    "# Case test FoodPairing"
   ]
  },
  {
   "cell_type": "markdown",
   "metadata": {},
   "source": [
    "In the notebook below, you can find my structure, rationale and implementation of the several required steps in the interview case. To the extent possible, each step is documented and properly organised. Wherever assumpations have been made, albeit on the data or on the methodologies used, this is clearly stated in the comments. "
   ]
  },
  {
   "cell_type": "markdown",
   "metadata": {},
   "source": [
    "## Basic imports"
   ]
  },
  {
   "cell_type": "markdown",
   "metadata": {},
   "source": [
    "Other specific imports are included where necessary, but the main ones are included here"
   ]
  },
  {
   "cell_type": "code",
   "execution_count": 1,
   "metadata": {
    "collapsed": false
   },
   "outputs": [],
   "source": [
    "import numpy as np\n",
    "import matplotlib.pyplot as plt\n",
    "import seaborn as sns\n",
    "import pandas as pd\n",
    "from pymongo import MongoClient\n",
    "from pprint import pprint\n",
    "import json"
   ]
  },
  {
   "cell_type": "markdown",
   "metadata": {},
   "source": [
    "The JSON file has been preloaded to MongoDB using the command prompt: \"mongoimport --db test --collection foodpairing --drop --file C:\\Users\\dehaeth\\Documents\\Tools\\test\\kitchen-raw-fp.MenuItem.json\""
   ]
  },
  {
   "cell_type": "markdown",
   "metadata": {},
   "source": [
    "## Connecting to MongoDB"
   ]
  },
  {
   "cell_type": "code",
   "execution_count": 2,
   "metadata": {
    "collapsed": true
   },
   "outputs": [],
   "source": [
    "client = MongoClient('localhost:27017')\n",
    "db = client['test']"
   ]
  },
  {
   "cell_type": "markdown",
   "metadata": {},
   "source": [
    "## Data exploration\n",
    "\n",
    "As a general note, I can only analyse so much about the information. I would also love to know how it was collected, what the data sources were, if there was any preprocessing or not, etc."
   ]
  },
  {
   "cell_type": "markdown",
   "metadata": {},
   "source": [
    "#### Applications\n",
    "Checking out one record to view the structure."
   ]
  },
  {
   "cell_type": "code",
   "execution_count": 3,
   "metadata": {
    "collapsed": false,
    "scrolled": true
   },
   "outputs": [
    {
     "name": "stdout",
     "output_type": "stream",
     "text": [
      "{'_id': ObjectId('5874cde3359ea100106e726d'),\n",
      " 'description': 'Sweet organic raspberries, tart cranberries, crunchy almonds '\n",
      "                'and cocoa with fiber and protein. Try not to eat the wrapper. '\n",
      "                'Organic Dates, Organic Agave Nectar, Organic Cranberries '\n",
      "                '(Organic Cranberries, Organic Apple Juice Concentrate, '\n",
      "                'Organic Sunflower Oil), Organic Rice Protein Concentrate, '\n",
      "                'Organic Cashew Butter (Organic Cashews, Organic Sunflower '\n",
      "                'Oil), Organic Almonds, Organic Walnuts, Organic Cocoa, '\n",
      "                'Organic Raspberry, Organic Natural Flavors. Contains Cashews, '\n",
      "                'Almonds, Walnuts.  Certified organic, gluten-free, non-GMO, '\n",
      "                'and vegan , Pure Bars provide completely clean and balanced '\n",
      "                'nutrition in an enticing and entirely delicious bar. Made '\n",
      "                'with only simple, real ingredients, Pure Bar will nurture '\n",
      "                'your body, mind, and spirit.',\n",
      " 'name': 'Pure Fruit and Nut Bar - Dark Chocolate Berry',\n",
      " 'price': '2.50',\n",
      " 'priceasaverage': 2.5,\n",
      " 'priceasdouble': [2.5],\n",
      " 'priceasnumber': ['2.50'],\n",
      " 'tags': [{'kind': 'concept', 'name': 'sandwich'},\n",
      "          {'kind': 'section', 'name': 'healthy and organic snacks'},\n",
      "          {'kind': 'concept', 'name': 'fruit'},\n",
      "          {'kind': 'concept', 'name': 'chocolate'}],\n",
      " 'venue': {'address': '9215 149th St, Jamaica, NY, 11435',\n",
      "           'name': 'Cafe Energy'}}\n"
     ]
    }
   ],
   "source": [
    "pprint(db.foodpairing.find_one())"
   ]
  },
  {
   "cell_type": "markdown",
   "metadata": {},
   "source": [
    "#### Remarks\n",
    "The relevant features for this exercise will definitely be:\n",
    "- name\n",
    "- description\n",
    "- tags\n",
    "\n",
    "I don't see the price in this business case being very relevant. However, I can definitely see how this would be relevant into building a recommendation engine. \n",
    "\n",
    "Let's gather some basic stats about these three features:"
   ]
  },
  {
   "cell_type": "code",
   "execution_count": 4,
   "metadata": {
    "collapsed": false
   },
   "outputs": [
    {
     "name": "stdout",
     "output_type": "stream",
     "text": [
      "number of applications in database: 842755\n",
      "--- uniqueness of data ---\n",
      "number of unique names: 219619\n",
      "number of unique descriptions: 334062\n",
      "--- completeness of data ---\n",
      "number with filled in name: 842755\n",
      "number with filled in description: 776338\n",
      "number with filled in tags: 842755\n"
     ]
    }
   ],
   "source": [
    "print(\"number of applications in database: \" + str(db.foodpairing.count()))\n",
    "\n",
    "print(\"--- uniqueness of data ---\")\n",
    "print(\"number of unique names: \" + str(len(db.foodpairing.distinct( \"name\"))))\n",
    "print(\"number of unique descriptions: \" + str([item for item in db.foodpairing.aggregate( [\n",
    "    {\"$group\": {\"_id\":\"$description\"}},\n",
    "    {\"$group\": {\"_id\": None, \"total\": {\"$sum\": 1}}}])][0][\"total\"]))\n",
    "\n",
    "print(\"--- completeness of data ---\")\n",
    "print(\"number with filled in name: \" + str([item for item in db.foodpairing.aggregate( [\n",
    "    {\"$match\": {\"name\" : {\"$exists\" : True, \"$ne\" : \"\"}}},\n",
    "    {\"$group\": {\"_id\": None, \"total\": {\"$sum\": 1}}}])][0][\"total\"]))\n",
    "print(\"number with filled in description: \" + str([item for item in db.foodpairing.aggregate( [\n",
    "    {\"$match\": {\"description\" : {\"$exists\" : True, \"$ne\" : \"\"}}},\n",
    "    {\"$group\": {\"_id\": None, \"total\": {\"$sum\": 1}}}])][0][\"total\"]))\n",
    "print(\"number with filled in tags: \"+ str([item for item in db.foodpairing.aggregate( [\n",
    "    {\"$match\": {\"tags\" : {\"$exists\" : True, \"$not\" : {\"$size\": 0}}}},\n",
    "    {\"$group\": {\"_id\": None, \"total\": {\"$sum\": 1}}}])][0][\"total\"]))"
   ]
  },
  {
   "cell_type": "markdown",
   "metadata": {},
   "source": [
    "Because the description seems like the most likely place to extract ingredients from, we will have to find a solution for that. Since all tags are filled in, maybe those can serve as a proxy.\n",
    "\n",
    "Also, since there seem to be a lot of non-unique applications, this will also be something to take into account."
   ]
  },
  {
   "cell_type": "markdown",
   "metadata": {},
   "source": [
    "#### Menu item\n",
    "Executing one menu item query to verify the result. One thing that again is immediately apparent from the output is double entries."
   ]
  },
  {
   "cell_type": "code",
   "execution_count": 5,
   "metadata": {
    "collapsed": false,
    "scrolled": true
   },
   "outputs": [
    {
     "name": "stdout",
     "output_type": "stream",
     "text": [
      "{'_id': ObjectId('5874ec31f98b0200115cd6d2'),\n",
      " 'description': 'a taste of it all with this 22\" ultimate dessert platter, '\n",
      "                \"this platter comes complete with a 10' pie of your choice, 30 \"\n",
      "                'delicious bite size pieces of coconut creme pie, chocolate '\n",
      "                'creme pie and lemon creme pie and 24 pie town gourmet '\n",
      "                'cookies.',\n",
      " 'name': 'Pie Town Ultimate Platter',\n",
      " 'price': '49.99',\n",
      " 'priceasaverage': 49.99,\n",
      " 'priceasdouble': [49.99],\n",
      " 'tags': [{'kind': 'concept', 'name': 'pie'},\n",
      "          {'kind': 'section', 'name': 'dessert party platters'},\n",
      "          {'kind': 'concept', 'name': 'chocolate'},\n",
      "          {'kind': 'concept', 'name': 'fruit'}],\n",
      " 'venue': {'address': '19075 Interstate 45 S, Conroe, TX, 77385',\n",
      "           'name': 'Pie Town Cafe'}}\n",
      "{'_id': ObjectId('58773778f98b02001161a0ba'),\n",
      " 'description': 'ultimate fudge and chocolate sampler, bag each of caramel '\n",
      "                'corn, chocolate popcorn, peanut brittle, saltwater taffy and '\n",
      "                'a 1/2 box of pecan pralines',\n",
      " 'name': 'Kitchen Sink',\n",
      " 'price': '55',\n",
      " 'priceasaverage': 55.0,\n",
      " 'priceasdouble': [55.0],\n",
      " 'tags': [{'kind': 'concept', 'name': 'chocolate'},\n",
      "          {'kind': 'section', 'name': 'variety packages'}],\n",
      " 'venue': {'address': '218 Centre St, Fernandina Beach, FL, 32034',\n",
      "           'name': \"Fernandina's Fudge And Chocolates\"}}\n",
      "{'_id': ObjectId('5877d0a0f98b020011620ccd'),\n",
      " 'description': \"chocolate lovers beware! we've created our ultimate coffee \"\n",
      "                'and chocolate gift by pairing our scrumptiously rich coffees '\n",
      "                'with delicious treats from',\n",
      " 'name': 'Chocolate Indulgence Sampler',\n",
      " 'price': '39.95',\n",
      " 'priceasaverage': 39.95,\n",
      " 'priceasdouble': [39.95],\n",
      " 'tags': [{'kind': 'concept', 'name': 'chocolate'},\n",
      "          {'kind': 'section', 'name': 'gifts & certificates'}],\n",
      " 'venue': {'address': '107 Pike St, Seattle, WA, 98101',\n",
      "           'name': 'Seattle Coffee Works'}}\n",
      "{'_id': ObjectId('5877ec24f98b020011621f3a'),\n",
      " 'description': 'dark fudge cake layered with mocha chocolate mousse finished '\n",
      "                'with chocolate ganache the ultimate chocolate layer cake',\n",
      " 'name': 'Triple Chocolate Mousse Cake',\n",
      " 'price': '33',\n",
      " 'priceasaverage': 33.0,\n",
      " 'priceasdouble': [33.0],\n",
      " 'tags': [{'kind': 'concept', 'name': 'chocolate'},\n",
      "          {'kind': 'section', 'name': '8 inch layer cakes'}],\n",
      " 'venue': {'address': '802 Elmwood Ave, Buffalo, NY, 14222',\n",
      "           'name': 'Delish Pastry Shop'}}\n",
      "{'_id': ObjectId('58792223f98b02001162e457'),\n",
      " 'description': 'easily our most popular and celebrated cookie, these tasty '\n",
      "                'morsels are loaded with fresh georgia pecans and loads of '\n",
      "                'chocolate chunks. sold by the pound. approximately 20-24 '\n",
      "                'bites per pound.',\n",
      " 'name': 'Chocolate Chunk Pecan Bites',\n",
      " 'price': '13.49',\n",
      " 'priceasaverage': 13.49,\n",
      " 'priceasdouble': [13.49],\n",
      " 'tags': [{'kind': 'concept', 'name': 'chocolate'},\n",
      "          {'kind': 'section', 'name': 'cookies by the pound'}],\n",
      " 'venue': {'address': '1394 N Highland Ave Ne, Atlanta, GA, 30306',\n",
      "           'name': \"Alon's Bakery Cafe\"}}\n",
      "{'_id': ObjectId('587a8f6af98b02001163ad52'),\n",
      " 'description': 'Pure and smooth chocolate, creamy and intense coffee, fine '\n",
      "                'and spellbinding pistachio. Our macarons are the result of a '\n",
      "                'subtle balance of premium ingredients, strictly selected raw '\n",
      "                'materials and perfectly mastered process. Flavors include:  '\n",
      "                'blueberry, cafe, chocolate, lemon, pistachio and raspberry.',\n",
      " 'name': 'Classic Assortment of Macarons',\n",
      " 'price': '20.00-50.00',\n",
      " 'priceasaverage': 35.0,\n",
      " 'priceasdouble': [20.0, 50.0],\n",
      " 'tags': [{'kind': 'concept', 'name': 'chocolate'},\n",
      "          {'kind': 'section', 'name': 'macarons'}],\n",
      " 'venue': {'address': '544 Park Ave, Brooklyn, NY, 11205',\n",
      "           'name': 'Felix Potin Chocolatier'}}\n",
      "{'_id': ObjectId('587a9a36f98b02001163b2c5'),\n",
      " 'description': 'Pure and smooth chocolate, creamy and intense coffee, fine '\n",
      "                'and spellbinding pistachio. Our macarons are the result of a '\n",
      "                'subtle balance of premium ingredients, strictly selected raw '\n",
      "                'materials and perfectly mastered process. Flavors include:  '\n",
      "                'blueberry, cafe, chocolate, lemon, pistachio and raspberry.',\n",
      " 'name': 'Classic Assortment of Macarons',\n",
      " 'price': '20.00-50.00',\n",
      " 'priceasaverage': 35.0,\n",
      " 'priceasdouble': [20.0, 50.0],\n",
      " 'tags': [{'kind': 'concept', 'name': 'chocolate'},\n",
      "          {'kind': 'section', 'name': 'macarons'}],\n",
      " 'venue': {'address': '225 W 34th St Ste 902, New York, NY, 10122',\n",
      "           'name': 'Pavillon Ledoyen'}}\n"
     ]
    }
   ],
   "source": [
    "results = db.foodpairing.find({\n",
    "        \"$and\": [\n",
    "          {\n",
    "            \"$and\": [\n",
    "              {\n",
    "                \"priceasaverage\": {\n",
    "                  \"$exists\": True,\n",
    "                  \"$gt\": 12\n",
    "                }\n",
    "              }\n",
    "            ]\n",
    "          },\n",
    "          {\n",
    "            \"$or\": [\n",
    "              {\n",
    "                \"$and\": [\n",
    "                  {\n",
    "                    \"description\": {\n",
    "                      \"$regex\": \".*chocolate.*\",\n",
    "                      \"$options\": \"i\"\n",
    "                    }\n",
    "                  },\n",
    "                  {\n",
    "                    \"description\": {\n",
    "                      \"$regex\": \".*mate.*\",\n",
    "                      \"$options\": \"i\"\n",
    "                    }\n",
    "                  }\n",
    "                ]\n",
    "              },\n",
    "              {\n",
    "                \"name\": {\n",
    "                  \"$regex\": \".* chocolate mate.*\",\n",
    "                  \"$options\": \"i\"\n",
    "                }\n",
    "              }\n",
    "            ]\n",
    "          }\n",
    "        ]\n",
    "      })\n",
    "\n",
    "\n",
    "for result in results:\n",
    "    pprint(result)"
   ]
  },
  {
   "cell_type": "markdown",
   "metadata": {},
   "source": [
    "#### Remarks\n",
    "The reason is apparently that some applications are used in multiple restaurants. The thought could be made that since it is served in multiple venues, it is more popular, and thus they should be kept. This is a business discussion that should be held internally.\n",
    "\n",
    "In this setting, I have chosen to make them unique, so as to only retain unique applications. This is done using the MongoDB aggregation framework."
   ]
  },
  {
   "cell_type": "code",
   "execution_count": 6,
   "metadata": {
    "collapsed": false,
    "scrolled": true
   },
   "outputs": [],
   "source": [
    "results = db.foodpairing.aggregate([\n",
    "                     { '$match': {\n",
    "                                    \"$and\": [\n",
    "                                      {\n",
    "                                        \"$and\": [\n",
    "                                          {\n",
    "                                            \"priceasaverage\": {\n",
    "                                              \"$exists\": True,\n",
    "                                              \"$gt\": 12\n",
    "                                            }\n",
    "                                          }\n",
    "                                        ]\n",
    "                                      },\n",
    "                                      {\n",
    "                                        \"$or\": [\n",
    "                                          {\n",
    "                                            \"$and\": [\n",
    "                                              {\n",
    "                                                \"description\": {\n",
    "                                                  \"$regex\": \".*chocolate.*\",\n",
    "                                                  \"$options\": \"i\"\n",
    "                                                }\n",
    "                                              },\n",
    "                                              {\n",
    "                                                \"description\": {\n",
    "                                                  \"$regex\": \".*mate.*\",\n",
    "                                                  \"$options\": \"i\"\n",
    "                                                }\n",
    "                                              }\n",
    "                                            ]\n",
    "                                          },\n",
    "                                          {\n",
    "                                            \"name\": {\n",
    "                                              \"$regex\": \".* chocolate mate.*\",\n",
    "                                              \"$options\": \"i\"\n",
    "                                            }\n",
    "                                          }\n",
    "                                        ]\n",
    "                                      }\n",
    "                                    ]\n",
    "                                  } },\n",
    "                     {'$group': { \n",
    "                         '_id':{\n",
    "                             'name': '$name',\n",
    "                             'description': '$description',\n",
    "                             'tags':'$tags'\n",
    "                         },\n",
    "                         'name':{\n",
    "                             '$min': \"$name\"\n",
    "                         },\n",
    "                         'description':{\n",
    "                             '$min': \"$description\"\n",
    "                         },\n",
    "                         'tags':{\n",
    "                             '$min':'$tags'\n",
    "                         } \n",
    "                     }},\n",
    "                     {'$project': { 'name' : 1 , 'description' : 1 ,'tags':1,'_id':0}}\n",
    "                   ])"
   ]
  },
  {
   "cell_type": "markdown",
   "metadata": {},
   "source": [
    "#### Remarks\n",
    "After investigation of the data however, I noticed that for example the 'chocolate_cake' menu_item delivered a lot of the same applications, but many in an incomplete format:\n",
    "- (Hi 1/2 Sheet)\n",
    "- (Hi 1/4 Sheet)\n",
    "- (1/2 Sheet)\n",
    "- (1/4 Sheet)\n",
    "\n",
    "For efficiency reasons later, and cleanliness reasons in general, I decided to remove them. This simply involves an extra 'match' step."
   ]
  },
  {
   "cell_type": "code",
   "execution_count": 7,
   "metadata": {
    "collapsed": false
   },
   "outputs": [
    {
     "name": "stdout",
     "output_type": "stream",
     "text": [
      "946\n"
     ]
    }
   ],
   "source": [
    "import re\n",
    "results = db.foodpairing.aggregate([\n",
    "                     { '$match': {\n",
    "        \"$and\": [\n",
    "          {\n",
    "            \"$and\": [\n",
    "              {\n",
    "                \"priceasaverage\": {\n",
    "                  \"$exists\": True,\n",
    "                  \"$gt\": 12\n",
    "                }\n",
    "              }\n",
    "            ]\n",
    "          },\n",
    "          {\n",
    "            \"$or\": [\n",
    "              {\n",
    "                \"$and\": [\n",
    "                  {\n",
    "                    \"description\": {\n",
    "                      \"$regex\": \".*chocolate.*\",\n",
    "                      \"$options\": \"i\"\n",
    "                    }\n",
    "                  },\n",
    "                  {\n",
    "                    \"description\": {\n",
    "                      \"$regex\": \".*cake.*\",\n",
    "                      \"$options\": \"i\"\n",
    "                    }\n",
    "                  }\n",
    "                ]\n",
    "              },\n",
    "              {\n",
    "                \"name\": {\n",
    "                  \"$regex\": \".*chocolate cake.*\",\n",
    "                  \"$options\": \"i\"\n",
    "                }\n",
    "              }\n",
    "            ]\n",
    "          }\n",
    "        ]\n",
    "      } },\n",
    "                     {'$group': { \n",
    "                         '_id':{\n",
    "                             'name': '$name',\n",
    "                             'description': '$description',\n",
    "                             'tags':'$tags'\n",
    "                         },\n",
    "                         'name':{\n",
    "                             '$min': \"$name\"\n",
    "                         },\n",
    "                         'description':{\n",
    "                             '$min': \"$description\"\n",
    "                         },\n",
    "                         'tags':{\n",
    "                             '$min':'$tags'\n",
    "                         } \n",
    "                     }},\n",
    "                     {'$project': { 'name' : 1 ,'description':1,'tags':1, '_id':0}},\n",
    "                     {'$match':{'name': {'$not': re.compile(r'1/2 Sheet',re.IGNORECASE)}}},\n",
    "                     {'$match':{'name': {'$not': re.compile(r'1/4 Sheet',re.IGNORECASE)}}}\n",
    "    \n",
    "                   ])\n",
    "\n",
    "counter = 0\n",
    "for result in results:\n",
    "    counter +=1\n",
    "print(counter)"
   ]
  },
  {
   "cell_type": "markdown",
   "metadata": {},
   "source": [
    "## Part 1: ingredient extraction"
   ]
  },
  {
   "cell_type": "markdown",
   "metadata": {},
   "source": [
    "### Basic imports\n",
    "For the stopword libary, stemming and lemmatization, I will be using the NLTK package"
   ]
  },
  {
   "cell_type": "code",
   "execution_count": 8,
   "metadata": {
    "collapsed": true
   },
   "outputs": [],
   "source": [
    "import nltk\n",
    "from nltk.stem.snowball import SnowballStemmer\n",
    "from nltk.stem.wordnet import WordNetLemmatizer"
   ]
  },
  {
   "cell_type": "markdown",
   "metadata": {},
   "source": [
    "Some extra downloads were necessary. Namely:\n",
    "- maxent_treebank_pos_\n",
    "- wordnetlemmatizer\n",
    "\n",
    "The rest was already available through previous projects"
   ]
  },
  {
   "cell_type": "code",
   "execution_count": 9,
   "metadata": {
    "collapsed": true
   },
   "outputs": [],
   "source": [
    "#nltk.download()"
   ]
  },
  {
   "cell_type": "markdown",
   "metadata": {},
   "source": [
    "### Make and process test data"
   ]
  },
  {
   "cell_type": "markdown",
   "metadata": {},
   "source": [
    "For testing purposes, I will store the first 10 recipe descriptions in an array"
   ]
  },
  {
   "cell_type": "code",
   "execution_count": 10,
   "metadata": {
    "collapsed": true
   },
   "outputs": [],
   "source": [
    "test_description = [x[\"description\"].lower() for x in (db.foodpairing.find({},{\"description\":1}).limit(10))]"
   ]
  },
  {
   "cell_type": "markdown",
   "metadata": {},
   "source": [
    "Something added afterward: removing punctuation via regex tokenization"
   ]
  },
  {
   "cell_type": "code",
   "execution_count": 11,
   "metadata": {
    "collapsed": true
   },
   "outputs": [],
   "source": [
    "from nltk.tokenize import RegexpTokenizer\n",
    "tokenizer = RegexpTokenizer(r'\\w+')\n",
    "test_description_token = [tokenizer.tokenize(string) for string in test_description]"
   ]
  },
  {
   "cell_type": "markdown",
   "metadata": {},
   "source": [
    "Stopword removal init, to be used during the stemming and lemmatization process"
   ]
  },
  {
   "cell_type": "code",
   "execution_count": 12,
   "metadata": {
    "collapsed": true
   },
   "outputs": [],
   "source": [
    "from nltk.corpus import stopwords\n",
    "sw = stopwords.words(\"english\")"
   ]
  },
  {
   "cell_type": "markdown",
   "metadata": {},
   "source": [
    "I first wanted to see the difference in stemming vs lemmatizing the words"
   ]
  },
  {
   "cell_type": "code",
   "execution_count": 13,
   "metadata": {
    "collapsed": true
   },
   "outputs": [],
   "source": [
    "output_stem = []\n",
    "stemmer = SnowballStemmer(\"english\")\n",
    "for text_string in test_description_token:\n",
    "    words = [stemmer.stem(word) for word in text_string if not word in sw]\n",
    "    output_stem.append(words)"
   ]
  },
  {
   "cell_type": "code",
   "execution_count": 14,
   "metadata": {
    "collapsed": true
   },
   "outputs": [],
   "source": [
    "output_lem = []\n",
    "lemmatizer = WordNetLemmatizer()\n",
    "for text_string in test_description_token:\n",
    "    words  =[lemmatizer.lemmatize(word) for word in text_string if not word.lower() in sw]\n",
    "    output_lem.append(words)"
   ]
  },
  {
   "cell_type": "code",
   "execution_count": 15,
   "metadata": {
    "collapsed": false
   },
   "outputs": [
    {
     "name": "stdout",
     "output_type": "stream",
     "text": [
      "---printing test 0\n",
      "sweet organic raspberries, tart cranberries, crunchy almonds and cocoa with fiber and protein. try not to eat the wrapper. organic dates, organic agave nectar, organic cranberries (organic cranberries, organic apple juice concentrate, organic sunflower oil), organic rice protein concentrate, organic cashew butter (organic cashews, organic sunflower oil), organic almonds, organic walnuts, organic cocoa, organic raspberry, organic natural flavors. contains cashews, almonds, walnuts.  certified organic, gluten-free, non-gmo, and vegan , pure bars provide completely clean and balanced nutrition in an enticing and entirely delicious bar. made with only simple, real ingredients, pure bar will nurture your body, mind, and spirit.\n",
      "['sweet', 'organic', 'raspberry', 'tart', 'cranberry', 'crunchy', 'almond', 'cocoa', 'fiber', 'protein', 'try', 'eat', 'wrapper', 'organic', 'date', 'organic', 'agave', 'nectar', 'organic', 'cranberry', 'organic', 'cranberry', 'organic', 'apple', 'juice', 'concentrate', 'organic', 'sunflower', 'oil', 'organic', 'rice', 'protein', 'concentrate', 'organic', 'cashew', 'butter', 'organic', 'cashew', 'organic', 'sunflower', 'oil', 'organic', 'almond', 'organic', 'walnut', 'organic', 'cocoa', 'organic', 'raspberry', 'organic', 'natural', 'flavor', 'contains', 'cashew', 'almond', 'walnut', 'certified', 'organic', 'gluten', 'free', 'non', 'gmo', 'vegan', 'pure', 'bar', 'provide', 'completely', 'clean', 'balanced', 'nutrition', 'enticing', 'entirely', 'delicious', 'bar', 'made', 'simple', 'real', 'ingredient', 'pure', 'bar', 'nurture', 'body', 'mind', 'spirit']\n",
      "['sweet', 'organ', 'raspberri', 'tart', 'cranberri', 'crunchi', 'almond', 'cocoa', 'fiber', 'protein', 'tri', 'eat', 'wrapper', 'organ', 'date', 'organ', 'agav', 'nectar', 'organ', 'cranberri', 'organ', 'cranberri', 'organ', 'appl', 'juic', 'concentr', 'organ', 'sunflow', 'oil', 'organ', 'rice', 'protein', 'concentr', 'organ', 'cashew', 'butter', 'organ', 'cashew', 'organ', 'sunflow', 'oil', 'organ', 'almond', 'organ', 'walnut', 'organ', 'cocoa', 'organ', 'raspberri', 'organ', 'natur', 'flavor', 'contain', 'cashew', 'almond', 'walnut', 'certifi', 'organ', 'gluten', 'free', 'non', 'gmo', 'vegan', 'pure', 'bar', 'provid', 'complet', 'clean', 'balanc', 'nutrit', 'entic', 'entir', 'delici', 'bar', 'made', 'simpl', 'real', 'ingredi', 'pure', 'bar', 'nurtur', 'bodi', 'mind', 'spirit']\n",
      "---printing test 1\n",
      "grilled garlic lemon-seasoned chicken breast, topped with a melted 3-cheese blend, lettuce, tomato, onion and mayo on a grilled 3-cheese ciabatta roll.\n",
      "['grilled', 'garlic', 'lemon', 'seasoned', 'chicken', 'breast', 'topped', 'melted', '3', 'cheese', 'blend', 'lettuce', 'tomato', 'onion', 'mayo', 'grilled', '3', 'cheese', 'ciabatta', 'roll']\n",
      "['grill', 'garlic', 'lemon', 'season', 'chicken', 'breast', 'top', 'melt', '3', 'chees', 'blend', 'lettuc', 'tomato', 'onion', 'mayo', 'grill', '3', 'chees', 'ciabatta', 'roll']\n",
      "---printing test 2\n",
      "crispy romaine lettuce, tomatoes, mango, pineapple, tortilla strips, chicken kebob topped with sweet and spicy chili dressing on a white wrap\n",
      "['crispy', 'romaine', 'lettuce', 'tomato', 'mango', 'pineapple', 'tortilla', 'strip', 'chicken', 'kebob', 'topped', 'sweet', 'spicy', 'chili', 'dressing', 'white', 'wrap']\n",
      "['crispi', 'romain', 'lettuc', 'tomato', 'mango', 'pineappl', 'tortilla', 'strip', 'chicken', 'kebob', 'top', 'sweet', 'spici', 'chili', 'dress', 'white', 'wrap']\n",
      "---printing test 3\n",
      "2.4 oz. nutrition for sustained energy. rainforest alliance certified.   old-fashioned, home-baked cookie goodness. ingredients: organic brown rice syrup, organic rolled oats, clifpro (soy rice crisps [soy protein isolate, rice flour, rice starch, barley malt extract], organic soy flour, organic roasted soybeans), organic raisins, organic cane syrup, walnuts, clifcrunch (organic oat fiber, inulin [chicory extract], organic milled flaxseed, organic oat bran, organic psyllium), organic soy butter (organic roasted soybeans, organic soybean oil, salt), natural flavors, molasses powder, cinnamon, sea salt, natural vitamin e (antioxidant).\n",
      "['2', '4', 'oz', 'nutrition', 'sustained', 'energy', 'rainforest', 'alliance', 'certified', 'old', 'fashioned', 'home', 'baked', 'cookie', 'goodness', 'ingredient', 'organic', 'brown', 'rice', 'syrup', 'organic', 'rolled', 'oat', 'clifpro', 'soy', 'rice', 'crisp', 'soy', 'protein', 'isolate', 'rice', 'flour', 'rice', 'starch', 'barley', 'malt', 'extract', 'organic', 'soy', 'flour', 'organic', 'roasted', 'soybean', 'organic', 'raisin', 'organic', 'cane', 'syrup', 'walnut', 'clifcrunch', 'organic', 'oat', 'fiber', 'inulin', 'chicory', 'extract', 'organic', 'milled', 'flaxseed', 'organic', 'oat', 'bran', 'organic', 'psyllium', 'organic', 'soy', 'butter', 'organic', 'roasted', 'soybean', 'organic', 'soybean', 'oil', 'salt', 'natural', 'flavor', 'molasses', 'powder', 'cinnamon', 'sea', 'salt', 'natural', 'vitamin', 'e', 'antioxidant']\n",
      "['2', '4', 'oz', 'nutrit', 'sustain', 'energi', 'rainforest', 'allianc', 'certifi', 'old', 'fashion', 'home', 'bake', 'cooki', 'good', 'ingredi', 'organ', 'brown', 'rice', 'syrup', 'organ', 'roll', 'oat', 'clifpro', 'soy', 'rice', 'crisp', 'soy', 'protein', 'isol', 'rice', 'flour', 'rice', 'starch', 'barley', 'malt', 'extract', 'organ', 'soy', 'flour', 'organ', 'roast', 'soybean', 'organ', 'raisin', 'organ', 'cane', 'syrup', 'walnut', 'clifcrunch', 'organ', 'oat', 'fiber', 'inulin', 'chicori', 'extract', 'organ', 'mill', 'flaxse', 'organ', 'oat', 'bran', 'organ', 'psyllium', 'organ', 'soy', 'butter', 'organ', 'roast', 'soybean', 'organ', 'soybean', 'oil', 'salt', 'natur', 'flavor', 'molass', 'powder', 'cinnamon', 'sea', 'salt', 'natur', 'vitamin', 'e', 'antioxid']\n",
      "---printing test 4\n",
      "grilled garlic lemon-seasoned chicken breast, topped with a melted 3-cheese blend, lettuce, tomato, onion and mayo on a grilled 3-cheese ciabatta roll.\n",
      "['grilled', 'garlic', 'lemon', 'seasoned', 'chicken', 'breast', 'topped', 'melted', '3', 'cheese', 'blend', 'lettuce', 'tomato', 'onion', 'mayo', 'grilled', '3', 'cheese', 'ciabatta', 'roll']\n",
      "['grill', 'garlic', 'lemon', 'season', 'chicken', 'breast', 'top', 'melt', '3', 'chees', 'blend', 'lettuc', 'tomato', 'onion', 'mayo', 'grill', '3', 'chees', 'ciabatta', 'roll']\n",
      "---printing test 5\n",
      "2.4 oz. nutrition for sustained energy. rainforest alliance certified.   exploding with roasted macadamia nuts and scrumptious white chocolate chunks. ingredients: organic brown rice syrup, clifpro (soy rice crisps [soy protein isolate, rice flour, barley malt extract], organic roasted soybeans, organic soy flour), organic rolled oats, soy white chocolate (organic dried cane syrup, cocoa butter, soy flour, soy lecithin, organic vanilla extract), organic cane syrup, clifcrunch (organic oat fiber, inulin [chicory extract], organic milled flaxseed, organic oat bran, organic psyllium), macadamia nuts, organic soy butter (organic roasted soybeans, organic soybean oil, salt), organic macadamia nuts, organic date paste, natural flavors, sea salt, natural vitamin e (antioxidant).\n",
      "['2', '4', 'oz', 'nutrition', 'sustained', 'energy', 'rainforest', 'alliance', 'certified', 'exploding', 'roasted', 'macadamia', 'nut', 'scrumptious', 'white', 'chocolate', 'chunk', 'ingredient', 'organic', 'brown', 'rice', 'syrup', 'clifpro', 'soy', 'rice', 'crisp', 'soy', 'protein', 'isolate', 'rice', 'flour', 'barley', 'malt', 'extract', 'organic', 'roasted', 'soybean', 'organic', 'soy', 'flour', 'organic', 'rolled', 'oat', 'soy', 'white', 'chocolate', 'organic', 'dried', 'cane', 'syrup', 'cocoa', 'butter', 'soy', 'flour', 'soy', 'lecithin', 'organic', 'vanilla', 'extract', 'organic', 'cane', 'syrup', 'clifcrunch', 'organic', 'oat', 'fiber', 'inulin', 'chicory', 'extract', 'organic', 'milled', 'flaxseed', 'organic', 'oat', 'bran', 'organic', 'psyllium', 'macadamia', 'nut', 'organic', 'soy', 'butter', 'organic', 'roasted', 'soybean', 'organic', 'soybean', 'oil', 'salt', 'organic', 'macadamia', 'nut', 'organic', 'date', 'paste', 'natural', 'flavor', 'sea', 'salt', 'natural', 'vitamin', 'e', 'antioxidant']\n",
      "['2', '4', 'oz', 'nutrit', 'sustain', 'energi', 'rainforest', 'allianc', 'certifi', 'explod', 'roast', 'macadamia', 'nut', 'scrumptious', 'white', 'chocol', 'chunk', 'ingredi', 'organ', 'brown', 'rice', 'syrup', 'clifpro', 'soy', 'rice', 'crisp', 'soy', 'protein', 'isol', 'rice', 'flour', 'barley', 'malt', 'extract', 'organ', 'roast', 'soybean', 'organ', 'soy', 'flour', 'organ', 'roll', 'oat', 'soy', 'white', 'chocol', 'organ', 'dri', 'cane', 'syrup', 'cocoa', 'butter', 'soy', 'flour', 'soy', 'lecithin', 'organ', 'vanilla', 'extract', 'organ', 'cane', 'syrup', 'clifcrunch', 'organ', 'oat', 'fiber', 'inulin', 'chicori', 'extract', 'organ', 'mill', 'flaxse', 'organ', 'oat', 'bran', 'organ', 'psyllium', 'macadamia', 'nut', 'organ', 'soy', 'butter', 'organ', 'roast', 'soybean', 'organ', 'soybean', 'oil', 'salt', 'organ', 'macadamia', 'nut', 'organ', 'date', 'past', 'natur', 'flavor', 'sea', 'salt', 'natur', 'vitamin', 'e', 'antioxid']\n",
      "---printing test 6\n",
      "grilled garlic lemon-seasoned chicken breast, topped with a melted 3-cheese blend, lettuce, tomato, onion and mayo on a grilled 3-cheese ciabatta roll.\n",
      "['grilled', 'garlic', 'lemon', 'seasoned', 'chicken', 'breast', 'topped', 'melted', '3', 'cheese', 'blend', 'lettuce', 'tomato', 'onion', 'mayo', 'grilled', '3', 'cheese', 'ciabatta', 'roll']\n",
      "['grill', 'garlic', 'lemon', 'season', 'chicken', 'breast', 'top', 'melt', '3', 'chees', 'blend', 'lettuc', 'tomato', 'onion', 'mayo', 'grill', '3', 'chees', 'ciabatta', 'roll']\n",
      "---printing test 7\n",
      "2.4 oz. nutrition for sustained energy. rainforest alliance certified.   chocolate chips and crunchy peanuts for serious satisfaction. ingredients: organic brown rice syrup, clifpro (soy rice crisps [soy protein isolate, rice flour, barley malt extract], organic soy flour, organic roasted soybeans), organic rolled oats, organic cane syrup, organic peanut butter (organic peanuts, salt), chocolate chips (dried cane syrup, unsweetened chocolate, cocoa butter, soy lecithin, vanilla extract), peanut flour, peanuts, clifcrunch (organic oat fiber, apple fiber, inulin [chicory extract], organic psyllium, organic milled flaxseed), organic date paste, natural flavors, sea salt.\n",
      "['2', '4', 'oz', 'nutrition', 'sustained', 'energy', 'rainforest', 'alliance', 'certified', 'chocolate', 'chip', 'crunchy', 'peanut', 'serious', 'satisfaction', 'ingredient', 'organic', 'brown', 'rice', 'syrup', 'clifpro', 'soy', 'rice', 'crisp', 'soy', 'protein', 'isolate', 'rice', 'flour', 'barley', 'malt', 'extract', 'organic', 'soy', 'flour', 'organic', 'roasted', 'soybean', 'organic', 'rolled', 'oat', 'organic', 'cane', 'syrup', 'organic', 'peanut', 'butter', 'organic', 'peanut', 'salt', 'chocolate', 'chip', 'dried', 'cane', 'syrup', 'unsweetened', 'chocolate', 'cocoa', 'butter', 'soy', 'lecithin', 'vanilla', 'extract', 'peanut', 'flour', 'peanut', 'clifcrunch', 'organic', 'oat', 'fiber', 'apple', 'fiber', 'inulin', 'chicory', 'extract', 'organic', 'psyllium', 'organic', 'milled', 'flaxseed', 'organic', 'date', 'paste', 'natural', 'flavor', 'sea', 'salt']\n",
      "['2', '4', 'oz', 'nutrit', 'sustain', 'energi', 'rainforest', 'allianc', 'certifi', 'chocol', 'chip', 'crunchi', 'peanut', 'serious', 'satisfact', 'ingredi', 'organ', 'brown', 'rice', 'syrup', 'clifpro', 'soy', 'rice', 'crisp', 'soy', 'protein', 'isol', 'rice', 'flour', 'barley', 'malt', 'extract', 'organ', 'soy', 'flour', 'organ', 'roast', 'soybean', 'organ', 'roll', 'oat', 'organ', 'cane', 'syrup', 'organ', 'peanut', 'butter', 'organ', 'peanut', 'salt', 'chocol', 'chip', 'dri', 'cane', 'syrup', 'unsweeten', 'chocol', 'cocoa', 'butter', 'soy', 'lecithin', 'vanilla', 'extract', 'peanut', 'flour', 'peanut', 'clifcrunch', 'organ', 'oat', 'fiber', 'appl', 'fiber', 'inulin', 'chicori', 'extract', 'organ', 'psyllium', 'organ', 'mill', 'flaxse', 'organ', 'date', 'past', 'natur', 'flavor', 'sea', 'salt']\n",
      "---printing test 8\n",
      "smoked turkey or ham, swiss, cheese, crumbled bacon, lettuce, sliced tomato, and a honey mustard spread and mayonnaise on tossed sourdough bread.\n",
      "['smoked', 'turkey', 'ham', 'swiss', 'cheese', 'crumbled', 'bacon', 'lettuce', 'sliced', 'tomato', 'honey', 'mustard', 'spread', 'mayonnaise', 'tossed', 'sourdough', 'bread']\n",
      "['smoke', 'turkey', 'ham', 'swiss', 'chees', 'crumbl', 'bacon', 'lettuc', 'slice', 'tomato', 'honey', 'mustard', 'spread', 'mayonnais', 'toss', 'sourdough', 'bread']\n",
      "---printing test 9\n",
      "fresh manila clams, large prawns, calamari, chopped clams and scallops sauteed in fresh garlic and white wine with fresh spinach in our rich and creamy alfredo sauce. tossed with fettuccini noodles and finished with oven-dried tomatoes. fresh manila clams, large prawns, calamari, chopped clams and scallops sauteed in fresh garlic and white wine with fresh spinach in our rich and creamy alfredo sauce. tossed with fettuccini noodles and finished with oven-dried tomatoes. served with small house salad or cup of soup and garlic bread.\n",
      "['fresh', 'manila', 'clam', 'large', 'prawn', 'calamari', 'chopped', 'clam', 'scallop', 'sauteed', 'fresh', 'garlic', 'white', 'wine', 'fresh', 'spinach', 'rich', 'creamy', 'alfredo', 'sauce', 'tossed', 'fettuccini', 'noodle', 'finished', 'oven', 'dried', 'tomato', 'fresh', 'manila', 'clam', 'large', 'prawn', 'calamari', 'chopped', 'clam', 'scallop', 'sauteed', 'fresh', 'garlic', 'white', 'wine', 'fresh', 'spinach', 'rich', 'creamy', 'alfredo', 'sauce', 'tossed', 'fettuccini', 'noodle', 'finished', 'oven', 'dried', 'tomato', 'served', 'small', 'house', 'salad', 'cup', 'soup', 'garlic', 'bread']\n",
      "['fresh', 'manila', 'clam', 'larg', 'prawn', 'calamari', 'chop', 'clam', 'scallop', 'saute', 'fresh', 'garlic', 'white', 'wine', 'fresh', 'spinach', 'rich', 'creami', 'alfredo', 'sauc', 'toss', 'fettuccini', 'noodl', 'finish', 'oven', 'dri', 'tomato', 'fresh', 'manila', 'clam', 'larg', 'prawn', 'calamari', 'chop', 'clam', 'scallop', 'saute', 'fresh', 'garlic', 'white', 'wine', 'fresh', 'spinach', 'rich', 'creami', 'alfredo', 'sauc', 'toss', 'fettuccini', 'noodl', 'finish', 'oven', 'dri', 'tomato', 'serv', 'small', 'hous', 'salad', 'cup', 'soup', 'garlic', 'bread']\n"
     ]
    }
   ],
   "source": [
    "for i in range(len(test_description)):\n",
    "    print('---printing test ' + str(i))\n",
    "    print(test_description[i])\n",
    "    print(output_lem[i])\n",
    "    print(output_stem[i])"
   ]
  },
  {
   "cell_type": "markdown",
   "metadata": {},
   "source": [
    "#### Remarks\n",
    "\n",
    "As expected, the stemming results do not make a lot of sense. Since readability is important here, Lemmatization is indeed the way forward. \n",
    "\n",
    "Next challenge is to detect and remove verbs (and their conjugations), since these make up a large portion of the non-usefull words. The first lemmatized example was used."
   ]
  },
  {
   "cell_type": "code",
   "execution_count": 16,
   "metadata": {
    "collapsed": false,
    "scrolled": true
   },
   "outputs": [
    {
     "data": {
      "text/plain": [
       "[('sweet', 'JJ'),\n",
       " ('organic', 'JJ'),\n",
       " ('raspberry', 'NN'),\n",
       " ('tart', 'NN'),\n",
       " ('cranberry', 'NN'),\n",
       " ('crunchy', 'VBP'),\n",
       " ('almond', 'NN'),\n",
       " ('cocoa', 'NN'),\n",
       " ('fiber', 'NN'),\n",
       " ('protein', 'NN'),\n",
       " ('try', 'VB'),\n",
       " ('eat', 'JJ'),\n",
       " ('wrapper', 'JJ'),\n",
       " ('organic', 'JJ'),\n",
       " ('date', 'NN'),\n",
       " ('organic', 'JJ'),\n",
       " ('agave', 'VBP'),\n",
       " ('nectar', 'VBN'),\n",
       " ('organic', 'JJ'),\n",
       " ('cranberry', 'NN'),\n",
       " ('organic', 'JJ'),\n",
       " ('cranberry', 'NN'),\n",
       " ('organic', 'JJ'),\n",
       " ('apple', 'NN'),\n",
       " ('juice', 'NN'),\n",
       " ('concentrate', 'NN'),\n",
       " ('organic', 'JJ'),\n",
       " ('sunflower', 'JJR'),\n",
       " ('oil', 'NN'),\n",
       " ('organic', 'JJ'),\n",
       " ('rice', 'NN'),\n",
       " ('protein', 'NN'),\n",
       " ('concentrate', 'NN'),\n",
       " ('organic', 'JJ'),\n",
       " ('cashew', 'NN'),\n",
       " ('butter', 'NN'),\n",
       " ('organic', 'JJ'),\n",
       " ('cashew', 'NN'),\n",
       " ('organic', 'JJ'),\n",
       " ('sunflower', 'JJR'),\n",
       " ('oil', 'NN'),\n",
       " ('organic', 'JJ'),\n",
       " ('almond', 'NN'),\n",
       " ('organic', 'JJ'),\n",
       " ('walnut', 'NN'),\n",
       " ('organic', 'JJ'),\n",
       " ('cocoa', 'NN'),\n",
       " ('organic', 'JJ'),\n",
       " ('raspberry', 'NN'),\n",
       " ('organic', 'JJ'),\n",
       " ('natural', 'JJ'),\n",
       " ('flavor', 'NN'),\n",
       " ('contains', 'NNS'),\n",
       " ('cashew', 'VBP'),\n",
       " ('almond', 'NN'),\n",
       " ('walnut', 'NN'),\n",
       " ('certified', 'VBD'),\n",
       " ('organic', 'JJ'),\n",
       " ('gluten', 'NNS'),\n",
       " ('free', 'JJ'),\n",
       " ('non', 'JJ'),\n",
       " ('gmo', 'NN'),\n",
       " ('vegan', 'JJ'),\n",
       " ('pure', 'JJ'),\n",
       " ('bar', 'NN'),\n",
       " ('provide', 'VBP'),\n",
       " ('completely', 'RB'),\n",
       " ('clean', 'JJ'),\n",
       " ('balanced', 'VBN'),\n",
       " ('nutrition', 'NN'),\n",
       " ('enticing', 'VBG'),\n",
       " ('entirely', 'RB'),\n",
       " ('delicious', 'JJ'),\n",
       " ('bar', 'NN'),\n",
       " ('made', 'VBD'),\n",
       " ('simple', 'JJ'),\n",
       " ('real', 'JJ'),\n",
       " ('ingredient', 'NN'),\n",
       " ('pure', 'NN'),\n",
       " ('bar', 'NN'),\n",
       " ('nurture', 'NN'),\n",
       " ('body', 'NN'),\n",
       " ('mind', 'NN'),\n",
       " ('spirit', 'NN')]"
      ]
     },
     "execution_count": 16,
     "metadata": {},
     "output_type": "execute_result"
    }
   ],
   "source": [
    "from nltk import pos_tag\n",
    "(pos_tag(output_lem[0]))"
   ]
  },
  {
   "cell_type": "markdown",
   "metadata": {},
   "source": [
    "#### Remarks\n",
    "\n",
    "The thing that bothered me here was the fact that some words were mis-tagged:\n",
    "- agava: VBP\n",
    "- nectar: VBN\n",
    "- sunflower: JJR\n",
    "- cashew: VBP\n",
    "So I decided to try out some other taggers. But after focussing on solely these:"
   ]
  },
  {
   "cell_type": "code",
   "execution_count": 17,
   "metadata": {
    "collapsed": false
   },
   "outputs": [
    {
     "name": "stdout",
     "output_type": "stream",
     "text": [
      "('agave', 'VBP')\n",
      "('nectar', 'VBN')\n",
      "('sunflower', 'JJR')\n",
      "('cashew', 'NN')\n",
      "('cashew', 'NN')\n",
      "('sunflower', 'JJR')\n",
      "('cashew', 'VBP')\n"
     ]
    }
   ],
   "source": [
    "for output_lem_item in output_lem:\n",
    "    for word in(pos_tag(output_lem_item)):\n",
    "        if word[0] in['cashew','agave','nectar','sunflower']:\n",
    "            print(word)"
   ]
  },
  {
   "cell_type": "markdown",
   "metadata": {},
   "source": [
    "I noticed that it sometimes classifies them correctly, and sometimes not. So by removing the verbs, I still obtain for ex. 'cashew'. The other ones will unfortunatly be deleted. In case of extra time after completing the assignment, extra focus will be put on refining this."
   ]
  },
  {
   "cell_type": "markdown",
   "metadata": {},
   "source": [
    "In the step below, I removed everything which is not a noun (NN)"
   ]
  },
  {
   "cell_type": "code",
   "execution_count": 18,
   "metadata": {
    "collapsed": true
   },
   "outputs": [],
   "source": [
    "output_lem_filtered = []\n",
    "for output_lem_item in output_lem:\n",
    "    output_lem_filtered.append([word for word in(pos_tag(output_lem_item)) if word[1]=='NN'])"
   ]
  },
  {
   "cell_type": "markdown",
   "metadata": {},
   "source": [
    "Next step required a bit of a search: how to indicate what might or might not be a food item vs a non-food item. For example: house = non-food, while cashew = food.\n",
    "\n",
    "Luckily, I found out about sysnets in the NTLK wordnet corpus. Which will be used to make this classification. Another option would have been to search the web for comprehensive lists.\n",
    "\n",
    "The method is as follows: of each ingredient word, the function searches a synset (a synonym set). From there-on, the function calculates the hierarchy towards the upper-most level of objects. An example is included below for the word 'cashew':"
   ]
  },
  {
   "cell_type": "code",
   "execution_count": 19,
   "metadata": {
    "collapsed": false
   },
   "outputs": [
    {
     "data": {
      "text/plain": [
       "[Synset('nut_tree.n.01'),\n",
       " Synset('angiospermous_tree.n.01'),\n",
       " Synset('tree.n.01'),\n",
       " Synset('woody_plant.n.01'),\n",
       " Synset('vascular_plant.n.01'),\n",
       " Synset('plant.n.02'),\n",
       " Synset('organism.n.01'),\n",
       " Synset('living_thing.n.01'),\n",
       " Synset('whole.n.02'),\n",
       " Synset('object.n.01'),\n",
       " Synset('physical_entity.n.01'),\n",
       " Synset('entity.n.01')]"
      ]
     },
     "execution_count": 19,
     "metadata": {},
     "output_type": "execute_result"
    }
   ],
   "source": [
    "from nltk.corpus import wordnet as wn\n",
    "testword = wn.synset('cashew.n.01')\n",
    "hypo = lambda s: s.hyponyms()\n",
    "list(testword.closure(lambda s: s.hypernyms()))"
   ]
  },
  {
   "cell_type": "markdown",
   "metadata": {},
   "source": [
    "We can see that the hierarchy traverses the notion 'plant', which of course has a high likelihood of being an ingredient. If I would have had the time, I would have liked to delve into the statistics a little further. \n",
    "\n",
    "If any of the upward hierarchy modules is the 'food', 'plant' or 'ingredient' synset, we classify the word to be an ingredient. The 'ingredient' synset alone did not prove to be sufficiently wide enough to recognize many of the food components."
   ]
  },
  {
   "cell_type": "markdown",
   "metadata": {},
   "source": [
    "### Writing the classification function"
   ]
  },
  {
   "cell_type": "code",
   "execution_count": null,
   "metadata": {
    "collapsed": true
   },
   "outputs": [],
   "source": [
    "from nltk.corpus import wordnet as wn\n",
    "any_in = lambda a, b: any(i in b for i in a)    \n",
    "        \n",
    "def find_food(candidate):\n",
    "    full_hierarchy_list = []\n",
    "    for synset in wn.synsets(candidate):\n",
    "        hierarchy = wn.synset(synset.name())\n",
    "        hierarchy_list = (list(hierarchy.closure(lambda s: s.hypernyms())))\n",
    "        distill_words = [x.name().split('.')[0] for x in hierarchy_list]\n",
    "        if len(full_hierarchy_list) == 0:\n",
    "            full_hierarchy_list = distill_words\n",
    "        else:\n",
    "            full_hierarchy_list += distill_words\n",
    "    return any_in(full_hierarchy_list,['food','plant','ingredient'] )"
   ]
  },
  {
   "cell_type": "markdown",
   "metadata": {},
   "source": [
    "### Testing the function"
   ]
  },
  {
   "cell_type": "code",
   "execution_count": null,
   "metadata": {
    "collapsed": false
   },
   "outputs": [],
   "source": [
    "print(find_food('basil'))"
   ]
  },
  {
   "cell_type": "markdown",
   "metadata": {},
   "source": [
    "Some words that are incorrectly classified (during testing) as foods were:\n",
    "- cup\n",
    "- barbecue\n",
    "\n",
    "Of course, no model is perfect sadly. Given more time, this is definitely something I would try to refine, seeing how this is input to the next steps."
   ]
  },
  {
   "cell_type": "markdown",
   "metadata": {},
   "source": [
    "### Writing a full pipeline for the next step\n",
    "\n",
    "So in general, we have four steps to perform:\n",
    "- remove tokens\n",
    "- lemmatize\n",
    "- remove stopwords\n",
    "- remove non-nouns\n",
    "- classify as food / non-food\n",
    "\n",
    "We want our general function to take the entire description string as input, and return an array with only the food-ingredients."
   ]
  },
  {
   "cell_type": "code",
   "execution_count": 22,
   "metadata": {
    "collapsed": true
   },
   "outputs": [],
   "source": [
    "def extract_food(description):\n",
    "    tokenizer = RegexpTokenizer(r'\\w+')\n",
    "    lemmatizer = WordNetLemmatizer()\n",
    "    words  =[lemmatizer.lemmatize(word) for word in tokenizer.tokenize(description) if not word.lower() in sw]\n",
    "    nouns = [word[0].lower() for word in(pos_tag(words)) if word[1][:2]=='NN']\n",
    "    ingredients = [noun for noun in nouns if find_food(noun)]\n",
    "    return ingredients"
   ]
  },
  {
   "cell_type": "markdown",
   "metadata": {},
   "source": [
    "Trying it out with a test description:"
   ]
  },
  {
   "cell_type": "code",
   "execution_count": 23,
   "metadata": {
    "collapsed": false
   },
   "outputs": [
    {
     "name": "stdout",
     "output_type": "stream",
     "text": [
      "['cappuccino', 'mousse', 'mocha', 'fudge', 'chocolate', 'cookie', 'cream', 'chocolate', 'wafer', 'chocolate', 'chip', 'cinnamon']\n"
     ]
    }
   ],
   "source": [
    "test1 = extract_food('cappuccino mousse above a mocha fudge layer on a chocolate pecan cookie crust, whipped cream frosted and garnished with chocolate wafers, chocolate chips, and cinnamon')\n",
    "test2 = extract_food('Sweet organic raspberries, tart cranberries, crunchy almonds and cocoa with fiber and protein. Try not to eat the wrapper. Organic Dates, Organic Agave Nectar, Organic Cranberries (Organic Cranberries, Organic Apple Juice Concentrate, Organic Sunflower Oil), Organic Rice Protein Concentrate, Organic Cashew Butter (Organic Cashews, Organic Sunflower Oil), Organic Almonds, Organic Walnuts, Organic Cocoa, Organic Raspberry, Organic Natural Flavors. Contains Cashews, Almonds, Walnuts.  Certified organic, gluten-free, non-GMO, and vegan , Pure Bars provide completely clean and balanced nutrition in an enticing and entirely delicious bar. Made with only simple, real ingredients, Pure Bar will nurture your body, mind, and spirit.')\n",
    "test3 = (extract_food(\"chocolate lovers beware! we've created our ultimate coffee and chocolate gift by pairing our scrumptiously rich coffees with delicious treats from\"))\n",
    "test4 = extract_food(\"Pick a mix of 24 assorted cookies! Cookie options: Chocolate Chunk, Sugar, Peanut Butter Chip, White Chocolate Macadamia Nut, Oatmeal Raisin, M&M's, Double Chocolate Mint, Snickerdoodle, Double Chocolate Chunk. You MUST specify the types AND quantities of each type of each cookie in the Special Instructions.\")\n",
    "#print(test1)\n",
    "#print(test2)\n",
    "#print(test3)\n",
    "#print(test4)\n",
    "print(extract_food('cappuccino mousse above a mocha fudge layer on a chocolate pecan cookie crust, whipped cream frosted and garnished with chocolate wafers, chocolate chips, and cinnamon'))"
   ]
  },
  {
   "cell_type": "markdown",
   "metadata": {},
   "source": [
    "For now, these early results seem satisfactory to move on to the next part of the project"
   ]
  },
  {
   "cell_type": "markdown",
   "metadata": {},
   "source": [
    "## Part 2: IOI (Ingredient of Interest) metric "
   ]
  },
  {
   "cell_type": "markdown",
   "metadata": {},
   "source": [
    "A common metric to perform this kind of analysis:\n",
    "- in-document frequency\n",
    "- across-document frequency\n",
    "\n",
    "would be to use the TF-IDF metric.\n",
    "\n",
    "However, this rather ignores much-occuring words and identifies the rare (but meaningfull words), where we are trying to do the opposite in fact. This is of course because we already did much of the pre-processing into a neat ingredient list. \n",
    "\n",
    "To this, I propose three differnet metrics:\n",
    "- tf-df (a slight change from tf-idf)\n",
    "- total occurence\n",
    "- similarity occurence\n",
    "\n",
    "Which will be tackled one by one. Of course, the business case behind this metric is unknown. A primary high-level discussion about why we want to calculate it would perhaps bring up other potential metrics."
   ]
  },
  {
   "cell_type": "markdown",
   "metadata": {},
   "source": [
    "#### Metric 1: tf-df\n",
    "Where-as tf-idf uses a log function to punish words that occur in almost every separate corpus, I inversed it so it rewards this."
   ]
  },
  {
   "cell_type": "code",
   "execution_count": 24,
   "metadata": {
    "collapsed": true
   },
   "outputs": [],
   "source": [
    "import math\n",
    "\n",
    "def tf(word, doc):\n",
    "    return doc.count(word) / len(doc)\n",
    "\n",
    "def n_containing(word, doclist):\n",
    "    return sum(1 for doc in doclist if word in doc)\n",
    "\n",
    "def idf(word, doclist):\n",
    "    return math.log(len(doclist) / ( n_containing(word, doclist)))\n",
    "\n",
    "def tfidf(word, doc, doclist):\n",
    "    return tf(word, doc) / idf(word, doclist)"
   ]
  },
  {
   "cell_type": "markdown",
   "metadata": {},
   "source": [
    "#### Metric 2: total occurence\n",
    "This rather simple metric just counts the total number of occurences of the word in all corpuses, and divides it by the total number of words in all corpuses. Each corpus (application) is thus weighted equally."
   ]
  },
  {
   "cell_type": "code",
   "execution_count": 25,
   "metadata": {
    "collapsed": true
   },
   "outputs": [],
   "source": [
    "def count_total(doclist):\n",
    "    return sum(len(x) for x in doclist)\n",
    "def count_interest(word,doclist):\n",
    "    return sum(doc.count(word) for doc in doclist)\n",
    "def interest_total(word,doclist):\n",
    "    return count_interest(word,doclist) / count_total(doclist)"
   ]
  },
  {
   "cell_type": "markdown",
   "metadata": {},
   "source": [
    "#### Metric 3: similarity occurence\n",
    "The rationale behind this metric is two-fold:\n",
    "- factor 1 = the relative frequency of the word in the application\n",
    "- factor 2-n = the relative frequency of the word in each of the other applications, weighted with the similarity of this application to the root application. In sense the matrix product of the similarities and the relative freqs.\n",
    "\n",
    "\n",
    "For example: suppose we have 6 applications:\n",
    "- chocolate brownie\n",
    "- chocolate fudge cake\n",
    "- chocolate milk\n",
    "- coco-infused coffee \n",
    "- dame-blanche\n",
    "- chocolate-chip cookies\n",
    "\n",
    "If we want to calculate the relevance of the word 'chocolate' with regards to the first application, this is easily done.\n",
    "\n",
    "The word 'chocolate' will also appear in the other 5 topics, in greater or lesser degree. However, 'chocolate fudge cake' is related more closely to 'chocolate brownie' than 'coco-infused coffee' for example is. This is why I would want to have the total metric as follows:\n",
    "\n",
    "score = ( x1 / y1) . [ ( s21 . x2 / y2 ) + ( s31 . x3 / y3 ) + ... + (sn1 . xn / yn) ]\n",
    "\n",
    "where :\n",
    "- xa = frequency of word 'chocolate' in corpus a\n",
    "- ya = number of words in corpus a     \n",
    "- sba = similarity between application b and a\n",
    "\n",
    "The difficulty here is calculating the similarity between a and b, because a name does not necessarily tell something about the dish (for ex: \"hearty oven-dish\") and we need a clean word for comparison (for ex: \"frapuchino\" won't do).\n",
    "\n",
    "This is why we will be using the 'concept' tags associated with each dish. We will find the synsets for these concept tags, and average out the similarity of all interactios.\n",
    "\n",
    "Luckily, nltk has some nice functions for this."
   ]
  },
  {
   "cell_type": "code",
   "execution_count": 26,
   "metadata": {
    "collapsed": true
   },
   "outputs": [],
   "source": [
    "from nltk.corpus import wordnet\n",
    "\n",
    "def calc_association(tags1,tags2):\n",
    "    #similarities = [wordnet.synsets(i)[0].wup_similarity(wordnet.synsets(j)[0]) for i in tags1 for j in tags2]\n",
    "    \n",
    "    # the reason I did not use the concise notation above is because some words do not appear in the wordnet dic\n",
    "    # so I need to be able to catch exceptions\n",
    "\n",
    "    similarities = []\n",
    "    \n",
    "    for i in tags1:\n",
    "        for j in tags2:\n",
    "            try:\n",
    "                sim_score = wordnet.synsets(i)[0].wup_similarity(wordnet.synsets(j)[0])\n",
    "                if not sim_score is None:\n",
    "                    similarities.append(sim_score)\n",
    "            except:\n",
    "                print(tags1)\n",
    "                print(tags2)\n",
    "                print('error for words ' + i  + ' and ' + j)\n",
    "                print(similarities)\n",
    "                pass\n",
    "    return np.mean(similarities)\n",
    "\n",
    "def calc_rel_freq(word, doc):\n",
    "    return 0 if len(doc) == 0 else doc.count(word) / len(doc)\n",
    "\n",
    "def calc_metric(word,doc, tags, doclist,taglist):\n",
    "    if len(doc)==0:\n",
    "        return 0\n",
    "    else:\n",
    "        metric = calc_rel_freq(word,doc)\n",
    "        similarities = [calc_association(tags,tag_item) for tag_item in taglist]\n",
    "        rel_freqs = [calc_rel_freq(word,doc_item) for doc_item in doclist]\n",
    "        #print(similarities)\n",
    "        #print(rel_freqs)\n",
    "        #print(np.dot(similarities,rel_freqs))\n",
    "        #print(metric)\n",
    "        return metric + np.dot(similarities,rel_freqs)"
   ]
  },
  {
   "cell_type": "code",
   "execution_count": 27,
   "metadata": {
    "collapsed": false
   },
   "outputs": [
    {
     "name": "stdout",
     "output_type": "stream",
     "text": [
      "0.13636363636363635\n"
     ]
    }
   ],
   "source": [
    "print(interest_total('chocolate',[test1,test2,test3,test4]))"
   ]
  },
  {
   "cell_type": "code",
   "execution_count": 28,
   "metadata": {
    "collapsed": false
   },
   "outputs": [
    {
     "name": "stdout",
     "output_type": "stream",
     "text": [
      "1.3904237987128831\n"
     ]
    }
   ],
   "source": [
    "print(tfidf('chocolate',test3,[test1,test2,test3,test4]))"
   ]
  },
  {
   "cell_type": "code",
   "execution_count": 29,
   "metadata": {
    "collapsed": false
   },
   "outputs": [
    {
     "name": "stdout",
     "output_type": "stream",
     "text": [
      "0.29304029304\n"
     ]
    }
   ],
   "source": [
    "print(calc_association(['cake'],['chocolate','milk','water']))"
   ]
  },
  {
   "cell_type": "code",
   "execution_count": 30,
   "metadata": {
    "collapsed": false
   },
   "outputs": [
    {
     "name": "stdout",
     "output_type": "stream",
     "text": [
      "1.01005053256\n"
     ]
    }
   ],
   "source": [
    "print(calc_metric('chocolate',test3,['chocolate','coffee','milk'],[test1,test2,test3,test4],[['chocolate','bread'],['chocolate','water'],['chocolate','strawberry','banana'],['chocolate','coffee','milk']]))"
   ]
  },
  {
   "cell_type": "markdown",
   "metadata": {},
   "source": [
    "This seems fine for now..."
   ]
  },
  {
   "cell_type": "markdown",
   "metadata": {},
   "source": [
    "### Comparison of the three metrics\n",
    "\n",
    "We now test the three metrics for the menu items provided in the JSON file.\n",
    "\n",
    "To do this, we first need to read in the JSON file. Since we need several things per menu item, I first decided to make a class for it, as well as a class for each application in the menu item."
   ]
  },
  {
   "cell_type": "code",
   "execution_count": 31,
   "metadata": {
    "collapsed": true
   },
   "outputs": [],
   "source": [
    "class Menu_item:\n",
    "    def __init__(self, name, query):\n",
    "        self.name = name\n",
    "        self.query = query\n",
    "        self.applications = []\n",
    "        \n",
    "    def set_applications(self,applications):\n",
    "        self.applications = applications\n",
    "    \n",
    "    def set_metrics(self,metrics):\n",
    "        self.metrics = metrics\n",
    "\n",
    "    \n",
    "\n",
    "class Application:\n",
    "    def __init__(self,name,description,ingredients,tags):\n",
    "        self.name = name\n",
    "        self.description = description\n",
    "        self.tags = tags\n",
    "        self.ingredients = ingredients\n",
    "        self.metrics =  []"
   ]
  },
  {
   "cell_type": "markdown",
   "metadata": {},
   "source": [
    "I later realised however that, given the specific calls and data I needed, that a new MongoDB collection would be more in order. This would have more or less the same structure as above."
   ]
  },
  {
   "cell_type": "markdown",
   "metadata": {},
   "source": [
    "Below, the data is queried and stored in the objects"
   ]
  },
  {
   "cell_type": "code",
   "execution_count": 32,
   "metadata": {
    "collapsed": false,
    "scrolled": true
   },
   "outputs": [
    {
     "name": "stdout",
     "output_type": "stream",
     "text": [
      ">>>>>>>>>>>>>>>>>>>>>>>>> handled chocolate_chip_cookie\n",
      ">>>>>>>>>>>>>>>>>>>>>>>>> handled chocolate_bar\n",
      ">>>>>>>>>>>>>>>>>>>>>>>>> handled chocolate_bread\n",
      ">>>>>>>>>>>>>>>>>>>>>>>>> handled chocolate_brownie\n",
      ">>>>>>>>>>>>>>>>>>>>>>>>> handled chocolate_buttercream\n",
      ">>>>>>>>>>>>>>>>>>>>>>>>> handled chocolate_cake\n",
      ">>>>>>>>>>>>>>>>>>>>>>>>> handled chocolate_candy\n",
      ">>>>>>>>>>>>>>>>>>>>>>>>> handled chocolate_caramel\n",
      ">>>>>>>>>>>>>>>>>>>>>>>>> handled chocolate_cheesecake\n",
      ">>>>>>>>>>>>>>>>>>>>>>>>> handled chocolate_chip\n",
      ">>>>>>>>>>>>>>>>>>>>>>>>> handled chocolate_coated\n",
      ">>>>>>>>>>>>>>>>>>>>>>>>> handled chocolate_coconut\n",
      ">>>>>>>>>>>>>>>>>>>>>>>>> handled chocolate_cookie\n",
      ">>>>>>>>>>>>>>>>>>>>>>>>> handled chocolate_cream_dessert\n",
      ">>>>>>>>>>>>>>>>>>>>>>>>> handled chocolate_croissant\n",
      ">>>>>>>>>>>>>>>>>>>>>>>>> handled chocolate_cupcake\n",
      ">>>>>>>>>>>>>>>>>>>>>>>>> handled chocolate_dessert\n",
      ">>>>>>>>>>>>>>>>>>>>>>>>> handled chocolate_doughnut\n",
      ">>>>>>>>>>>>>>>>>>>>>>>>> handled chocolate_eclair\n",
      ">>>>>>>>>>>>>>>>>>>>>>>>> handled chocolate_fondant\n",
      ">>>>>>>>>>>>>>>>>>>>>>>>> handled chocolate_fondue\n",
      ">>>>>>>>>>>>>>>>>>>>>>>>> handled chocolate_frosting\n",
      ">>>>>>>>>>>>>>>>>>>>>>>>> handled chocolate_fudge\n",
      ">>>>>>>>>>>>>>>>>>>>>>>>> handled chocolate_ganache\n",
      ">>>>>>>>>>>>>>>>>>>>>>>>> handled chocolate_glaze\n",
      ">>>>>>>>>>>>>>>>>>>>>>>>> handled chocolate_ice_cream\n",
      ">>>>>>>>>>>>>>>>>>>>>>>>> handled chocolate_icing\n",
      ">>>>>>>>>>>>>>>>>>>>>>>>> handled chocolate_lasagna\n",
      ">>>>>>>>>>>>>>>>>>>>>>>>> handled chocolate_lava_cake\n",
      ">>>>>>>>>>>>>>>>>>>>>>>>> handled chocolate_lollipop\n",
      ">>>>>>>>>>>>>>>>>>>>>>>>> handled chocolate_milkshake\n",
      ">>>>>>>>>>>>>>>>>>>>>>>>> handled chocolate_mousse\n",
      ">>>>>>>>>>>>>>>>>>>>>>>>> handled chocolate_muffin\n",
      ">>>>>>>>>>>>>>>>>>>>>>>>> handled chocolate_pancake\n",
      ">>>>>>>>>>>>>>>>>>>>>>>>> handled chocolate_peanut_butter\n",
      ">>>>>>>>>>>>>>>>>>>>>>>>> handled chocolate_pie\n",
      ">>>>>>>>>>>>>>>>>>>>>>>>> handled chocolate_praline\n",
      ">>>>>>>>>>>>>>>>>>>>>>>>> handled chocolate_pretzel\n",
      ">>>>>>>>>>>>>>>>>>>>>>>>> handled chocolate_pudding\n",
      ">>>>>>>>>>>>>>>>>>>>>>>>> handled chocolate_rasberry\n",
      ">>>>>>>>>>>>>>>>>>>>>>>>> handled chocolate_sauce\n",
      ">>>>>>>>>>>>>>>>>>>>>>>>> handled chocolate_smoothie\n",
      ">>>>>>>>>>>>>>>>>>>>>>>>> handled chocolate_souffle\n",
      ">>>>>>>>>>>>>>>>>>>>>>>>> handled chocolate_strawberries\n",
      ">>>>>>>>>>>>>>>>>>>>>>>>> handled chocolate_tablet\n",
      ">>>>>>>>>>>>>>>>>>>>>>>>> handled chocolate_tart\n",
      ">>>>>>>>>>>>>>>>>>>>>>>>> handled chocolate_torte\n",
      ">>>>>>>>>>>>>>>>>>>>>>>>> handled chocolate_triffle\n",
      ">>>>>>>>>>>>>>>>>>>>>>>>> handled chocolate_christmas_cake\n",
      ">>>>>>>>>>>>>>>>>>>>>>>>> handled chocolate_flavored_hot\n",
      ">>>>>>>>>>>>>>>>>>>>>>>>> handled chocolate_healthy\n",
      ">>>>>>>>>>>>>>>>>>>>>>>>> handled chocolate_hot\n",
      ">>>>>>>>>>>>>>>>>>>>>>>>> handled mocaccino\n",
      ">>>>>>>>>>>>>>>>>>>>>>>>> handled tiramisu\n",
      ">>>>>>>>>>>>>>>>>>>>>>>>> handled toffee\n",
      ">>>>>>>>>>>>>>>>>>>>>>>>> handled nibbles\n",
      ">>>>>>>>>>>>>>>>>>>>>>>>> handled chocolate_iced_coffee\n",
      ">>>>>>>>>>>>>>>>>>>>>>>>> handled iced_chocolate\n",
      ">>>>>>>>>>>>>>>>>>>>>>>>> handled mochaccino\n",
      ">>>>>>>>>>>>>>>>>>>>>>>>> handled chocolate_tea\n",
      ">>>>>>>>>>>>>>>>>>>>>>>>> handled chocolate_chai\n",
      ">>>>>>>>>>>>>>>>>>>>>>>>> handled chocolate_mate\n",
      ">>>>>>>>>>>>>>>>>>>>>>>>> handled chocolate_matcha\n",
      ">>>>>>>>>>>>>>>>>>>>>>>>> handled chocolate_coffee\n"
     ]
    }
   ],
   "source": [
    "db.menu_items.delete_many({})\n",
    "\n",
    "\n",
    "with open('config_Menu_Items.json') as data_file:    \n",
    "    data = json.load(data_file)\n",
    "    for feature in data[\"configs\"]:\n",
    "        menu_data = {}\n",
    "        menu_data[\"name\"] = feature[\"Name\"]\n",
    "        menu_data[\"applications\"] = []\n",
    "      \n",
    "        result_applications = db.foodpairing.aggregate([\n",
    "                     { '$match': feature[\"Query\"]},\n",
    "                     {'$group': { \n",
    "                         '_id':{\n",
    "                             'name': '$name',\n",
    "                             'description': '$description',\n",
    "                             'tags':'$tags'\n",
    "                         },\n",
    "                         'name':{\n",
    "                             '$min': \"$name\"\n",
    "                         },\n",
    "                         'description':{\n",
    "                             '$min': \"$description\"\n",
    "                         },\n",
    "                         'tags':{\n",
    "                             '$min':'$tags'\n",
    "                         } \n",
    "                     }},\n",
    "                     {'$project': { 'name' : 1 ,'description':1,'tags':1, '_id':0}},\n",
    "                     {'$match':{'name': {'$not': re.compile(r'1/2 Sheet',re.IGNORECASE)}}},\n",
    "                     {'$match':{'name': {'$not': re.compile(r'1/4 Sheet',re.IGNORECASE)}}}\n",
    "                   ])\n",
    "            \n",
    "\n",
    "        for result in result_applications:\n",
    "                      \n",
    "            tags = [tag[\"name\"] for tag in result[\"tags\"] if tag[\"kind\"] == \"concept\"]            \n",
    "\n",
    "            ingredients = extract_food(result[\"description\"])\n",
    "            ingredients.sort()\n",
    "            \n",
    "            application_data = {}\n",
    "            application_data[\"name\"] = result[\"name\"]            \n",
    "            application_data[\"tags\"] = tags_split = [words for segments in tags for words in segments.split()]\n",
    "            application_data[\"description\"] = result[\"description\"]\n",
    "            application_data[\"ingredients\"] = ingredients\n",
    "            \n",
    "            menu_data[\"applications\"].append(application_data)\n",
    "            \n",
    "        print(\">>>>>>>>>>>>>>>>>>>>>>>>> handled \" + feature[\"Name\"]) \n",
    "        result_insert = db.menu_items.insert_one(menu_data)       "
   ]
  },
  {
   "cell_type": "markdown",
   "metadata": {},
   "source": [
    "#### Calculate metrics for each ingredient in each application of each menu_item"
   ]
  },
  {
   "cell_type": "markdown",
   "metadata": {},
   "source": [
    "Retrieve menu items"
   ]
  },
  {
   "cell_type": "code",
   "execution_count": 33,
   "metadata": {
    "collapsed": false
   },
   "outputs": [],
   "source": [
    "result_applications = db.menu_items.find_one()"
   ]
  },
  {
   "cell_type": "code",
   "execution_count": 34,
   "metadata": {
    "collapsed": false,
    "scrolled": true
   },
   "outputs": [
    {
     "name": "stdout",
     "output_type": "stream",
     "text": [
      "calculating: chocolate_chip_cookie\n",
      "calculating: chocolate_bar\n",
      "calculating: chocolate_bread\n",
      "calculating: chocolate_brownie\n",
      "calculating: chocolate_buttercream\n",
      "calculating: chocolate_cake\n",
      "calculating: chocolate_candy\n",
      "calculating: chocolate_caramel\n",
      "calculating: chocolate_cheesecake\n",
      "calculating: chocolate_chip\n",
      "calculating: chocolate_coated\n",
      "calculating: chocolate_coconut\n",
      "calculating: chocolate_cookie\n",
      "calculating: chocolate_cream_dessert\n",
      "calculating: chocolate_croissant\n",
      "calculating: chocolate_cupcake\n",
      "calculating: chocolate_dessert\n",
      "calculating: chocolate_doughnut\n",
      "calculating: chocolate_eclair\n",
      "calculating: chocolate_fondant\n",
      "calculating: chocolate_fondue\n",
      "calculating: chocolate_frosting\n",
      "calculating: chocolate_fudge\n",
      "calculating: chocolate_ganache\n",
      "calculating: chocolate_glaze\n",
      "calculating: chocolate_ice_cream\n",
      "calculating: chocolate_icing\n",
      "calculating: chocolate_lasagna\n",
      "calculating: chocolate_lava_cake\n",
      "calculating: chocolate_lollipop\n",
      "calculating: chocolate_milkshake\n",
      "calculating: chocolate_mousse\n",
      "calculating: chocolate_muffin\n",
      "calculating: chocolate_pancake\n",
      "calculating: chocolate_peanut_butter\n",
      "calculating: chocolate_pie\n",
      "calculating: chocolate_praline\n",
      "calculating: chocolate_pretzel\n",
      "calculating: chocolate_pudding\n",
      "calculating: chocolate_rasberry\n",
      "calculating: chocolate_sauce\n",
      "calculating: chocolate_smoothie\n",
      "calculating: chocolate_souffle\n",
      "calculating: chocolate_strawberries\n",
      "calculating: chocolate_tablet\n",
      "calculating: chocolate_tart\n",
      "calculating: chocolate_torte\n",
      "calculating: chocolate_triffle\n",
      "calculating: chocolate_christmas_cake\n",
      "calculating: chocolate_flavored_hot\n",
      "calculating: chocolate_healthy\n",
      "calculating: chocolate_hot\n",
      "calculating: mocaccino\n",
      "calculating: tiramisu\n",
      "calculating: toffee\n",
      "calculating: nibbles\n",
      "calculating: chocolate_iced_coffee\n",
      "calculating: iced_chocolate\n",
      "calculating: mochaccino\n",
      "calculating: chocolate_tea\n",
      "calculating: chocolate_chai\n",
      "calculating: chocolate_mate\n",
      "calculating: chocolate_matcha\n",
      "calculating: chocolate_coffee\n"
     ]
    }
   ],
   "source": [
    "for menu_item in db.menu_items.find( {}, { \"name\": 1,\"_id\":1} ):\n",
    "    print('calculating: ' + menu_item['name'])\n",
    "    \n",
    "    # retrieve all ingredients for this menu item\n",
    "    ingredients = [ingredient[\"applications\"][\"ingredients\"] for ingredient in db.menu_items.aggregate([\n",
    "        {\"$match\":{'name':menu_item['name']}},\n",
    "        {\"$unwind\":\"$applications\"},\n",
    "        {\"$project\":{\"applications.ingredients\":1,\"_id\":0}}\n",
    "    ])]\n",
    "\n",
    "\n",
    "    \n",
    "    # retrieve all tags for this menu item\n",
    "    tags = [tag[\"applications\"][\"tags\"] for tag in db.menu_items.aggregate([\n",
    "        {\"$match\":{'name':menu_item['name']}},\n",
    "        {\"$unwind\":\"$applications\"},\n",
    "        {\"$project\":{\"applications.tags\":1,\"_id\":0}}\n",
    "    ])]\n",
    "\n",
    "    \n",
    "    # calc associations between applications\n",
    "    f_calc_assoc = lambda x,y: 1 if (x== ['chocolate'] and y==['chocolate']) else calc_association(x,y) # since this tags combo occurs very frequently\n",
    "    vf_calc_assoc = np.vectorize(f_calc_assoc)\n",
    "    associations = np.fromiter([f_calc_assoc(x,y) for x in tags for y in tags], np.float).reshape(len(tags),len(tags))\n",
    "    np.fill_diagonal(associations,1)\n",
    "    \n",
    "    \n",
    "    # calc relative frequencies of each ingredients per applications\n",
    "    unique_ingredients = np.unique([x for l in ingredients for x in l])\n",
    "    f_rel_freq = lambda x,y: (x.count(y)/len(x)) if len(x) > 0 else 0\n",
    "    vf_rel_freq = np.vectorize(f_rel_freq)\n",
    "    rel_freqs = np.fromiter([f_rel_freq(x,y) for x in ingredients for y in unique_ingredients],np.float).reshape(len(ingredients),len(unique_ingredients)).transpose()  \n",
    "    \n",
    "    \n",
    "    # dot product of the two matrices gives the importance of each ingredient per application:\n",
    "    metrics = np.dot(rel_freqs,associations)\n",
    "    \n",
    "    \n",
    "    results_apps = db.menu_items.aggregate([\n",
    "       {\"$match\": {\"_id\": menu_item[\"_id\"]}},\n",
    "       {\"$project\": {\"number_of_apps\": { \"$size\": \"$applications\" }}}\n",
    "    ])\n",
    "    \n",
    "    number_of_apps = 0\n",
    "    for result_apps in results_apps:\n",
    "        number_of_apps = result_apps['number_of_apps']\n",
    "\n",
    "\n",
    "    # add this attribute to the document\n",
    "    for i in range(0, number_of_apps):\n",
    "        \n",
    "        # multiply with an activator function (ceiling of rel freqs) to discard ingredients that do not occur\n",
    "        \n",
    "        metrics_application = (np.multiply(metrics[:,i],np.ceil(rel_freqs[:,i])))\n",
    "        \n",
    "        # normalize by dividing by the number of apps and multiplying with the number of unique ingredients\n",
    "        \n",
    "        metrics_application = (metrics_application * len(unique_ingredients)) / number_of_apps\n",
    "        \n",
    "        # insert into case\n",
    "        \n",
    "        db.menu_items.update_one(\n",
    "            {'_id' : menu_item['_id']}, \n",
    "            {'$unset': { 'applications.' + str(i) + '.metrics': \"\" }}\n",
    "        )\n",
    "        \n",
    "        db.menu_items.update_one(\n",
    "            {'_id' : menu_item['_id']}, \n",
    "            {'$set' : {'applications.' + str(i) + '.metrics' : metrics_application.tolist()}}\n",
    "        )\n",
    "    \n",
    "    db.menu_items.update_one(\n",
    "        {'_id' : menu_item['_id']}, \n",
    "        {'$unset': { 'u_ingredients': \"\" }}\n",
    "    )\n",
    "        \n",
    "    db.menu_items.update_one(\n",
    "        {'_id' : menu_item['_id']}, \n",
    "        {'$set' : {'u_ingredients':unique_ingredients.tolist()}}\n",
    "    )\n"
   ]
  },
  {
   "cell_type": "markdown",
   "metadata": {},
   "source": [
    "#### Sanity check on the results\n",
    "\n",
    "The question now poses itself: how to verify the results. For this, I would like to check of the x% highest scoring ingredients per menu item, over all its applications.\n",
    "\n",
    "Finally, over all calculated metrics, I want to calculate and display the distribution. Especially the mean and stdev are of interest to me if this follows a known distribution type (to be calculated with Shapiro-Wilk). Because this could help tell us, for future observed cases, if a menu_item has any particular ingredients of interest."
   ]
  },
  {
   "cell_type": "code",
   "execution_count": 35,
   "metadata": {
    "collapsed": false
   },
   "outputs": [
    {
     "data": {
      "image/png": "[encoded data removed]",
      "text/plain": [
       "<matplotlib.figure.Figure at 0x228f9756550>"
      ]
     },
     "metadata": {},
     "output_type": "display_data"
    }
   ],
   "source": [
    "# obtain al metric fields from the database\n",
    "\n",
    "metrics = [ingredient[\"applications\"][\"metrics\"] for ingredient in db.menu_items.aggregate([\n",
    "    {\"$unwind\":\"$applications\"},\n",
    "    {\"$project\":{\"applications.metrics\":1,\"_id\":0}}\n",
    "])]\n",
    "\n",
    "\n",
    "# flatten and remove zeroes\n",
    "\n",
    "metrics_flattened = np.array([item for sublist in metrics for item in sublist])\n",
    "#metrics_flattened = np.array(metrics[1])\n",
    "metrics_flattened = metrics_flattened[metrics_flattened != 0.0]\n",
    "\n",
    "\n",
    "# visualise the results\n",
    "\n",
    "plt.hist(metrics_flattened, bins=20,normed=True)  \n",
    "plt.title(\"Histogram of metrics\")\n",
    "plt.show()"
   ]
  },
  {
   "cell_type": "markdown",
   "metadata": {},
   "source": [
    "This kind of looks like a Gamma distribution, so we should be able to fit a distribution on it:"
   ]
  },
  {
   "cell_type": "code",
   "execution_count": 36,
   "metadata": {
    "collapsed": false,
    "scrolled": false
   },
   "outputs": [
    {
     "name": "stdout",
     "output_type": "stream",
     "text": [
      "gamma ppf treshold value: 17.6754101514\n"
     ]
    },
    {
     "data": {
      "image/png": "[encoded data removed]",
      "text/plain": [
       "<matplotlib.figure.Figure at 0x228f99dff98>"
      ]
     },
     "metadata": {},
     "output_type": "display_data"
    }
   ],
   "source": [
    "from scipy.stats import gamma, kstest\n",
    "\n",
    "# generate x values range\n",
    "x = np.arange(0,80,0.3)\n",
    "\n",
    "# fit the data to a gamme distribution, and calculate the parameters\n",
    "shape, loc, scale = gamma.fit(metrics_flattened)\n",
    "g = gamma.pdf(x=x, a=shape, loc=loc, scale=scale)\n",
    "\n",
    "# a bit arbitrary, but let's classify every value in the 10% right tail as 'extraordinary'\n",
    "treshold_gamma = gamma.ppf(0.75,shape,loc,scale)\n",
    "print('gamma ppf treshold value: ' + str(treshold_gamma))\n",
    "\n",
    "# another method to classify 'extraordinary' ingredients is to just take the 10% highest ones for example\n",
    "\n",
    "# plot the results\n",
    "plt.hist(metrics_flattened, bins=40, normed=True);\n",
    "plt.plot(x, g, 'r-', linewidth=6, alpha=.6)\n",
    "plt.annotate(s='shape = %.3f\\nloc = %.3f\\nscale = %.3f' %(shape, loc, scale), xy=(6,.2))\n",
    "plt.title(\"Histogram of metrics, mapped to gamma distribution\")\n",
    "plt.show()"
   ]
  },
  {
   "cell_type": "markdown",
   "metadata": {
    "collapsed": true
   },
   "source": [
    "#### Extract the extra-ordinary ingredients via the two methods:\n",
    "\n",
    "1. identify the top 10% scoring ingredients per menu_item\n",
    "2. identify every ingredient per menu_item with a score above the treshold"
   ]
  },
  {
   "cell_type": "markdown",
   "metadata": {},
   "source": [
    "##### Method 1"
   ]
  },
  {
   "cell_type": "code",
   "execution_count": 37,
   "metadata": {
    "collapsed": false
   },
   "outputs": [
    {
     "name": "stdout",
     "output_type": "stream",
     "text": [
      "--- treating menu item: chocolate_mate\n",
      "['chocolate', 'coffee', 'pie']\n",
      "--- treating menu item: iced_chocolate\n",
      "['chocolate', 'cream', 'cake', 'almond', 'butter', 'sauce', 'vanilla', 'mousse', 'banana', 'strawberry', 'cheese', 'caramel', 'orange']\n",
      "--- treating menu item: chocolate_iced_coffee\n",
      "['coffee']\n",
      "--- treating menu item: chocolate_flavored_hot\n",
      "['chocolate']\n",
      "--- treating menu item: chocolate_christmas_cake\n",
      "['chocolate', 'tree']\n",
      "--- treating menu item: chocolate_tart\n",
      "['chocolate', 'tart', 'cream', 'cake', 'cherry', 'mousse', 'tea', 'truffle', 'scone', 'preserve', 'custard', 'pastry', 'tartlet']\n",
      "--- treating menu item: chocolate_strawberries\n",
      "['chocolate', 'strawberry', 'cream', 'cake', 'chip', 'banana', 'vanilla', 'mousse', 'sauce', 'milk', 'raspberry', 'jam', 'orange']\n",
      "--- treating menu item: chocolate_souffle\n",
      "['chocolate', 'souffle', 'cream', 'vanilla', 'mousse', 'sake']\n",
      "--- treating menu item: chocolate_pudding\n",
      "['chocolate', 'pudding', 'cream', 'pie', 'cake']\n",
      "--- treating menu item: chocolate_pretzel\n",
      "['chocolate', 'pretzel']\n",
      "--- treating menu item: chocolate_sauce\n",
      "['chocolate', 'sauce', 'chicken', 'rice', 'cream', 'tortilla', 'mole', 'spice', 'bean', 'chile', 'corn', 'peanut', 'pepper', 'berry', 'cake', 'butter', 'ice', 'vanilla', 'caramel', 'banana', 'sweet', 'mousse', 'sesame', 'chili', 'raspberry', 'salad']\n",
      "--- treating menu item: chocolate_pancake\n",
      "['chocolate', 'chip', 'pancake']\n",
      "--- treating menu item: chocolate_mousse\n",
      "['chocolate', 'mousse', 'cake', 'cream', 'raspberry', 'vanilla', 'strawberry', 'butter', 'milk', 'hazelnut', 'almond', 'oreo', 'sauce', 'cookie', 'white', 'caramel', 'peanut', 'orange', 'lemon', 'pistachio', 'ice']\n",
      "--- treating menu item: chocolate_chai\n",
      "['chocolate']\n",
      "--- treating menu item: toffee\n",
      "['toffee', 'chocolate', 'cream', 'ice', 'sauce', 'caramel', 'vanilla', 'cake', 'milk', 'mousse', 'butter', 'coffee', 'almond', 'hazelnut', 'peanut', 'sugar', 'walnut', 'chip', 'banana', 'espresso', 'fudge', 'coconut', 'apple']\n",
      "--- treating menu item: chocolate_ice_cream\n",
      "['riesling']\n",
      "--- treating menu item: chocolate_glaze\n",
      "['chocolate', 'cake', 'mousse', 'cream', 'almond', 'butter', 'raspberry', 'truffle', 'caramel', 'torte']\n",
      "--- treating menu item: chocolate_fudge\n",
      "['chocolate', 'fudge', 'cake', 'cream', 'vanilla', 'butter', 'ice', 'cookie', 'cupcake', 'brownie', 'raspberry']\n",
      "--- treating menu item: chocolate_frosting\n",
      "['chocolate', 'cake', 'cream', 'vanilla', 'cupcake', 'cheese', 'raspberry', 'coconut', 'butter']\n",
      "--- treating menu item: chocolate_muffin\n",
      "['chocolate', 'muffin', 'tea', 'coffee', 'juice']\n",
      "--- treating menu item: chocolate_lollipop\n",
      "['lollipop']\n",
      "--- treating menu item: chocolate_hot\n",
      "['chocolate', 'cream', 'fudge', 'coffee', 'cake', 'ice', 'milk', 'tea', 'juice', 'toast', 'orange']\n",
      "--- treating menu item: chocolate_fondue\n",
      "['chocolate', 'cake', 'marshmallow', 'strawberry', 'treat', 'fondue']\n",
      "--- treating menu item: chocolate_fondant\n",
      "['chocolate', 'cupcake', 'vanilla', 'flower', 'bourbon']\n",
      "--- treating menu item: tiramisu\n",
      "['chocolate', 'cake', 'dessert', 'tiramisu', 'vanilla', 'cocoa', 'mascarpone', 'espresso', 'cream', 'rum', 'coffee']\n",
      "--- treating menu item: chocolate_eclair\n",
      "['chocolate', 'eclair', 'pastry', 'cream']\n",
      "--- treating menu item: chocolate_milkshake\n",
      "['chocolate']\n",
      "--- treating menu item: chocolate_pie\n",
      "['chocolate', 'pie', 'cake', 'cream', 'chip', 'vanilla', 'walnut', 'coconut', 'truffle', 'caramel', 'milk', 'almond', 'butter', 'mousse', 'box']\n",
      "--- treating menu item: chocolate_dessert\n",
      "['chocolate', 'dessert', 'cake', 'cream', 'mousse', 'vanilla', 'pie', 'sauce', 'ice', 'apple', 'truffle']\n",
      "--- treating menu item: chocolate_icing\n",
      "['chocolate', 'cake', 'cream', 'fudge', 'vanilla', 'cheese', 'almond']\n",
      "--- treating menu item: chocolate_praline\n",
      "['chocolate', 'praline', 'mousse', 'cream', 'cake']\n",
      "--- treating menu item: chocolate_croissant\n",
      "['chocolate', 'croissant', 'juice', 'muffin']\n",
      "--- treating menu item: chocolate_cheesecake\n",
      "['chocolate', 'cheesecake', 'raspberry', 'cake', 'cream', 'vanilla', 'mousse', 'caramel', 'cookie', 'chip', 'bite', 'tiramisu']\n",
      "--- treating menu item: chocolate_coffee\n",
      "['chocolate', 'coffee', 'cake', 'cream', 'tea', 'juice', 'bean', 'orange', 'vanilla', 'cheese', 'mousse', 'milk', 'muffin', 'ice', 'almond', 'butter']\n",
      "--- treating menu item: chocolate_cupcake\n",
      "['chocolate', 'cupcake', 'vanilla', 'flower', 'bourbon', 'fudge', 'chip']\n",
      "--- treating menu item: nibbles\n",
      "['sandwich']\n",
      "--- treating menu item: chocolate_caramel\n",
      "['chocolate', 'caramel', 'cream', 'milk', 'cake', 'sauce', 'vanilla', 'ice', 'banana', 'butter', 'almond', 'toffee', 'chip', 'peanut', 'coconut', 'fudge', 'mousse', 'walnut']\n",
      "--- treating menu item: chocolate_coconut\n",
      "['chocolate', 'coconut', 'cake', 'cream', 'vanilla', 'caramel', 'milk', 'pie', 'lemon', 'almond', 'banana', 'custard', 'chip']\n",
      "--- treating menu item: chocolate_ganache\n",
      "['chocolate', 'cake', 'cream', 'mousse', 'vanilla', 'hazelnut', 'butter', 'milk', 'raspberry', 'almond', 'cheesecake', 'peanut']\n",
      "--- treating menu item: chocolate_bread\n",
      "['chocolate', 'bread', 'cream', 'cake', 'sauce', 'raisin', 'tea', 'strawberry', 'mascarpone', 'cupcake', 'chip', 'banana', 'strawberries', 'raspberry', 'peppermint']\n",
      "--- treating menu item: chocolate_tea\n",
      "['chocolate', 'tea', 'coffee', 'cream', 'scone', 'juice', 'cocoa', 'preserve', 'mousse', 'orange', 'potato', 'cake', 'muffin', 'ice', 'toast', 'truffle']\n",
      "--- treating menu item: chocolate_torte\n",
      "['chocolate', 'torte', 'cream', 'cake', 'mousse', 'berry', 'bittersweet', 'hazelnut']\n",
      "--- treating menu item: chocolate_coated\n",
      "['chocolate', 'truffle', 'cream']\n",
      "--- treating menu item: chocolate_brownie\n",
      "['chocolate', 'brownie', 'chip', 'cookie', 'cream', 'cake', 'cooky', 'fudge', 'ice', 'raisin', 'vanilla', 'peanut', 'butter', 'base']\n",
      "--- treating menu item: chocolate_candy\n",
      "['chocolate', 'candy', 'caramel', 'cake', 'factory']\n",
      "--- treating menu item: chocolate_chip\n",
      "['chocolate', 'chip', 'cream', 'butter', 'cake', 'cooky', 'banana', 'vanilla', 'peanut', 'strawberry', 'syrup', 'sugar', 'raisin', 'blueberry', 'maple', 'brownie', 'cookie', 'pie', 'walnut', 'ice', 'sweet', 'sauce']\n",
      "--- treating menu item: chocolate_buttercream\n",
      "['chocolate', 'cake', 'vanilla', 'cupcake', 'hazelnut', 'cream', 'coconut', 'mousse']\n",
      "--- treating menu item: chocolate_bar\n",
      "['chocolate', 'cream', 'brownie', 'candy', 'heath', 'cheesecake', 'treat', 'cake', 'butter', 'caramel', 'raspberry', 'mousse']\n",
      "--- treating menu item: chocolate_cookie\n",
      "['chocolate', 'cooky', 'cookie', 'cream', 'chip', 'vanilla', 'butter', 'mousse', 'oreo', 'cake', 'ice', 'peanut', 'brownie', 'fudge', 'raisin', 'truffle', 'tea', 'oatmeal']\n",
      "--- treating menu item: chocolate_cake\n",
      "['chocolate', 'cake', 'cream', 'vanilla', 'mousse', 'cupcake', 'butter', 'raspberry', 'cheesecake', 'fudge', 'caramel', 'coconut', 'almond', 'chip', 'strawberry', 'cheese', 'ice', 'milk', 'coffee', 'hazelnut', 'orange', 'cherry', 'sauce', 'peanut', 'filling', 'round', 'banana', 'cocoa']\n",
      "--- treating menu item: chocolate_healthy\n",
      "['yogurt']\n",
      "--- treating menu item: chocolate_cream_dessert\n",
      "['chocolate', 'cream', 'dessert', 'cake', 'mousse']\n",
      "--- treating menu item: chocolate_peanut_butter\n",
      "['butter', 'chocolate']\n",
      "--- treating menu item: chocolate_chip_cookie\n",
      "['chocolate', 'chip', 'cooky', 'cookie', 'brownie', 'cream', 'butter', 'peanut', 'raisin', 'cake']\n"
     ]
    }
   ],
   "source": [
    "metric_menu_items = [ingredient for ingredient in db.menu_items.aggregate([\n",
    "    {\"$unwind\":\"$applications\"},\n",
    "    {\"$project\":{\"name\":1,\"u_ingredients\":1,\"applications.metrics\":1,\"_id\":0}},\n",
    "    {\"$group\":{\"_id\":{\"name\":\"$name\",\"u_ingredients\":\"$u_ingredients\"},\"items\": { \"$push\":  \"$applications.metrics\" }}}\n",
    "])]\n",
    "\n",
    "for metric_menu_item in metric_menu_items:\n",
    "    print(\"--- treating menu item: \" + metric_menu_item[\"_id\"][\"name\"])\n",
    "    \n",
    "    # get maximum value per row, that is: get the maximum score per ingredient, over all applications of that menu item:    \n",
    "    max_values = np.amax(metric_menu_item[\"items\"],axis = 0)\n",
    "    \n",
    "    # get the unique ingredients of that menu item:\n",
    "    u_ingredients = metric_menu_item[\"_id\"][\"u_ingredients\"]\n",
    "    \n",
    "    # get the ingredients with the 10% largest values:\n",
    "    size = math.ceil(len(u_ingredients) / 10.0)\n",
    "    ingredients_of_interest = [u_ingredients[x] for x in np.array(max_values).argsort()[-size:][::-1]]\n",
    "\n",
    "    print(ingredients_of_interest)"
   ]
  },
  {
   "cell_type": "markdown",
   "metadata": {},
   "source": [
    "##### Method 2"
   ]
  },
  {
   "cell_type": "code",
   "execution_count": 38,
   "metadata": {
    "collapsed": false
   },
   "outputs": [
    {
     "name": "stdout",
     "output_type": "stream",
     "text": [
      "--- treating menu item: chocolate_mate\n",
      "[]\n",
      "--- treating menu item: iced_chocolate\n",
      "['chocolate']\n",
      "--- treating menu item: chocolate_iced_coffee\n",
      "[]\n",
      "--- treating menu item: chocolate_flavored_hot\n",
      "[]\n",
      "--- treating menu item: chocolate_christmas_cake\n",
      "[]\n",
      "--- treating menu item: chocolate_tart\n",
      "['chocolate']\n",
      "--- treating menu item: chocolate_strawberries\n",
      "['chocolate', 'strawberry']\n",
      "--- treating menu item: chocolate_souffle\n",
      "[]\n",
      "--- treating menu item: chocolate_pudding\n",
      "[]\n",
      "--- treating menu item: chocolate_pretzel\n",
      "[]\n",
      "--- treating menu item: chocolate_sauce\n",
      "['chocolate', 'sauce']\n",
      "--- treating menu item: chocolate_pancake\n",
      "[]\n",
      "--- treating menu item: chocolate_mousse\n",
      "['chocolate', 'mousse']\n",
      "--- treating menu item: chocolate_chai\n",
      "[]\n",
      "--- treating menu item: toffee\n",
      "['chocolate', 'toffee']\n",
      "--- treating menu item: chocolate_ice_cream\n",
      "[]\n",
      "--- treating menu item: chocolate_glaze\n",
      "['chocolate']\n",
      "--- treating menu item: chocolate_fudge\n",
      "['chocolate']\n",
      "--- treating menu item: chocolate_frosting\n",
      "['chocolate']\n",
      "--- treating menu item: chocolate_muffin\n",
      "[]\n",
      "--- treating menu item: chocolate_lollipop\n",
      "[]\n",
      "--- treating menu item: chocolate_hot\n",
      "[]\n",
      "--- treating menu item: chocolate_fondue\n",
      "[]\n",
      "--- treating menu item: chocolate_fondant\n",
      "[]\n",
      "--- treating menu item: tiramisu\n",
      "[]\n",
      "--- treating menu item: chocolate_eclair\n",
      "[]\n",
      "--- treating menu item: chocolate_milkshake\n",
      "[]\n",
      "--- treating menu item: chocolate_pie\n",
      "['chocolate']\n",
      "--- treating menu item: chocolate_dessert\n",
      "['chocolate']\n",
      "--- treating menu item: chocolate_icing\n",
      "['chocolate']\n",
      "--- treating menu item: chocolate_praline\n",
      "[]\n",
      "--- treating menu item: chocolate_croissant\n",
      "[]\n",
      "--- treating menu item: chocolate_cheesecake\n",
      "['chocolate']\n",
      "--- treating menu item: chocolate_coffee\n",
      "['chocolate', 'coffee']\n",
      "--- treating menu item: chocolate_cupcake\n",
      "[]\n",
      "--- treating menu item: nibbles\n",
      "[]\n",
      "--- treating menu item: chocolate_caramel\n",
      "['caramel', 'chocolate']\n",
      "--- treating menu item: chocolate_coconut\n",
      "['chocolate', 'coconut']\n",
      "--- treating menu item: chocolate_ganache\n",
      "['chocolate']\n",
      "--- treating menu item: chocolate_bread\n",
      "['chocolate']\n",
      "--- treating menu item: chocolate_tea\n",
      "['chocolate']\n",
      "--- treating menu item: chocolate_torte\n",
      "['chocolate']\n",
      "--- treating menu item: chocolate_coated\n",
      "[]\n",
      "--- treating menu item: chocolate_brownie\n",
      "['chocolate']\n",
      "--- treating menu item: chocolate_candy\n",
      "[]\n",
      "--- treating menu item: chocolate_chip\n",
      "['chip', 'chocolate']\n",
      "--- treating menu item: chocolate_buttercream\n",
      "['chocolate']\n",
      "--- treating menu item: chocolate_bar\n",
      "['chocolate']\n",
      "--- treating menu item: chocolate_cookie\n",
      "['chocolate']\n",
      "--- treating menu item: chocolate_cake\n",
      "['cake', 'chocolate']\n",
      "--- treating menu item: chocolate_healthy\n",
      "[]\n",
      "--- treating menu item: chocolate_cream_dessert\n",
      "[]\n",
      "--- treating menu item: chocolate_peanut_butter\n",
      "[]\n",
      "--- treating menu item: chocolate_chip_cookie\n",
      "['chocolate']\n"
     ]
    }
   ],
   "source": [
    "treshold = 17.6754101514\n",
    "\n",
    "metric_menu_items = [ingredient for ingredient in db.menu_items.aggregate([\n",
    "    {\"$unwind\":\"$applications\"},\n",
    "    {\"$project\":{\"name\":1,\"u_ingredients\":1,\"applications.metrics\":1,\"_id\":0}},\n",
    "    {\"$group\":{\"_id\":{\"name\":\"$name\",\"u_ingredients\":\"$u_ingredients\"},\"items\": { \"$push\":  \"$applications.metrics\" }}}\n",
    "])]\n",
    "\n",
    "for metric_menu_item in metric_menu_items:\n",
    "    print(\"--- treating menu item: \" + metric_menu_item[\"_id\"][\"name\"])\n",
    "    \n",
    "    # get maximum value per row, that is: get the maximum score per ingredient, over all applications of that menu item:    \n",
    "    max_values = np.amax(metric_menu_item[\"items\"],axis = 0)\n",
    "    \n",
    "    # get the unique ingredients of that menu item:\n",
    "    u_ingredients = metric_menu_item[\"_id\"][\"u_ingredients\"]\n",
    "    \n",
    "    # get the ingredients with the values greater than the treshold:\n",
    "    indexes = [index for index, value in enumerate(max_values) if value > treshold]\n",
    "    ingredients_of_interest = [u_ingredients[x] for x in indexes]\n",
    "\n",
    "    print(ingredients_of_interest)"
   ]
  },
  {
   "cell_type": "markdown",
   "metadata": {},
   "source": [
    "#### Conclusion \n",
    "\n",
    "As we could have expected, the first solution is more 'local'-based, where each menu item is separately judged.\n",
    "\n",
    "The second solution observes it more on a 'global' basis, where the overall most important items are identified. Not surprisingly, chocolate is often the winner.\n",
    "\n",
    "We could use the gamma distribution method on a local scale, but then we would have to fit a distribution to each menu_item. Sadly, I do not beleive there would be enough data points for that."
   ]
  },
  {
   "cell_type": "markdown",
   "metadata": {
    "collapsed": true
   },
   "source": [
    "## Part 3: linear model"
   ]
  },
  {
   "cell_type": "markdown",
   "metadata": {},
   "source": [
    "We want to establish the correlation between the number of menu items and the number of unique ingredient lemma's. For example: menu_item 1 might have the ingredient [chocolate, milk, water, sugar, cashew, honey, cream], giving 7 unique lemma's.\n",
    "\n",
    "Menu_item 2 might have the ingredients [milk, water, cashew, honey, almond, agave]. While not seeming like a very tasty dish, menu_item 2 has 6 unique lemma's.\n",
    "\n",
    "Combined however, they give us three data points:\n",
    "- 1 menu item: 7\n",
    "- 1 menu item: 6\n",
    "- 2 menu item: 9\n",
    "\n",
    "By combining every menu item with every menu item, we obtain all data points for 2 menu items. By observing all possible combinations of 3 menu items, we obtain all data points for 3, etc.\n",
    "\n",
    "In essence, we want to calculate C_n_k (from combinatorial math) where n = number of menu items, and k = 1 -> n.\n",
    "\n",
    "Let's size this problem:"
   ]
  },
  {
   "cell_type": "code",
   "execution_count": 39,
   "metadata": {
    "collapsed": false
   },
   "outputs": [
    {
     "name": "stdout",
     "output_type": "stream",
     "text": [
      "n = 64\n"
     ]
    }
   ],
   "source": [
    "print('n = ' + str(db.menu_items.count()))"
   ]
  },
  {
   "cell_type": "markdown",
   "metadata": {},
   "source": [
    "all menu items:"
   ]
  },
  {
   "cell_type": "code",
   "execution_count": 40,
   "metadata": {
    "collapsed": false
   },
   "outputs": [
    {
     "ename": "NameError",
     "evalue": "name 'itertools' is not defined",
     "output_type": "error",
     "traceback": [
      "\u001b[0;31m---------------------------------------------------------------------------\u001b[0m",
      "\u001b[0;31mNameError\u001b[0m                                 Traceback (most recent call last)",
      "\u001b[0;32m<ipython-input-40-6c6a65762aa7>\u001b[0m in \u001b[0;36m<module>\u001b[0;34m()\u001b[0m\n\u001b[1;32m      2\u001b[0m \u001b[1;33m\u001b[0m\u001b[0m\n\u001b[1;32m      3\u001b[0m \u001b[1;32mfor\u001b[0m \u001b[0mk\u001b[0m \u001b[1;32min\u001b[0m \u001b[0mrange\u001b[0m\u001b[1;33m(\u001b[0m\u001b[1;36m1\u001b[0m\u001b[1;33m,\u001b[0m\u001b[1;36m6\u001b[0m\u001b[1;33m)\u001b[0m\u001b[1;33m:\u001b[0m\u001b[1;33m\u001b[0m\u001b[0m\n\u001b[0;32m----> 4\u001b[0;31m     \u001b[0mcombinations\u001b[0m \u001b[1;33m=\u001b[0m \u001b[1;33m[\u001b[0m\u001b[0mcombination\u001b[0m \u001b[1;32mfor\u001b[0m \u001b[0mcombination\u001b[0m \u001b[1;32min\u001b[0m \u001b[0mitertools\u001b[0m\u001b[1;33m.\u001b[0m\u001b[0mcombinations\u001b[0m\u001b[1;33m(\u001b[0m\u001b[0mmenu_items\u001b[0m\u001b[1;33m,\u001b[0m \u001b[0mk\u001b[0m\u001b[1;33m)\u001b[0m\u001b[1;33m]\u001b[0m\u001b[1;33m\u001b[0m\u001b[0m\n\u001b[0m\u001b[1;32m      5\u001b[0m     \u001b[0mprint\u001b[0m\u001b[1;33m(\u001b[0m\u001b[1;34m'number of data points for '\u001b[0m \u001b[1;33m+\u001b[0m \u001b[0mstr\u001b[0m\u001b[1;33m(\u001b[0m\u001b[0mk\u001b[0m\u001b[1;33m)\u001b[0m \u001b[1;33m+\u001b[0m \u001b[1;34m': '\u001b[0m \u001b[1;33m+\u001b[0m \u001b[0mstr\u001b[0m\u001b[1;33m(\u001b[0m\u001b[0mlen\u001b[0m\u001b[1;33m(\u001b[0m\u001b[0mcombinations\u001b[0m\u001b[1;33m)\u001b[0m\u001b[1;33m)\u001b[0m\u001b[1;33m)\u001b[0m\u001b[1;33m\u001b[0m\u001b[0m\n\u001b[1;32m      6\u001b[0m \u001b[1;33m\u001b[0m\u001b[0m\n",
      "\u001b[0;31mNameError\u001b[0m: name 'itertools' is not defined"
     ]
    }
   ],
   "source": [
    "menu_items = [item[\"name\"] for item in db.menu_items.find({},{\"name\":1})]\n",
    "\n",
    "for k in range(1,6):\n",
    "    combinations = [combination for combination in itertools.combinations(menu_items, k)]\n",
    "    print('number of data points for ' + str(k) + ': ' + str(len(combinations)))\n",
    "        "
   ]
  },
  {
   "cell_type": "markdown",
   "metadata": {},
   "source": [
    "As can be seen, the number of data points grows exponentially, as expected. Luckily, something like islice exists, which gets x elements from the possible combinations. As a test, i'm going to limit this to 1000."
   ]
  },
  {
   "cell_type": "code",
   "execution_count": null,
   "metadata": {
    "collapsed": false,
    "scrolled": true
   },
   "outputs": [],
   "source": [
    "menu_items = [item[\"name\"] for item in db.menu_items.find({},{\"name\":1})]\n",
    "\n",
    "for k in range(1,len(menu_items)+1):\n",
    "    combinations = [combination for combination in itertools.islice(itertools.combinations(menu_items, k),1000)]\n",
    "    print('number of data points for ' + str(k) + ': ' + str(len(combinations)))"
   ]
  },
  {
   "cell_type": "markdown",
   "metadata": {},
   "source": [
    "Great, this calculates infinitely faster. Now however, we have a strong bias since only the first elements are taken each time.\n",
    "\n",
    "To counter this, we should perhaps try random sampling x elements from the list:"
   ]
  },
  {
   "cell_type": "code",
   "execution_count": null,
   "metadata": {
    "collapsed": false,
    "scrolled": true
   },
   "outputs": [],
   "source": [
    "import random\n",
    "\n",
    "menu_items = [item[\"name\"] for item in db.menu_items.find({},{\"name\":1})]\n",
    "\n",
    "for k in range(1,len(menu_items)+1):\n",
    "    print('calculating '+ str(k))\n",
    "    combinations = []\n",
    "    if k >= (len(menu_items) -1) or k <= 1:\n",
    "        combinations = [combination for combination in itertools.combinations(menu_items, k)]\n",
    "    else:\n",
    "        while len(combinations) < 1000:\n",
    "            sample = sorted(random.sample(menu_items,k))\n",
    "            if not sample in combinations:\n",
    "                combinations.append(sample)               "
   ]
  },
  {
   "cell_type": "markdown",
   "metadata": {},
   "source": [
    "This works great, so we are now ready to move on to the next part: calculate the number of unique ingredients for each data point. This basically does the same, but we also first obtain a library of the list of unique ingredients per menu_items in memory:"
   ]
  },
  {
   "cell_type": "code",
   "execution_count": null,
   "metadata": {
    "collapsed": false,
    "scrolled": true
   },
   "outputs": [],
   "source": [
    "import random\n",
    "\n",
    "menu_items = {}\n",
    "for item in db.menu_items.find({},{\"name\":1,\"u_ingredients\":1}):\n",
    "    menu_items[item[\"name\"]] = item[\"u_ingredients\"]\n",
    "\n",
    "x_values = []\n",
    "y_values = []\n",
    "    \n",
    "for k in range(1,len(menu_items)+1):\n",
    "    print('calculating '+ str(k))\n",
    "    combinations = []\n",
    "    if k >= (len(menu_items) -1) or k <= 1:\n",
    "        combinations = [combination for combination in itertools.combinations(menu_items.keys(), k)]\n",
    "    else:\n",
    "        while len(combinations) < 2000:\n",
    "            sample = sorted(random.sample(menu_items.keys(),k))\n",
    "            if not sample in combinations:\n",
    "                combinations.append(sample) \n",
    "    for combination in combinations:\n",
    "        x_values.append(k)\n",
    "        y_values.append(len(np.unique([x for l in [menu_items[item] for item in combination] for x in l])))\n",
    "        \n",
    "        "
   ]
  },
  {
   "cell_type": "code",
   "execution_count": null,
   "metadata": {
    "collapsed": false
   },
   "outputs": [],
   "source": [
    "plt.plot(x_values,y_values,\".\")\n",
    "plt.title(\"plotting the data points\")\n",
    "plt.xlabel(\"number of menu items\")\n",
    "plt.ylabel(\"number of unique ingredients\")\n",
    "plt.show()"
   ]
  },
  {
   "cell_type": "markdown",
   "metadata": {},
   "source": [
    "As already indicated in the word file, the data shows logarithmic behaviour, because it reaches a maximum. Therefore, we will try and linearize first:"
   ]
  },
  {
   "cell_type": "code",
   "execution_count": null,
   "metadata": {
    "collapsed": false
   },
   "outputs": [],
   "source": [
    "x_values_log = np.log(x_values)\n",
    "plt.plot(x_values_log,y_values,\".\")\n",
    "plt.title(\"plotting the data points\")\n",
    "plt.xlabel(\"log of number of menu items\")\n",
    "plt.ylabel(\"number of unique ingredients\")\n",
    "plt.show()"
   ]
  },
  {
   "cell_type": "markdown",
   "metadata": {},
   "source": [
    "#### Setting up a basic linear regression using sklearn"
   ]
  },
  {
   "cell_type": "code",
   "execution_count": null,
   "metadata": {
    "collapsed": true
   },
   "outputs": [],
   "source": [
    "from sklearn.linear_model import LinearRegression"
   ]
  },
  {
   "cell_type": "markdown",
   "metadata": {},
   "source": [
    "#### Splitting features into training and testing set"
   ]
  },
  {
   "cell_type": "code",
   "execution_count": null,
   "metadata": {
    "collapsed": false
   },
   "outputs": [],
   "source": [
    "from sklearn.model_selection import train_test_split\n",
    "feature_train, feature_test, target_train, target_test = train_test_split(x_values_log, y_values, test_size=0.75, random_state =42)\n",
    "train_color = \"b\"\n",
    "test_color = \"r\""
   ]
  },
  {
   "cell_type": "markdown",
   "metadata": {},
   "source": [
    "#### Setup and train the model + predict"
   ]
  },
  {
   "cell_type": "code",
   "execution_count": null,
   "metadata": {
    "collapsed": false
   },
   "outputs": [],
   "source": [
    "reg = LinearRegression()\n",
    "reg.fit(feature_train.reshape(-1,1),target_train)\n",
    "target_predict = reg.predict(feature_test.reshape(-1,1))"
   ]
  },
  {
   "cell_type": "markdown",
   "metadata": {},
   "source": [
    "#### Test the model"
   ]
  },
  {
   "cell_type": "code",
   "execution_count": null,
   "metadata": {
    "collapsed": false
   },
   "outputs": [],
   "source": [
    "from sklearn.metrics import mean_squared_error\n",
    "\n",
    "print( \"slope: \" + str(reg.coef_))\n",
    "print( \"intersect: \" + str(reg.intercept_))\n",
    "\n",
    "# The mean squared error\n",
    "print(\"Mean squared error: %.2f\"\n",
    "      % np.mean((reg.predict(feature_test.reshape(-1,1)) - target_test) ** 2))\n",
    "\n",
    "# Explained variance score: 1 is perfect prediction\n",
    "print('Variance score: %.2f' % reg.score(feature_test.reshape(-1,1), target_test))"
   ]
  },
  {
   "cell_type": "markdown",
   "metadata": {},
   "source": [
    "#### Visualize the results"
   ]
  },
  {
   "cell_type": "code",
   "execution_count": null,
   "metadata": {
    "collapsed": false
   },
   "outputs": [],
   "source": [
    "plt.scatter(feature_test.reshape(-1,1), target_test,  color='lightblue')\n",
    "plt.plot(feature_test.reshape(-1,1), reg.predict(feature_test.reshape(-1,1)), color='blue',\n",
    "         linewidth=3)\n",
    "\n",
    "plt.xticks(())\n",
    "plt.yticks(())\n",
    "\n",
    "plt.show()"
   ]
  },
  {
   "cell_type": "markdown",
   "metadata": {},
   "source": [
    "#### Alternate method\n",
    "\n",
    "Just for completeness sake: let's try with another method: polyfit"
   ]
  },
  {
   "cell_type": "code",
   "execution_count": null,
   "metadata": {
    "collapsed": false
   },
   "outputs": [],
   "source": [
    "polyfit = np.polyfit(np.log(x_values), y_values, 1)\n",
    "print('coefficients from polyfit: ' + str(polyfit))\n",
    "x_polyfit = np.arange(64)\n",
    "y_polyfit = np.polyfit(np.log(x_values), y_values, 1)[0] * np.log(np.arange(64)) + np.polyfit(np.log(x_values), y_values, 1)[1]\n",
    "\n",
    "x_sklearn = np.arange(64)\n",
    "y_sklearn = reg.coef_ * np.log(np.arange(64)) + reg.intercept_\n",
    "\n",
    "plt.scatter(x_values,y_values,  color='lightblue')\n",
    "\n",
    "plt.plot(x_sklearn,y_sklearn, linewidth=2.0, color = 'green')\n",
    "plt.plot(x_polyfit,y_polyfit, linewidth=2.0, color = 'red')\n",
    "\n",
    "plt.title(\"plotting the data points\")\n",
    "plt.xlabel(\"number of menu items\")\n",
    "plt.ylabel(\"number of unique ingredients\")\n",
    "plt.show()"
   ]
  },
  {
   "cell_type": "markdown",
   "metadata": {},
   "source": [
    "#### Comparing the two\n",
    "\n",
    "The lines look practically identical, so let's settle this with the MSE metrics:"
   ]
  },
  {
   "cell_type": "code",
   "execution_count": null,
   "metadata": {
    "collapsed": false
   },
   "outputs": [],
   "source": [
    "# MSE for polyfit\n",
    "print(\"Mean squared error polyfit: %.2f\" % np.mean(( ( polyfit[0]*np.log(x_values) + polyfit[1] ) - y_values) ** 2))\n",
    "\n",
    "# MSE for sklearn\n",
    "print(\"Mean squared error sklearn: %.2f\" % np.mean(((reg.coef_ * np.log(x_values) + reg.intercept_) - y_values) ** 2))"
   ]
  },
  {
   "cell_type": "markdown",
   "metadata": {},
   "source": [
    "This represent our final model, small changes in MSE can be explained by the random sampling during the training and testing split:\n",
    "\n",
    "$$\n",
    "y = 126.84 * log(x) + 25.52\n",
    "$$"
   ]
  },
  {
   "cell_type": "markdown",
   "metadata": {},
   "source": [
    "## Retrospect"
   ]
  },
  {
   "cell_type": "markdown",
   "metadata": {
    "collapsed": true
   },
   "source": [
    "In retrospect, I am fairly happy with the outcome of the cases. Of course, there are always some holes in the complete story due to:\n",
    "\n",
    "- lack of time: with more time, I would have been able to get more into the data and data quality itself. I'm sure there are still some undiscovered aspects that needed further investigation or cleaning, or certain data facets that contain bizarre characteristics.\n",
    "\n",
    "\n",
    "- lack of business context and oversight: some conclusions i've drawn or assumptions i've taken might be completely wrong, sometimes stem from the fact that I do not have a clear insight on the business case to be solved, or the underlying business question that needs answering. I like a complete oversight of the entire picture.\n",
    "\n",
    "\n",
    "A case like this can in fact be seen as 'never done', since you can always plunge deeper in the data quality, always find other data sources, always have other metrics or algorithms to try out. But all in all, all of the above could definitely be seen as a Minimal Viable Product.\n",
    "\n",
    "\n",
    "On the side: I really enjoyed solving this case. I had done some previous work with NLP and regression, but never in a similar context."
   ]
  }
 ],
 "metadata": {
  "kernelspec": {
   "display_name": "Python 3",
   "language": "python",
   "name": "python3"
  },
  "language_info": {
   "codemirror_mode": {
    "name": "ipython",
    "version": 3
   },
   "file_extension": ".py",
   "mimetype": "text/x-python",
   "name": "python",
   "nbconvert_exporter": "python",
   "pygments_lexer": "ipython3",
   "version": "3.6.0"
  }
 },
 "nbformat": 4,
 "nbformat_minor": 2
}
