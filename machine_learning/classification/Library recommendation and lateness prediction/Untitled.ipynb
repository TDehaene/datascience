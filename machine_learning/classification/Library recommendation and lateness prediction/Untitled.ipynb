{
 "cells": [
  {
   "cell_type": "markdown",
   "metadata": {},
   "source": [
    "# Library lateness prediction\n",
    "In this little 'citizen data science' project, I want to try and see if the fact that someone will return their books overdue can be predicted or not. To do this, the city of Ghent has published two datasets:\n",
    "- book loans for the year 2016\n",
    "- book lenders"
   ]
  },
  {
   "cell_type": "markdown",
   "metadata": {},
   "source": [
    "### Basic imports"
   ]
  },
  {
   "cell_type": "code",
   "execution_count": 1,
   "metadata": {
    "collapsed": false
   },
   "outputs": [],
   "source": [
    "import json\n",
    "import matplotlib.pyplot as plt\n",
    "import seaborn as sns\n",
    "import pandas as pd"
   ]
  },
  {
   "cell_type": "markdown",
   "metadata": {},
   "source": [
    "### Import datasets loans"
   ]
  },
  {
   "cell_type": "code",
   "execution_count": 2,
   "metadata": {
    "collapsed": false,
    "scrolled": true
   },
   "outputs": [
    {
     "name": "stdout",
     "output_type": "stream",
     "text": [
      "extracted: 1996\n",
      "extracted: 1997\n",
      "extracted: 1998\n",
      "extracted: 1999\n",
      "extracted: 2000\n",
      "extracted: 2001\n",
      "extracted: 2002\n",
      "extracted: 2003\n",
      "extracted: 2004\n",
      "extracted: 2005\n",
      "extracted: 2006\n",
      "extracted: 2008\n",
      "extracted: 2009\n",
      "extracted: 2010\n",
      "extracted: 2011\n",
      "extracted: 2012\n",
      "extracted: 2013\n",
      "extracted: 2014\n"
     ]
    }
   ],
   "source": [
    "import requests\n",
    "\n",
    "loans = []\n",
    "\n",
    "for year in range(1990,2017):\n",
    "    url = \"https://datatank.stad.gent/4/cultuursportvrijetijd/bibliotheekuitleningen\" + str(year) + \".json?limit=20000\"\n",
    "    r = requests.get(url)\n",
    "    if not len(r.json()) == 1:\n",
    "        print(\"extracted: \" + str(year))\n",
    "        extract = pd.read_json(url)\n",
    "        extract[\"year\"] = year\n",
    "        loans.append(extract)\n",
    "        \n",
    "loans = pd.concat(loans)"
   ]
  },
  {
   "cell_type": "markdown",
   "metadata": {},
   "source": [
    "### Imports lenders dataset"
   ]
  },
  {
   "cell_type": "code",
   "execution_count": 4,
   "metadata": {
    "collapsed": true
   },
   "outputs": [],
   "source": [
    "url = \"https://datatank.stad.gent/4/cultuursportvrijetijd/bibliotheekleners.json?limit=20000\"\n",
    "r = requests.get(url)\n",
    "lenders = pd.read_json(url)"
   ]
  },
  {
   "cell_type": "markdown",
   "metadata": {},
   "source": [
    "### Import books dataset"
   ]
  },
  {
   "cell_type": "code",
   "execution_count": 8,
   "metadata": {
    "collapsed": true
   },
   "outputs": [],
   "source": [
    "url = \"https://datatank.stad.gent/4/cultuursportvrijetijd/bibliotheekopenbeschrijving.json?limit=20000\"\n",
    "r = requests.get(url)\n",
    "books = pd.read_json(url)"
   ]
  },
  {
   "cell_type": "markdown",
   "metadata": {},
   "source": [
    "### Explore loan dataset\n",
    "First, I have to determine what the approved loan term is, this might differ over time. "
   ]
  },
  {
   "cell_type": "code",
   "execution_count": null,
   "metadata": {
    "collapsed": false
   },
   "outputs": [],
   "source": []
  },
  {
   "cell_type": "markdown",
   "metadata": {},
   "source": [
    "Unfortunately, this still doesn't make a lot of sense. I'm guessing each book has it's own exemplaarID and barcode, but barcode are sometimes reused throughout the year for new books. Sadly, there is no"
   ]
  },
  {
   "cell_type": "markdown",
   "metadata": {},
   "source": [
    "### Combine into one big dataset"
   ]
  },
  {
   "cell_type": "code",
   "execution_count": null,
   "metadata": {
    "collapsed": false
   },
   "outputs": [],
   "source": [
    "df_join = pd.merge(df_loans,df_lenders, left_on = \"Barcode\", right_on = \"Barcode\" )\n",
    "print(df_join.head())"
   ]
  },
  {
   "cell_type": "code",
   "execution_count": null,
   "metadata": {
    "collapsed": false
   },
   "outputs": [],
   "source": [
    "print(loans[2012][\"ontleentermijn\"][loans[2012][\"ontleentermijn\"] > 31])"
   ]
  },
  {
   "cell_type": "code",
   "execution_count": 6,
   "metadata": {
    "collapsed": false
   },
   "outputs": [
    {
     "name": "stdout",
     "output_type": "stream",
     "text": [
      "      barcode  bid    datumvan             lener ontleentermijn  year\n",
      "0        null    1  19/06/1996                67           null  1996\n",
      "1   GE4484177    2  19/06/1996                67             23  1996\n",
      "2   GE6615147    3  19/06/1996                67             23  1996\n",
      "3   GE8951454    4  19/06/1996                67             23  1996\n",
      "4   GE5430763    5  19/06/1996  2A5B4B4058435551             18  1996\n",
      "5   GE5239109    6  19/06/1996  2A584A4755435A5F             23  1996\n",
      "6   GE6534449    7  19/06/1996  2A584A4755435A5F             23  1996\n",
      "7   GE8449139    8  19/06/1996  2A584A4755435A5F             23  1996\n",
      "8   GE8302006    9  19/06/1996  2A5B4B4058435551             23  1996\n",
      "9   GE8712026   10  19/06/1996  2A5B4B4058435551             23  1996\n",
      "10  GE4765354   11  19/06/1996  2A5B4B4352465A51             23  1996\n",
      "11  GE6605672   12  19/06/1996  2A5B4B4352465A51             23  1996\n",
      "12  GE8421927   13  19/06/1996  2A5B4B4352465A51             23  1996\n",
      "13  GE8504334   14  19/06/1996  2A5B4B4352465A51             23  1996\n",
      "14  GE8580588   15  19/06/1996  2A5B4B4352465A51             23  1996\n",
      "15  GE3375137   16  19/06/1996  2A594D4B50415E31             23  1996\n",
      "16  GE4131436   17  19/06/1996  2A584D4254485F5B             23  1996\n",
      "17  GE8716528   18  19/06/1996  2A594E4056455D59             24  1996\n",
      "18  GE0208361   19  19/06/1996  2A59434456415C5D             23  1996\n",
      "19  GE3965813   20  19/06/1996  2A59434456415C5D             23  1996\n",
      "20  GE4695925   21  19/06/1996  2A59434456415C5D             23  1996\n",
      "21  GE6780458   22  19/06/1996  2A59434456415C5D             23  1996\n",
      "22  GE6782604   23  19/06/1996  2A59434456415C5D             23  1996\n",
      "23  GE5422906   24  19/06/1996  2A58424658425E50             23  1996\n",
      "24  GE8424454   25  19/06/1996  2A58424658425E50             23  1996\n",
      "25  GE8021392   26  19/06/1996  2A594F4555425A50             20  1996\n",
      "26  GE5405610   27  19/06/1996  2A5B4B4A5548595B              8  1996\n",
      "27  GE5049946   28  19/06/1996  2A5B4B4B5742595E             23  1996\n",
      "28  GE5505194   29  19/06/1996  2A5B4B4B5742595E             23  1996\n",
      "29  GE1322699   30  19/06/1996  2A584D405944555B             23  1996\n",
      "..        ...  ...         ...               ...            ...   ...\n",
      "70  GE5421462   71  19/06/1996  2A584C435542555B             23  1996\n",
      "71  GE5568684   72  19/06/1996  2A584C435542555B             23  1996\n",
      "72  GE6612768   73  19/06/1996  2A594F4555425A50             23  1996\n",
      "73  GE8725322   74  19/06/1996  2A594F4555425A50             23  1996\n",
      "74  GE4546822   75  19/06/1996  2A59424A52465D5A             18  1996\n",
      "75  GE4476980   76  19/06/1996  2A59434751435D59             23  1996\n",
      "76  GE5179505   77  19/06/1996  2A59434751435D59             23  1996\n",
      "77  GE6538290   78  19/06/1996  2A59434751435D59             23  1996\n",
      "78  GE6538312   79  19/06/1996  2A59434751435D59             23  1996\n",
      "79  GE6614140   80  19/06/1996  2A59434751435D59             23  1996\n",
      "80  GE3347540   81  19/06/1996  2A584D4253455A5B             23  1996\n",
      "81  GE8953074   82  19/06/1996  2A584D4253455A5B             23  1996\n",
      "82  GE421966X   83  19/06/1996  2A59494A58435F5A             23  1996\n",
      "83  GE4560671   84  19/06/1996  2A59494A58435F5A             23  1996\n",
      "84  GE4945905   85  19/06/1996  2A59494A58435F5A             23  1996\n",
      "85  GE8145032   86  19/06/1996  2A59494A58435F5A             23  1996\n",
      "86  GE8726639   87  19/06/1996  2A59494A58435F5A             23  1996\n",
      "87  GE1050745   88  19/06/1996  2A584D475747545F             23  1996\n",
      "88  GE1705024   89  19/06/1996  2A584D475747545F             23  1996\n",
      "89  GE3222713   90  19/06/1996  2A584D475747545F             23  1996\n",
      "90  GE3737586   91  19/06/1996  2A584D475747545F             23  1996\n",
      "91  GE5571359   92  19/06/1996  2A584D475747545F             23  1996\n",
      "92  GE513613X   93  19/06/1996  2A584E4557455B5D             23  1996\n",
      "93  GE8080542   94  19/06/1996  2A584E4557455B5D             23  1996\n",
      "94  GE4889452   95  19/06/1996  2A58424452405B58             23  1996\n",
      "95  GE8023743   96  19/06/1996  2A58424452405B58             23  1996\n",
      "96  GE8285144   97  19/06/1996  2A58424452405B58             23  1996\n",
      "97  GE8642117   98  19/06/1996  2A58424452405B58             23  1996\n",
      "98  GE5409969   99  19/06/1996  2A594B4652495B59             23  1996\n",
      "99  GE5040531  100  19/06/1996  2A5B4A4557475E31             23  1996\n",
      "\n",
      "[100 rows x 6 columns]\n"
     ]
    }
   ],
   "source": []
  },
  {
   "cell_type": "code",
   "execution_count": 7,
   "metadata": {
    "collapsed": false
   },
   "outputs": [
    {
     "name": "stdout",
     "output_type": "stream",
     "text": [
      "   column_9 geboortedecennium geslacht   id ingeschrijvinglocatie  \\\n",
      "0                        1940        M    1                   F13   \n",
      "1                        1990        V    2                    HB   \n",
      "2                        1990        M    3                    HB   \n",
      "3                        1990        M    4                    HB   \n",
      "4                        1990        M    5                    HB   \n",
      "5                        2000        M    6                    HB   \n",
      "6                        1970        V    7                    HB   \n",
      "7                        1980        M    8                    HB   \n",
      "8                        1970        V   19                    HB   \n",
      "9                        1970        V   20                    HB   \n",
      "10                       1980        V   21                    HB   \n",
      "11                       1970        V   22                    HB   \n",
      "12                       1950        M   23                   F10   \n",
      "13                       1970        M   24                    HB   \n",
      "14                       1970        M   25                    HB   \n",
      "15                       1970        V   26                   F12   \n",
      "16                       1970        M   27                    HB   \n",
      "17                       1970        M   28                    HB   \n",
      "18                       1970        V   29                    HB   \n",
      "19                       1970        V   30                    HB   \n",
      "20                       1970        V   31                    HB   \n",
      "21                       1980        V   32                    HB   \n",
      "22                       1970        M   33                    HB   \n",
      "23                       1970        M   34                    HB   \n",
      "24                       1970        V   35                    HB   \n",
      "25                       1970        V   36                    HB   \n",
      "26                       1970        V   37                    HB   \n",
      "27                       1970        V   38                    HB   \n",
      "28                       1970        M   39                    HB   \n",
      "29                       1970        M   40                    HB   \n",
      "..      ...               ...      ...  ...                   ...   \n",
      "70                       1970        V   82                    HB   \n",
      "71                       1970        V   83                    HB   \n",
      "72                       1970        M   84                    HB   \n",
      "73                       1970        V   85                    HB   \n",
      "74                       1970        M   86                    HB   \n",
      "75                       1980        V   87                    HB   \n",
      "76                       1970        M   88                    HB   \n",
      "77                       1970        M   89                    HB   \n",
      "78                       1980        V   90                    HB   \n",
      "79                       1980        V   91                    HB   \n",
      "80                       1970        M   92                    HB   \n",
      "81                       1970        M   93                    HB   \n",
      "82                       1970        M   94                    F4   \n",
      "83                       1970        M   95                    HB   \n",
      "84                       1970        V   96                    HB   \n",
      "85                       1980        M   97                    HB   \n",
      "86                       1970        M   98                    HB   \n",
      "87                       1970        V   99                   F10   \n",
      "88                       1970        M  100                    HB   \n",
      "89                       1970        M  101                    HB   \n",
      "90                       1970        V  102                    HB   \n",
      "91                       1970        M  103                    HB   \n",
      "92                       1970        V  104                    HB   \n",
      "93                       1970        V  105                    HB   \n",
      "94                       1970        M  106                    HB   \n",
      "95                       1970        V  107                    HB   \n",
      "96                       1970        M  108                    HB   \n",
      "97                       1970        V  109                    HB   \n",
      "98                       1970        V  110                    HB   \n",
      "99                       1980        V  111                    HB   \n",
      "\n",
      "    inschrijvingsjaar lenerscategorie         lidnummer postcodestart  \\\n",
      "0                2007              VO  2A5D4C4652485F51             9   \n",
      "1                2011              VO  2A5C4F4655475A5E             9   \n",
      "2                2012              VO  2A5C4C4B52425F5C             8   \n",
      "3                2013              VO  2A5C4D4553465450             9   \n",
      "4                2013              VO  2A5C424055425950             8   \n",
      "5                2013              KI  2A5C43435743585F             9   \n",
      "6                2014              VO  2A5C43475654555A             9   \n",
      "7                2014              VO  2A5C434B57445C5D             8   \n",
      "8                1986              VO  2A594A4257455C5A             9   \n",
      "9                1986              VO  2A594A4257455F58             9   \n",
      "10               1986              VO  2A594A4257455B5D             9   \n",
      "11               1997              VO  2A594A4257455450             9   \n",
      "12               1990              VO  2A594A4256475E59             9   \n",
      "13               1986              VO  2A594A4258495550             9   \n",
      "14               1992              VO  2A594A4351405B5C             9   \n",
      "15               1985              VO  2A594A4351435F5D             9   \n",
      "16               2002              VO  2A594A4351445559             9   \n",
      "17               1998              VO  2A594A435047585D             9   \n",
      "18               1998              VO  2A594A4350475A59             9   \n",
      "19               1985              VO  2A594A4350485A51             9   \n",
      "20               1985              VO  2A594A435048555F             9   \n",
      "21               1985              VO  2A594A4350495B5E             9   \n",
      "22               1985              VO  2A594A4353405958             9   \n",
      "23               1992              VO  2A594A4353435F5E             9   \n",
      "24               2001              VO  2A594A4353445C5F             9   \n",
      "25               1985              VO  2A594A4353445850             9   \n",
      "26               1985              VO  2A594A4353445458             9   \n",
      "27               1985              VO  2A594A4353485F5A             9   \n",
      "28               1989              VO  2A594A4352445451             9   \n",
      "29               1985              VO  2A594A4352455D58             9   \n",
      "..                ...             ...               ...           ...   \n",
      "70               1996              VO  2A594A4359405459             9   \n",
      "71               1991              VO  2A594A4359415A58             9   \n",
      "72               1997              VO  2A594A435942555E             9   \n",
      "73               2000              VO  2A594A4358415A51             9   \n",
      "74               1985              VO  2A594A4358425C5F             9   \n",
      "75               1985              VO  2A594A4358425E5B             9   \n",
      "76               1997              VO  2A594A4358435D5C             9   \n",
      "77               1998              VO  2A594A4358435A5B             9   \n",
      "78               1985              VO  2A594A4358435450             9   \n",
      "79               1985              VO  2A594A4358445B58             9   \n",
      "80               1985              VO  2A594A4358445A31             9   \n",
      "81               1996              VO  2A594A4358465851             9   \n",
      "82               1985              VO  2A594A4358465B5F             9   \n",
      "83               1985              VO  2A594A4358475A58             9   \n",
      "84               1985              VO  2A594A4358475531             9   \n",
      "85               1985              VO  2A594A4358485E5F             9   \n",
      "86               1985              VO  2A594A435848585B             9   \n",
      "87               1985              VO  2A594A4051405C31             9   \n",
      "88               1985              VO  2A594A405140585B             9   \n",
      "89               1998              VO  2A594A4051415F5C             9   \n",
      "90               1985              VO  2A594A4051455C5F             9   \n",
      "91               1985              VO  2A594A4051455F5D             9   \n",
      "92               1985              VO  2A594A4051465D5C             9   \n",
      "93               1991              VO  2A594A4051465F58             9   \n",
      "94               1985              VO  2A594A4051475E5E             9   \n",
      "95               1985              VO  2A594A4050405D51             9   \n",
      "96               1985              VO  2A594A4050405A5C             9   \n",
      "97               1985              VO  2A594A4050415C5A             9   \n",
      "98               1985              VO  2A594A4050435C51             9   \n",
      "99               1985              VO  2A594A405043555C             9   \n",
      "\n",
      "                     wijknaam  \n",
      "0                     UNKNOWN  \n",
      "1                     UNKNOWN  \n",
      "2                     UNKNOWN  \n",
      "3                     UNKNOWN  \n",
      "4                     UNKNOWN  \n",
      "5                     UNKNOWN  \n",
      "6                     UNKNOWN  \n",
      "7                     UNKNOWN  \n",
      "8                     UNKNOWN  \n",
      "9                     UNKNOWN  \n",
      "10                    UNKNOWN  \n",
      "11                    UNKNOWN  \n",
      "12                    UNKNOWN  \n",
      "13                    UNKNOWN  \n",
      "14                    UNKNOWN  \n",
      "15                    UNKNOWN  \n",
      "16                    UNKNOWN  \n",
      "17                    UNKNOWN  \n",
      "18                    UNKNOWN  \n",
      "19            Sint-Amandsberg  \n",
      "20                    UNKNOWN  \n",
      "21                    UNKNOWN  \n",
      "22                    UNKNOWN  \n",
      "23  Watersportbaan - Ekkergem  \n",
      "24                    UNKNOWN  \n",
      "25                    UNKNOWN  \n",
      "26                    UNKNOWN  \n",
      "27                    UNKNOWN  \n",
      "28                    UNKNOWN  \n",
      "29                    UNKNOWN  \n",
      "..                        ...  \n",
      "70                    UNKNOWN  \n",
      "71                  Wondelgem  \n",
      "72                    UNKNOWN  \n",
      "73                    UNKNOWN  \n",
      "74                    UNKNOWN  \n",
      "75                    UNKNOWN  \n",
      "76                    UNKNOWN  \n",
      "77                    UNKNOWN  \n",
      "78                    UNKNOWN  \n",
      "79                    UNKNOWN  \n",
      "80                    UNKNOWN  \n",
      "81                    UNKNOWN  \n",
      "82                    UNKNOWN  \n",
      "83                    UNKNOWN  \n",
      "84                    UNKNOWN  \n",
      "85                    UNKNOWN  \n",
      "86                    UNKNOWN  \n",
      "87                    Drongen  \n",
      "88                    UNKNOWN  \n",
      "89                    UNKNOWN  \n",
      "90                    UNKNOWN  \n",
      "91                    UNKNOWN  \n",
      "92                    UNKNOWN  \n",
      "93                    UNKNOWN  \n",
      "94       Rabot - Blaisantvest  \n",
      "95                  Wondelgem  \n",
      "96                    UNKNOWN  \n",
      "97                    UNKNOWN  \n",
      "98                    UNKNOWN  \n",
      "99                    UNKNOWN  \n",
      "\n",
      "[100 rows x 10 columns]\n"
     ]
    }
   ],
   "source": [
    "print(lenders.head(100))"
   ]
  },
  {
   "cell_type": "code",
   "execution_count": 15,
   "metadata": {
    "collapsed": false
   },
   "outputs": [
    {
     "name": "stdout",
     "output_type": "stream",
     "text": [
      "0             1\n",
      "1       1000007\n",
      "2       1000009\n",
      "3       1000012\n",
      "4       1000013\n",
      "5       1000014\n",
      "6       1000015\n",
      "7       1000018\n",
      "8       1000020\n",
      "9       1000021\n",
      "10      1000022\n",
      "11      1000031\n",
      "12      1000032\n",
      "13      1000034\n",
      "14      1000035\n",
      "15      1000036\n",
      "16      1000038\n",
      "17      1000039\n",
      "18      1000040\n",
      "19      1000042\n",
      "20      1000044\n",
      "21      1000046\n",
      "22      1000047\n",
      "23      1000048\n",
      "24      1000054\n",
      "25      1000056\n",
      "26      1000058\n",
      "27      1000061\n",
      "28      1000062\n",
      "29      1000064\n",
      "         ...   \n",
      "9969    1017274\n",
      "9970    1017275\n",
      "9971    1017276\n",
      "9972    1017278\n",
      "9973    1017279\n",
      "9974    1017280\n",
      "9975    1017281\n",
      "9976    1017283\n",
      "9977    1017284\n",
      "9978    1017285\n",
      "9979    1017288\n",
      "9980    1017289\n",
      "9981    1017293\n",
      "9982      10173\n",
      "9983    1017300\n",
      "9984    1017304\n",
      "9985    1017305\n",
      "9986    1017306\n",
      "9987    1017311\n",
      "9988    1017317\n",
      "9989    1017318\n",
      "9990    1017321\n",
      "9991    1017325\n",
      "9992    1017327\n",
      "9993    1017328\n",
      "9994    1017329\n",
      "9995    1017334\n",
      "9996    1017335\n",
      "9997    1017337\n",
      "9998    1017338\n",
      "Name: id, Length: 9999, dtype: object\n"
     ]
    }
   ],
   "source": [
    "print(books[\"id\"].str.slice(2,11))"
   ]
  },
  {
   "cell_type": "code",
   "execution_count": null,
   "metadata": {
    "collapsed": true
   },
   "outputs": [],
   "source": []
  }
 ],
 "metadata": {
  "kernelspec": {
   "display_name": "Python 3",
   "language": "python",
   "name": "python3"
  },
  "language_info": {
   "codemirror_mode": {
    "name": "ipython",
    "version": 3
   },
   "file_extension": ".py",
   "mimetype": "text/x-python",
   "name": "python",
   "nbconvert_exporter": "python",
   "pygments_lexer": "ipython3",
   "version": "3.5.3"
  }
 },
 "nbformat": 4,
 "nbformat_minor": 2
}
