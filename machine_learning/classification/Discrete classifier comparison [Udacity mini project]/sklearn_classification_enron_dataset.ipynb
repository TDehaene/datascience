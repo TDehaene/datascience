{
 "cells": [
  {
   "cell_type": "code",
   "execution_count": 9,
   "metadata": {
    "collapsed": false
   },
   "outputs": [],
   "source": [
    "#!/usr/bin/python\n",
    "\n",
    "import pickle\n",
    "import _pickle as cPickle\n",
    "import numpy\n",
    "\n",
    "from sklearn import cross_validation\n",
    "from sklearn.feature_extraction.text import TfidfVectorizer\n",
    "from sklearn.feature_selection import SelectPercentile, f_classif\n",
    "\n",
    "\n",
    "\n",
    "def preprocess(words_file = r\"C:\\Users\\dehaeth\\Documents\\Tools\\Python\\Oefeningen\\Udacity\\Machine learning intor\\ud120-projects-master\\tools\\word_data.pkl\", authors_file=r\"C:\\Users\\dehaeth\\Documents\\Tools\\Python\\Oefeningen\\Udacity\\Machine learning intor\\ud120-projects-master\\tools\\email_authors.pkl\"):\n",
    "    \"\"\" \n",
    "        this function takes a pre-made list of email texts (by default word_data.pkl)\n",
    "        and the corresponding authors (by default email_authors.pkl) and performs\n",
    "        a number of preprocessing steps:\n",
    "            -- splits into training/testing sets (10% testing)\n",
    "            -- vectorizes into tfidf matrix\n",
    "            -- selects/keeps most helpful features\n",
    "\n",
    "        after this, the feaures and labels are put into numpy arrays, which play nice with sklearn functions\n",
    "\n",
    "        4 objects are returned:\n",
    "            -- training/testing features\n",
    "            -- training/testing labels\n",
    "\n",
    "    \"\"\"\n",
    "\n",
    "    ### the words (features) and authors (labels), already largely preprocessed\n",
    "    ### this preprocessing will be repeated in the text learning mini-project\n",
    "    authors_file_handler = open(authors_file, \"rb\")\n",
    "    authors = pickle.load(authors_file_handler)\n",
    "    authors_file_handler.close()\n",
    "\n",
    "    words_file_handler = open(words_file, \"rb\")\n",
    "    word_data = cPickle.load(words_file_handler)\n",
    "\n",
    "    words_file_handler.close()\n",
    "\n",
    "    ### test_size is the percentage of events assigned to the test set\n",
    "    ### (remainder go into training)\n",
    "    features_train, features_test, labels_train, labels_test = cross_validation.train_test_split(word_data, authors, test_size=0.1, random_state=42)\n",
    "\n",
    "\n",
    "\n",
    "    ### text vectorization--go from strings to lists of numbers\n",
    "    vectorizer = TfidfVectorizer(sublinear_tf=True, max_df=0.5,\n",
    "                                 stop_words='english')\n",
    "    features_train_transformed = vectorizer.fit_transform(features_train)\n",
    "    features_test_transformed  = vectorizer.transform(features_test)\n",
    "\n",
    "\n",
    "\n",
    "    ### feature selection, because text is super high dimensional and \n",
    "    ### can be really computationally chewy as a result\n",
    "    selector = SelectPercentile(f_classif, percentile=10)\n",
    "    selector.fit(features_train_transformed, labels_train)\n",
    "    features_train_transformed = selector.transform(features_train_transformed).toarray()\n",
    "    features_test_transformed  = selector.transform(features_test_transformed).toarray()\n",
    "\n",
    "    ### info on the data\n",
    "    print(\"no. of Chris training emails:\", sum(labels_train))\n",
    "    print( \"no. of Sara training emails:\", len(labels_train)-sum(labels_train))\n",
    "    \n",
    "    return features_train_transformed, features_test_transformed, labels_train, labels_test\n"
   ]
  },
  {
   "cell_type": "code",
   "execution_count": 10,
   "metadata": {
    "collapsed": false
   },
   "outputs": [],
   "source": [
    "import sys\n",
    "from time import time\n",
    "sys.path.append(\"../tools/\")\n",
    "\n",
    "import time\n"
   ]
  },
  {
   "cell_type": "code",
   "execution_count": 11,
   "metadata": {
    "collapsed": false,
    "scrolled": false
   },
   "outputs": [
    {
     "name": "stdout",
     "output_type": "stream",
     "text": [
      "no. of Chris training emails: 7936\n",
      "no. of Sara training emails: 7884\n",
      "[[ 0.  0.  0. ...,  0.  0.  0.]\n",
      " [ 0.  0.  0. ...,  0.  0.  0.]\n",
      " [ 0.  0.  0. ...,  0.  0.  0.]\n",
      " ..., \n",
      " [ 0.  0.  0. ...,  0.  0.  0.]\n",
      " [ 0.  0.  0. ...,  0.  0.  0.]\n",
      " [ 0.  0.  0. ...,  0.  0.  0.]]\n"
     ]
    }
   ],
   "source": [
    "features_train, features_test, labels_train,labels_test = preprocess()\n",
    "print(features_train)"
   ]
  },
  {
   "cell_type": "code",
   "execution_count": null,
   "metadata": {
    "collapsed": false
   },
   "outputs": [],
   "source": [
    "from sklearn.naive_bayes import GaussianNB\n",
    "t0 = time.time()\n",
    "nb = GaussianNB()\n",
    "nb.fit(features_train,labels_train)\n",
    "labels_predict = nb.predict(features_test)\n",
    "from sklearn.metrics import accuracy_score\n",
    "print accuracy_score(labels_test,labels_predict)\n",
    "t1 = time.time()\n",
    "print t1 - t0"
   ]
  },
  {
   "cell_type": "code",
   "execution_count": null,
   "metadata": {
    "collapsed": false
   },
   "outputs": [],
   "source": [
    "from sklearn.svm import SVC\n",
    "t2 = time.time()\n",
    "svm = SVC(kernel=\"linear\")\n",
    "svm.fit(features_train,labels_train)\n",
    "labels_predict = svm.predict(features_test)\n",
    "from sklearn.metrics import accuracy_score\n",
    "print accuracy_score(labels_test,labels_predict)\n",
    "t3 = time.time()\n",
    "print t3-t2"
   ]
  },
  {
   "cell_type": "markdown",
   "metadata": {
    "collapsed": true
   },
   "source": [
    "#### EFFECT OF SMALLER SETS"
   ]
  },
  {
   "cell_type": "code",
   "execution_count": null,
   "metadata": {
    "collapsed": false
   },
   "outputs": [],
   "source": [
    "from sklearn.naive_bayes import GaussianNB\n",
    "t0 = time.time()\n",
    "nb = GaussianNB()\n",
    "features_train_sub = features_train[:len(features_train)/100]\n",
    "labels_train_sub = labels_train[:len(labels_train)/100]\n",
    "nb.fit(features_train_sub,labels_train_sub)\n",
    "labels_predict = nb.predict(features_test)\n",
    "from sklearn.metrics import accuracy_score\n",
    "print accuracy_score(labels_test,labels_predict)\n",
    "t1 = time.time()\n",
    "print t1 - t0"
   ]
  },
  {
   "cell_type": "code",
   "execution_count": null,
   "metadata": {
    "collapsed": false
   },
   "outputs": [],
   "source": [
    "from sklearn.svm import SVC\n",
    "t2 = time.time()\n",
    "svm = SVC(kernel=\"linear\")\n",
    "features_train_sub = features_train[:len(features_train)/100]\n",
    "labels_train_sub = labels_train[:len(labels_train)/100]\n",
    "svm.fit(features_train_sub,labels_train_sub)\n",
    "labels_predict = svm.predict(features_test)\n",
    "from sklearn.metrics import accuracy_score\n",
    "print accuracy_score(labels_test,labels_predict)\n",
    "t3 = time.time()\n",
    "print t3-t2"
   ]
  },
  {
   "cell_type": "markdown",
   "metadata": {},
   "source": [
    "#### Effect of rbf Kernell"
   ]
  },
  {
   "cell_type": "code",
   "execution_count": null,
   "metadata": {
    "collapsed": false
   },
   "outputs": [],
   "source": [
    "from sklearn.svm import SVC\n",
    "t2 = time.time()\n",
    "svm = SVC(kernel=\"rbf\")\n",
    "features_train_sub = features_train[:len(features_train)/100]\n",
    "labels_train_sub = labels_train[:len(labels_train)/100]\n",
    "svm.fit(features_train_sub,labels_train_sub)\n",
    "labels_predict = svm.predict(features_test)\n",
    "from sklearn.metrics import accuracy_score\n",
    "print accuracy_score(labels_test,labels_predict)\n",
    "t3 = time.time()\n",
    "print t3-t2"
   ]
  },
  {
   "cell_type": "markdown",
   "metadata": {},
   "source": [
    "#### Effect of C value"
   ]
  },
  {
   "cell_type": "code",
   "execution_count": null,
   "metadata": {
    "collapsed": false
   },
   "outputs": [],
   "source": [
    "from sklearn.svm import SVC\n",
    "t2 = time.time()\n",
    "svm = SVC(kernel=\"rbf\", C = 5700)\n",
    "features_train_sub = features_train[:len(features_train)/100]\n",
    "labels_train_sub = labels_train[:len(labels_train)/100]\n",
    "svm.fit(features_train_sub,labels_train_sub)\n",
    "labels_predict = svm.predict(features_test)\n",
    "from sklearn.metrics import accuracy_score\n",
    "print accuracy_score(labels_test,labels_predict)\n",
    "t3 = time.time()\n"
   ]
  },
  {
   "cell_type": "markdown",
   "metadata": {},
   "source": [
    "#### With optimized parameters"
   ]
  },
  {
   "cell_type": "code",
   "execution_count": null,
   "metadata": {
    "collapsed": false
   },
   "outputs": [],
   "source": [
    "from sklearn.svm import SVC\n",
    "t2 = time.time()\n",
    "svm = SVC(kernel=\"rbf\", C = 5700)\n",
    "svm.fit(features_train,labels_train)\n",
    "labels_predict = svm.predict(features_test)\n",
    "from sklearn.metrics import accuracy_score\n",
    "print accuracy_score(labels_test,labels_predict)\n",
    "t3 = time.time()"
   ]
  },
  {
   "cell_type": "markdown",
   "metadata": {},
   "source": [
    "#### Specific prediction"
   ]
  },
  {
   "cell_type": "code",
   "execution_count": null,
   "metadata": {
    "collapsed": false
   },
   "outputs": [],
   "source": [
    "svm = SVC(kernel=\"rbf\", C = 10000)\n",
    "features_train_sub = features_train[:len(features_train)/100]\n",
    "labels_train_sub = labels_train[:len(labels_train)/100]\n",
    "svm.fit(features_train_sub,labels_train_sub)\n",
    "labels_predict = svm.predict(features_test)\n",
    "from sklearn.metrics import accuracy_score\n",
    "print labels_predict[50]"
   ]
  },
  {
   "cell_type": "markdown",
   "metadata": {},
   "source": [
    "#### Number of 1 predictions"
   ]
  },
  {
   "cell_type": "code",
   "execution_count": null,
   "metadata": {
    "collapsed": false
   },
   "outputs": [],
   "source": [
    "import numpy as np\n",
    "svm = SVC(kernel=\"rbf\", C = 10000)\n",
    "svm.fit(features_train,labels_train)\n",
    "labels_predict = svm.predict(features_test)\n",
    "from sklearn.metrics import accuracy_score\n",
    "print np.sum(labels_predict)"
   ]
  },
  {
   "cell_type": "markdown",
   "metadata": {},
   "source": [
    "## Decision trees"
   ]
  },
  {
   "cell_type": "markdown",
   "metadata": {},
   "source": [
    "### basic setup"
   ]
  },
  {
   "cell_type": "code",
   "execution_count": null,
   "metadata": {
    "collapsed": false
   },
   "outputs": [],
   "source": [
    "from sklearn.tree import DecisionTreeClassifier\n",
    "dt = DecisionTreeClassifier(min_samples_split = 40)"
   ]
  },
  {
   "cell_type": "markdown",
   "metadata": {},
   "source": [
    "### training first model"
   ]
  },
  {
   "cell_type": "code",
   "execution_count": null,
   "metadata": {
    "collapsed": false
   },
   "outputs": [],
   "source": [
    "features_train, features_test, labels_train,labels_test = preprocess()\n",
    "dt.fit(features_train,labels_train)"
   ]
  },
  {
   "cell_type": "code",
   "execution_count": null,
   "metadata": {
    "collapsed": false
   },
   "outputs": [],
   "source": [
    "labels_predict_dt = dt.predict(features_test)\n",
    "print accuracy_score(labels_test,labels_predict_dt)"
   ]
  },
  {
   "cell_type": "markdown",
   "metadata": {},
   "source": [
    "### number of features"
   ]
  },
  {
   "cell_type": "code",
   "execution_count": null,
   "metadata": {
    "collapsed": false,
    "scrolled": true
   },
   "outputs": [],
   "source": [
    "features_train, features_test, labels_train,labels_test = preprocess()\n",
    "print len(features_train[0])"
   ]
  },
  {
   "cell_type": "markdown",
   "metadata": {},
   "source": [
    "## K Nearest Neighbors"
   ]
  },
  {
   "cell_type": "markdown",
   "metadata": {},
   "source": [
    "### basic setup"
   ]
  },
  {
   "cell_type": "code",
   "execution_count": null,
   "metadata": {
    "collapsed": false
   },
   "outputs": [],
   "source": [
    "from sklearn.neighbors import KNeighborsClassifier\n",
    "\n",
    "features_train_sub = features_train[:len(features_train)/10]\n",
    "labels_train_sub = labels_train[:len(labels_train)/10]\n",
    "\n",
    "kn = KNeighborsClassifier(3, weights=\"uniform\")\n",
    "kn.fit(features_train_sub,labels_train_sub)\n",
    "labels_predict_kn = kn.predict(features_test)\n",
    "print accuracy_score(labels_test,labels_predict_kn)"
   ]
  },
  {
   "cell_type": "markdown",
   "metadata": {},
   "source": [
    "### playing with weights"
   ]
  },
  {
   "cell_type": "code",
   "execution_count": null,
   "metadata": {
    "collapsed": false
   },
   "outputs": [],
   "source": [
    "kn = KNeighborsClassifier(3, weights=\"distance\")\n",
    "kn.fit(features_train_sub,labels_train_sub)\n",
    "labels_predict_kn = kn.predict(features_test)\n",
    "print accuracy_score(labels_test,labels_predict_kn)"
   ]
  },
  {
   "cell_type": "markdown",
   "metadata": {},
   "source": [
    "### playing with k"
   ]
  },
  {
   "cell_type": "code",
   "execution_count": null,
   "metadata": {
    "collapsed": false
   },
   "outputs": [],
   "source": [
    "kn = KNeighborsClassifier(1, weights=\"distance\")\n",
    "kn.fit(features_train_sub,labels_train_sub)\n",
    "labels_predict_kn = kn.predict(features_test)\n",
    "print accuracy_score(labels_test,labels_predict_kn)"
   ]
  },
  {
   "cell_type": "markdown",
   "metadata": {},
   "source": [
    "### full set"
   ]
  },
  {
   "cell_type": "code",
   "execution_count": null,
   "metadata": {
    "collapsed": false
   },
   "outputs": [],
   "source": [
    "kn = KNeighborsClassifier(1, weights=\"distance\")\n",
    "kn.fit(features_train,labels_train)\n",
    "labels_predict_kn = kn.predict(features_test)\n",
    "print accuracy_score(labels_test,labels_predict_kn)"
   ]
  },
  {
   "cell_type": "code",
   "execution_count": null,
   "metadata": {
    "collapsed": true
   },
   "outputs": [],
   "source": []
  }
 ],
 "metadata": {
  "kernelspec": {
   "display_name": "Python 3",
   "language": "python",
   "name": "python3"
  },
  "language_info": {
   "codemirror_mode": {
    "name": "ipython",
    "version": 3
   },
   "file_extension": ".py",
   "mimetype": "text/x-python",
   "name": "python",
   "nbconvert_exporter": "python",
   "pygments_lexer": "ipython3",
   "version": "3.6.0"
  }
 },
 "nbformat": 4,
 "nbformat_minor": 2
}
