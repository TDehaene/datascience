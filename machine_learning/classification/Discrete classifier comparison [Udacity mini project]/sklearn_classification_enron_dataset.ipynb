{
 "cells": [
  {
   "cell_type": "code",
   "execution_count": 68,
   "metadata": {
    "collapsed": false
   },
   "outputs": [],
   "source": [
    "#!/usr/bin/python\n",
    "\n",
    "import pickle\n",
    "import cPickle\n",
    "import numpy\n",
    "\n",
    "from sklearn import cross_validation\n",
    "from sklearn.feature_extraction.text import TfidfVectorizer\n",
    "from sklearn.feature_selection import SelectPercentile, f_classif\n",
    "\n",
    "\n",
    "\n",
    "def preprocess(words_file = r\"C:\\Users\\dehaeth\\Documents\\Tools\\Python\\Oefeningen\\Udacity\\Machine learning intor\\ud120-projects-master\\tools\\word_data.pkl\", authors_file=r\"C:\\Users\\dehaeth\\Documents\\Tools\\Python\\Oefeningen\\Udacity\\Machine learning intor\\ud120-projects-master\\tools\\email_authors.pkl\"):\n",
    "    \"\"\" \n",
    "        this function takes a pre-made list of email texts (by default word_data.pkl)\n",
    "        and the corresponding authors (by default email_authors.pkl) and performs\n",
    "        a number of preprocessing steps:\n",
    "            -- splits into training/testing sets (10% testing)\n",
    "            -- vectorizes into tfidf matrix\n",
    "            -- selects/keeps most helpful features\n",
    "\n",
    "        after this, the feaures and labels are put into numpy arrays, which play nice with sklearn functions\n",
    "\n",
    "        4 objects are returned:\n",
    "            -- training/testing features\n",
    "            -- training/testing labels\n",
    "\n",
    "    \"\"\"\n",
    "\n",
    "    ### the words (features) and authors (labels), already largely preprocessed\n",
    "    ### this preprocessing will be repeated in the text learning mini-project\n",
    "    authors_file_handler = open(authors_file, \"r\")\n",
    "    authors = pickle.load(authors_file_handler)\n",
    "    authors_file_handler.close()\n",
    "\n",
    "    words_file_handler = open(words_file, \"r\")\n",
    "    word_data = cPickle.load(words_file_handler)\n",
    "\n",
    "    words_file_handler.close()\n",
    "\n",
    "    ### test_size is the percentage of events assigned to the test set\n",
    "    ### (remainder go into training)\n",
    "    features_train, features_test, labels_train, labels_test = cross_validation.train_test_split(word_data, authors, test_size=0.1, random_state=42)\n",
    "\n",
    "\n",
    "\n",
    "    ### text vectorization--go from strings to lists of numbers\n",
    "    vectorizer = TfidfVectorizer(sublinear_tf=True, max_df=0.5,\n",
    "                                 stop_words='english')\n",
    "    features_train_transformed = vectorizer.fit_transform(features_train)\n",
    "    features_test_transformed  = vectorizer.transform(features_test)\n",
    "\n",
    "\n",
    "\n",
    "    ### feature selection, because text is super high dimensional and \n",
    "    ### can be really computationally chewy as a result\n",
    "    selector = SelectPercentile(f_classif, percentile=10)\n",
    "    selector.fit(features_train_transformed, labels_train)\n",
    "    features_train_transformed = selector.transform(features_train_transformed).toarray()\n",
    "    features_test_transformed  = selector.transform(features_test_transformed).toarray()\n",
    "\n",
    "    ### info on the data\n",
    "    print \"no. of Chris training emails:\", sum(labels_train)\n",
    "    print \"no. of Sara training emails:\", len(labels_train)-sum(labels_train)\n",
    "    \n",
    "    return features_train_transformed, features_test_transformed, labels_train, labels_test\n"
   ]
  },
  {
   "cell_type": "code",
   "execution_count": 15,
   "metadata": {
    "collapsed": false
   },
   "outputs": [],
   "source": [
    "import sys\n",
    "from time import time\n",
    "sys.path.append(\"../tools/\")\n",
    "\n",
    "import time\n"
   ]
  },
  {
   "cell_type": "code",
   "execution_count": 16,
   "metadata": {
    "collapsed": false,
    "scrolled": false
   },
   "outputs": [
    {
     "name": "stdout",
     "output_type": "stream",
     "text": [
      "no. of Chris training emails: 7936\n",
      "no. of Sara training emails: 7884\n"
     ]
    }
   ],
   "source": [
    "features_train, features_test, labels_train,labels_test = preprocess()"
   ]
  },
  {
   "cell_type": "code",
   "execution_count": 17,
   "metadata": {
    "collapsed": false
   },
   "outputs": [
    {
     "name": "stdout",
     "output_type": "stream",
     "text": [
      "0.973265073948\n",
      "1.11100006104\n"
     ]
    }
   ],
   "source": [
    "from sklearn.naive_bayes import GaussianNB\n",
    "t0 = time.time()\n",
    "nb = GaussianNB()\n",
    "nb.fit(features_train,labels_train)\n",
    "labels_predict = nb.predict(features_test)\n",
    "from sklearn.metrics import accuracy_score\n",
    "print accuracy_score(labels_test,labels_predict)\n",
    "t1 = time.time()\n",
    "print t1 - t0"
   ]
  },
  {
   "cell_type": "code",
   "execution_count": 18,
   "metadata": {
    "collapsed": false
   },
   "outputs": [
    {
     "name": "stdout",
     "output_type": "stream",
     "text": [
      "0.984072810011\n",
      "206.618999958\n"
     ]
    }
   ],
   "source": [
    "from sklearn.svm import SVC\n",
    "t2 = time.time()\n",
    "svm = SVC(kernel=\"linear\")\n",
    "svm.fit(features_train,labels_train)\n",
    "labels_predict = svm.predict(features_test)\n",
    "from sklearn.metrics import accuracy_score\n",
    "print accuracy_score(labels_test,labels_predict)\n",
    "t3 = time.time()\n",
    "print t3-t2"
   ]
  },
  {
   "cell_type": "markdown",
   "metadata": {
    "collapsed": true
   },
   "source": [
    "#### EFFECT OF SMALLER SETS"
   ]
  },
  {
   "cell_type": "code",
   "execution_count": 19,
   "metadata": {
    "collapsed": false
   },
   "outputs": [
    {
     "name": "stdout",
     "output_type": "stream",
     "text": [
      "0.919226393629\n",
      "0.163000106812\n"
     ]
    }
   ],
   "source": [
    "from sklearn.naive_bayes import GaussianNB\n",
    "t0 = time.time()\n",
    "nb = GaussianNB()\n",
    "features_train_sub = features_train[:len(features_train)/100]\n",
    "labels_train_sub = labels_train[:len(labels_train)/100]\n",
    "nb.fit(features_train_sub,labels_train_sub)\n",
    "labels_predict = nb.predict(features_test)\n",
    "from sklearn.metrics import accuracy_score\n",
    "print accuracy_score(labels_test,labels_predict)\n",
    "t1 = time.time()\n",
    "print t1 - t0"
   ]
  },
  {
   "cell_type": "code",
   "execution_count": 20,
   "metadata": {
    "collapsed": false
   },
   "outputs": [
    {
     "name": "stdout",
     "output_type": "stream",
     "text": [
      "0.884527872582\n",
      "1.23699998856\n"
     ]
    }
   ],
   "source": [
    "from sklearn.svm import SVC\n",
    "t2 = time.time()\n",
    "svm = SVC(kernel=\"linear\")\n",
    "features_train_sub = features_train[:len(features_train)/100]\n",
    "labels_train_sub = labels_train[:len(labels_train)/100]\n",
    "svm.fit(features_train_sub,labels_train_sub)\n",
    "labels_predict = svm.predict(features_test)\n",
    "from sklearn.metrics import accuracy_score\n",
    "print accuracy_score(labels_test,labels_predict)\n",
    "t3 = time.time()\n",
    "print t3-t2"
   ]
  },
  {
   "cell_type": "markdown",
   "metadata": {},
   "source": [
    "#### Effect of rbf Kernell"
   ]
  },
  {
   "cell_type": "code",
   "execution_count": 21,
   "metadata": {
    "collapsed": false
   },
   "outputs": [
    {
     "name": "stdout",
     "output_type": "stream",
     "text": [
      "0.616040955631\n",
      "1.41700005531\n"
     ]
    }
   ],
   "source": [
    "from sklearn.svm import SVC\n",
    "t2 = time.time()\n",
    "svm = SVC(kernel=\"rbf\")\n",
    "features_train_sub = features_train[:len(features_train)/100]\n",
    "labels_train_sub = labels_train[:len(labels_train)/100]\n",
    "svm.fit(features_train_sub,labels_train_sub)\n",
    "labels_predict = svm.predict(features_test)\n",
    "from sklearn.metrics import accuracy_score\n",
    "print accuracy_score(labels_test,labels_predict)\n",
    "t3 = time.time()\n",
    "print t3-t2"
   ]
  },
  {
   "cell_type": "markdown",
   "metadata": {},
   "source": [
    "#### Effect of C value"
   ]
  },
  {
   "cell_type": "code",
   "execution_count": 38,
   "metadata": {
    "collapsed": false
   },
   "outputs": [
    {
     "name": "stdout",
     "output_type": "stream",
     "text": [
      "0.900455062571\n"
     ]
    }
   ],
   "source": [
    "from sklearn.svm import SVC\n",
    "t2 = time.time()\n",
    "svm = SVC(kernel=\"rbf\", C = 5700)\n",
    "features_train_sub = features_train[:len(features_train)/100]\n",
    "labels_train_sub = labels_train[:len(labels_train)/100]\n",
    "svm.fit(features_train_sub,labels_train_sub)\n",
    "labels_predict = svm.predict(features_test)\n",
    "from sklearn.metrics import accuracy_score\n",
    "print accuracy_score(labels_test,labels_predict)\n",
    "t3 = time.time()\n"
   ]
  },
  {
   "cell_type": "markdown",
   "metadata": {},
   "source": [
    "#### With optimized parameters"
   ]
  },
  {
   "cell_type": "code",
   "execution_count": 39,
   "metadata": {
    "collapsed": false
   },
   "outputs": [
    {
     "name": "stdout",
     "output_type": "stream",
     "text": [
      "0.990898748578\n"
     ]
    }
   ],
   "source": [
    "from sklearn.svm import SVC\n",
    "t2 = time.time()\n",
    "svm = SVC(kernel=\"rbf\", C = 5700)\n",
    "svm.fit(features_train,labels_train)\n",
    "labels_predict = svm.predict(features_test)\n",
    "from sklearn.metrics import accuracy_score\n",
    "print accuracy_score(labels_test,labels_predict)\n",
    "t3 = time.time()"
   ]
  },
  {
   "cell_type": "markdown",
   "metadata": {},
   "source": [
    "#### Specific prediction"
   ]
  },
  {
   "cell_type": "code",
   "execution_count": 46,
   "metadata": {
    "collapsed": false
   },
   "outputs": [
    {
     "name": "stdout",
     "output_type": "stream",
     "text": [
      "1\n"
     ]
    }
   ],
   "source": [
    "svm = SVC(kernel=\"rbf\", C = 10000)\n",
    "features_train_sub = features_train[:len(features_train)/100]\n",
    "labels_train_sub = labels_train[:len(labels_train)/100]\n",
    "svm.fit(features_train_sub,labels_train_sub)\n",
    "labels_predict = svm.predict(features_test)\n",
    "from sklearn.metrics import accuracy_score\n",
    "print labels_predict[50]"
   ]
  },
  {
   "cell_type": "markdown",
   "metadata": {},
   "source": [
    "#### Number of 1 predictions"
   ]
  },
  {
   "cell_type": "code",
   "execution_count": 48,
   "metadata": {
    "collapsed": false
   },
   "outputs": [
    {
     "name": "stdout",
     "output_type": "stream",
     "text": [
      "877\n"
     ]
    }
   ],
   "source": [
    "import numpy as np\n",
    "svm = SVC(kernel=\"rbf\", C = 10000)\n",
    "svm.fit(features_train,labels_train)\n",
    "labels_predict = svm.predict(features_test)\n",
    "from sklearn.metrics import accuracy_score\n",
    "print np.sum(labels_predict)"
   ]
  },
  {
   "cell_type": "markdown",
   "metadata": {},
   "source": [
    "## Decision trees"
   ]
  },
  {
   "cell_type": "markdown",
   "metadata": {},
   "source": [
    "### basic setup"
   ]
  },
  {
   "cell_type": "code",
   "execution_count": 52,
   "metadata": {
    "collapsed": false
   },
   "outputs": [],
   "source": [
    "from sklearn.tree import DecisionTreeClassifier\n",
    "dt = DecisionTreeClassifier(min_samples_split = 40)"
   ]
  },
  {
   "cell_type": "markdown",
   "metadata": {},
   "source": [
    "### training first model"
   ]
  },
  {
   "cell_type": "code",
   "execution_count": 69,
   "metadata": {
    "collapsed": false
   },
   "outputs": [
    {
     "name": "stdout",
     "output_type": "stream",
     "text": [
      "no. of Chris training emails: 7936\n",
      "no. of Sara training emails: 7884\n"
     ]
    },
    {
     "data": {
      "text/plain": [
       "DecisionTreeClassifier(class_weight=None, criterion='gini', max_depth=None,\n",
       "            max_features=None, max_leaf_nodes=None,\n",
       "            min_impurity_split=1e-07, min_samples_leaf=1,\n",
       "            min_samples_split=40, min_weight_fraction_leaf=0.0,\n",
       "            presort=False, random_state=None, splitter='best')"
      ]
     },
     "execution_count": 69,
     "metadata": {},
     "output_type": "execute_result"
    }
   ],
   "source": [
    "features_train, features_test, labels_train,labels_test = preprocess()\n",
    "dt.fit(features_train,labels_train)"
   ]
  },
  {
   "cell_type": "code",
   "execution_count": 71,
   "metadata": {
    "collapsed": false
   },
   "outputs": [
    {
     "name": "stdout",
     "output_type": "stream",
     "text": [
      "0.977815699659\n"
     ]
    }
   ],
   "source": [
    "labels_predict_dt = dt.predict(features_test)\n",
    "print accuracy_score(labels_test,labels_predict_dt)"
   ]
  },
  {
   "cell_type": "markdown",
   "metadata": {},
   "source": [
    "### number of features"
   ]
  },
  {
   "cell_type": "code",
   "execution_count": 61,
   "metadata": {
    "collapsed": false,
    "scrolled": true
   },
   "outputs": [
    {
     "name": "stdout",
     "output_type": "stream",
     "text": [
      "no. of Chris training emails: 7936\n",
      "no. of Sara training emails: 7884\n",
      "379\n"
     ]
    }
   ],
   "source": [
    "features_train, features_test, labels_train,labels_test = preprocess()\n",
    "print len(features_train[0])"
   ]
  },
  {
   "cell_type": "markdown",
   "metadata": {},
   "source": [
    "## K Nearest Neighbors"
   ]
  },
  {
   "cell_type": "markdown",
   "metadata": {},
   "source": [
    "### basic setup"
   ]
  },
  {
   "cell_type": "code",
   "execution_count": 89,
   "metadata": {
    "collapsed": false
   },
   "outputs": [
    {
     "name": "stdout",
     "output_type": "stream",
     "text": [
      "0.627986348123\n"
     ]
    }
   ],
   "source": [
    "from sklearn.neighbors import KNeighborsClassifier\n",
    "\n",
    "features_train_sub = features_train[:len(features_train)/10]\n",
    "labels_train_sub = labels_train[:len(labels_train)/10]\n",
    "\n",
    "kn = KNeighborsClassifier(3, weights=\"uniform\")\n",
    "kn.fit(features_train_sub,labels_train_sub)\n",
    "labels_predict_kn = kn.predict(features_test)\n",
    "print accuracy_score(labels_test,labels_predict_kn)"
   ]
  },
  {
   "cell_type": "markdown",
   "metadata": {},
   "source": [
    "### playing with weights"
   ]
  },
  {
   "cell_type": "code",
   "execution_count": 90,
   "metadata": {
    "collapsed": false
   },
   "outputs": [
    {
     "name": "stdout",
     "output_type": "stream",
     "text": [
      "0.669510807736\n"
     ]
    }
   ],
   "source": [
    "kn = KNeighborsClassifier(3, weights=\"distance\")\n",
    "kn.fit(features_train_sub,labels_train_sub)\n",
    "labels_predict_kn = kn.predict(features_test)\n",
    "print accuracy_score(labels_test,labels_predict_kn)"
   ]
  },
  {
   "cell_type": "markdown",
   "metadata": {},
   "source": [
    "### playing with k"
   ]
  },
  {
   "cell_type": "code",
   "execution_count": 94,
   "metadata": {
    "collapsed": false
   },
   "outputs": [
    {
     "name": "stdout",
     "output_type": "stream",
     "text": [
      "0.740045506257\n"
     ]
    }
   ],
   "source": [
    "kn = KNeighborsClassifier(1, weights=\"distance\")\n",
    "kn.fit(features_train_sub,labels_train_sub)\n",
    "labels_predict_kn = kn.predict(features_test)\n",
    "print accuracy_score(labels_test,labels_predict_kn)"
   ]
  },
  {
   "cell_type": "markdown",
   "metadata": {},
   "source": [
    "### full set"
   ]
  },
  {
   "cell_type": "code",
   "execution_count": 95,
   "metadata": {
    "collapsed": false
   },
   "outputs": [
    {
     "name": "stdout",
     "output_type": "stream",
     "text": [
      "0.978953356086\n"
     ]
    }
   ],
   "source": [
    "kn = KNeighborsClassifier(1, weights=\"distance\")\n",
    "kn.fit(features_train,labels_train)\n",
    "labels_predict_kn = kn.predict(features_test)\n",
    "print accuracy_score(labels_test,labels_predict_kn)"
   ]
  },
  {
   "cell_type": "code",
   "execution_count": null,
   "metadata": {
    "collapsed": true
   },
   "outputs": [],
   "source": []
  }
 ],
 "metadata": {
  "kernelspec": {
   "display_name": "Python 2",
   "language": "python",
   "name": "python2"
  },
  "language_info": {
   "codemirror_mode": {
    "name": "ipython",
    "version": 2
   },
   "file_extension": ".py",
   "mimetype": "text/x-python",
   "name": "python",
   "nbconvert_exporter": "python",
   "pygments_lexer": "ipython2",
   "version": "2.7.13"
  }
 },
 "nbformat": 4,
 "nbformat_minor": 2
}
