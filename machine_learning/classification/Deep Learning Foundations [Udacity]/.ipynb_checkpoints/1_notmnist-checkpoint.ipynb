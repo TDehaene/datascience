{
 "cells": [
  {
   "cell_type": "markdown",
   "metadata": {
    "colab_type": "text",
    "id": "5hIbr52I7Z7U"
   },
   "source": [
    "Deep Learning\n",
    "=============\n",
    "\n",
    "Assignment 1\n",
    "------------\n",
    "\n",
    "The objective of this assignment is to learn about simple data curation practices, and familiarize you with some of the data we'll be reusing later.\n",
    "\n",
    "This notebook uses the [notMNIST](http://yaroslavvb.blogspot.com/2011/09/notmnist-dataset.html) dataset to be used with python experiments. This dataset is designed to look like the classic [MNIST](http://yann.lecun.com/exdb/mnist/) dataset, while looking a little more like real data: it's a harder task, and the data is a lot less 'clean' than MNIST."
   ]
  },
  {
   "cell_type": "code",
   "execution_count": 3,
   "metadata": {
    "cellView": "both",
    "colab": {
     "autoexec": {
      "startup": false,
      "wait_interval": 0
     }
    },
    "colab_type": "code",
    "collapsed": true,
    "id": "apJbCsBHl-2A"
   },
   "outputs": [],
   "source": [
    "# These are all the modules we'll be using later. Make sure you can import them\n",
    "# before proceeding further.\n",
    "from __future__ import print_function\n",
    "import matplotlib.pyplot as plt\n",
    "import numpy as np\n",
    "import os\n",
    "import sys\n",
    "import tarfile\n",
    "from IPython.display import display, Image\n",
    "from scipy import ndimage\n",
    "from sklearn.linear_model import LogisticRegression\n",
    "from six.moves.urllib.request import urlretrieve\n",
    "from six.moves import cPickle as pickle\n",
    "\n",
    "# Config the matplotlib backend as plotting inline in IPython\n",
    "%matplotlib inline"
   ]
  },
  {
   "cell_type": "markdown",
   "metadata": {
    "colab_type": "text",
    "id": "jNWGtZaXn-5j"
   },
   "source": [
    "First, we'll download the dataset to our local machine. The data consists of characters rendered in a variety of fonts on a 28x28 image. The labels are limited to 'A' through 'J' (10 classes). The training set has about 500k and the testset 19000 labeled examples. Given these sizes, it should be possible to train models quickly on any machine."
   ]
  },
  {
   "cell_type": "code",
   "execution_count": 2,
   "metadata": {
    "cellView": "both",
    "colab": {
     "autoexec": {
      "startup": false,
      "wait_interval": 0
     },
     "output_extras": [
      {
       "item_id": 1
      }
     ]
    },
    "colab_type": "code",
    "collapsed": false,
    "executionInfo": {
     "elapsed": 186058,
     "status": "ok",
     "timestamp": 1444485672507,
     "user": {
      "color": "#1FA15D",
      "displayName": "Vincent Vanhoucke",
      "isAnonymous": false,
      "isMe": true,
      "permissionId": "05076109866853157986",
      "photoUrl": "//lh6.googleusercontent.com/-cCJa7dTDcgQ/AAAAAAAAAAI/AAAAAAAACgw/r2EZ_8oYer4/s50-c-k-no/photo.jpg",
      "sessionId": "2a0a5e044bb03b66",
      "userId": "102167687554210253930"
     },
     "user_tz": 420
    },
    "id": "EYRJ4ICW6-da",
    "outputId": "0d0f85df-155f-4a89-8e7e-ee32df36ec8d"
   },
   "outputs": [
    {
     "name": "stdout",
     "output_type": "stream",
     "text": [
      "Attempting to download: notMNIST_large.tar.gz\n",
      "0%....5%....10%....15%....20%....25%....30%....35%....40%....45%....50%....55%....60%....65%....70%....75%....80%....85%....90%....95%....100%\n",
      "Download Complete!\n",
      "Found and verified C:\\Users\\dehaeth\\Documents\\Tools\\Datasets\\notMNIST\\notMNIST_large.tar.gz\n",
      "Attempting to download: notMNIST_small.tar.gz\n",
      "0%....5%....10%....15%....20%....25%....30%....35%....40%....45%....50%....55%....60%....65%....70%....75%....80%....85%....90%....95%....100%\n",
      "Download Complete!\n",
      "Found and verified C:\\Users\\dehaeth\\Documents\\Tools\\Datasets\\notMNIST\\notMNIST_small.tar.gz\n"
     ]
    }
   ],
   "source": [
    "url = 'https://commondatastorage.googleapis.com/books1000/'\n",
    "last_percent_reported = None\n",
    "data_root = r'C:\\Users\\dehaeth\\Documents\\Tools\\Datasets\\notMNIST' # Change me to store data elsewhere\n",
    "\n",
    "def download_progress_hook(count, blockSize, totalSize):\n",
    "  \"\"\"A hook to report the progress of a download. This is mostly intended for users with\n",
    "  slow internet connections. Reports every 5% change in download progress.\n",
    "  \"\"\"\n",
    "  global last_percent_reported\n",
    "  percent = int(count * blockSize * 100 / totalSize)\n",
    "\n",
    "  if last_percent_reported != percent:\n",
    "    if percent % 5 == 0:\n",
    "      sys.stdout.write(\"%s%%\" % percent)\n",
    "      sys.stdout.flush()\n",
    "    else:\n",
    "      sys.stdout.write(\".\")\n",
    "      sys.stdout.flush()\n",
    "      \n",
    "    last_percent_reported = percent\n",
    "        \n",
    "def maybe_download(filename, expected_bytes, force=False):\n",
    "  \"\"\"Download a file if not present, and make sure it's the right size.\"\"\"\n",
    "  dest_filename = os.path.join(data_root, filename)\n",
    "  if force or not os.path.exists(dest_filename):\n",
    "    print('Attempting to download:', filename) \n",
    "    filename, _ = urlretrieve(url + filename, dest_filename, reporthook=download_progress_hook)\n",
    "    print('\\nDownload Complete!')\n",
    "  statinfo = os.stat(dest_filename)\n",
    "  if statinfo.st_size == expected_bytes:\n",
    "    print('Found and verified', dest_filename)\n",
    "  else:\n",
    "    raise Exception(\n",
    "      'Failed to verify ' + dest_filename + '. Can you get to it with a browser?')\n",
    "  return dest_filename\n",
    "\n",
    "train_filename = maybe_download('notMNIST_large.tar.gz', 247336696)\n",
    "test_filename = maybe_download('notMNIST_small.tar.gz', 8458043)"
   ]
  },
  {
   "cell_type": "markdown",
   "metadata": {
    "colab_type": "text",
    "id": "cC3p0oEyF8QT"
   },
   "source": [
    "Extract the dataset from the compressed .tar.gz file.\n",
    "This should give you a set of directories, labeled A through J."
   ]
  },
  {
   "cell_type": "code",
   "execution_count": 3,
   "metadata": {
    "cellView": "both",
    "colab": {
     "autoexec": {
      "startup": false,
      "wait_interval": 0
     },
     "output_extras": [
      {
       "item_id": 1
      }
     ]
    },
    "colab_type": "code",
    "collapsed": false,
    "executionInfo": {
     "elapsed": 186055,
     "status": "ok",
     "timestamp": 1444485672525,
     "user": {
      "color": "#1FA15D",
      "displayName": "Vincent Vanhoucke",
      "isAnonymous": false,
      "isMe": true,
      "permissionId": "05076109866853157986",
      "photoUrl": "//lh6.googleusercontent.com/-cCJa7dTDcgQ/AAAAAAAAAAI/AAAAAAAACgw/r2EZ_8oYer4/s50-c-k-no/photo.jpg",
      "sessionId": "2a0a5e044bb03b66",
      "userId": "102167687554210253930"
     },
     "user_tz": 420
    },
    "id": "H8CBE-WZ8nmj",
    "outputId": "ef6c790c-2513-4b09-962e-27c79390c762"
   },
   "outputs": [
    {
     "name": "stdout",
     "output_type": "stream",
     "text": [
      "Extracting data for C:\\Users\\dehaeth\\Documents\\Tools\\Datasets\\notMNIST\\notMNIST_large. This may take a while. Please wait.\n",
      "['C:\\\\Users\\\\dehaeth\\\\Documents\\\\Tools\\\\Datasets\\\\notMNIST\\\\notMNIST_large\\\\A', 'C:\\\\Users\\\\dehaeth\\\\Documents\\\\Tools\\\\Datasets\\\\notMNIST\\\\notMNIST_large\\\\B', 'C:\\\\Users\\\\dehaeth\\\\Documents\\\\Tools\\\\Datasets\\\\notMNIST\\\\notMNIST_large\\\\C', 'C:\\\\Users\\\\dehaeth\\\\Documents\\\\Tools\\\\Datasets\\\\notMNIST\\\\notMNIST_large\\\\D', 'C:\\\\Users\\\\dehaeth\\\\Documents\\\\Tools\\\\Datasets\\\\notMNIST\\\\notMNIST_large\\\\E', 'C:\\\\Users\\\\dehaeth\\\\Documents\\\\Tools\\\\Datasets\\\\notMNIST\\\\notMNIST_large\\\\F', 'C:\\\\Users\\\\dehaeth\\\\Documents\\\\Tools\\\\Datasets\\\\notMNIST\\\\notMNIST_large\\\\G', 'C:\\\\Users\\\\dehaeth\\\\Documents\\\\Tools\\\\Datasets\\\\notMNIST\\\\notMNIST_large\\\\H', 'C:\\\\Users\\\\dehaeth\\\\Documents\\\\Tools\\\\Datasets\\\\notMNIST\\\\notMNIST_large\\\\I', 'C:\\\\Users\\\\dehaeth\\\\Documents\\\\Tools\\\\Datasets\\\\notMNIST\\\\notMNIST_large\\\\J']\n",
      "Extracting data for C:\\Users\\dehaeth\\Documents\\Tools\\Datasets\\notMNIST\\notMNIST_small. This may take a while. Please wait.\n",
      "['C:\\\\Users\\\\dehaeth\\\\Documents\\\\Tools\\\\Datasets\\\\notMNIST\\\\notMNIST_small\\\\A', 'C:\\\\Users\\\\dehaeth\\\\Documents\\\\Tools\\\\Datasets\\\\notMNIST\\\\notMNIST_small\\\\B', 'C:\\\\Users\\\\dehaeth\\\\Documents\\\\Tools\\\\Datasets\\\\notMNIST\\\\notMNIST_small\\\\C', 'C:\\\\Users\\\\dehaeth\\\\Documents\\\\Tools\\\\Datasets\\\\notMNIST\\\\notMNIST_small\\\\D', 'C:\\\\Users\\\\dehaeth\\\\Documents\\\\Tools\\\\Datasets\\\\notMNIST\\\\notMNIST_small\\\\E', 'C:\\\\Users\\\\dehaeth\\\\Documents\\\\Tools\\\\Datasets\\\\notMNIST\\\\notMNIST_small\\\\F', 'C:\\\\Users\\\\dehaeth\\\\Documents\\\\Tools\\\\Datasets\\\\notMNIST\\\\notMNIST_small\\\\G', 'C:\\\\Users\\\\dehaeth\\\\Documents\\\\Tools\\\\Datasets\\\\notMNIST\\\\notMNIST_small\\\\H', 'C:\\\\Users\\\\dehaeth\\\\Documents\\\\Tools\\\\Datasets\\\\notMNIST\\\\notMNIST_small\\\\I', 'C:\\\\Users\\\\dehaeth\\\\Documents\\\\Tools\\\\Datasets\\\\notMNIST\\\\notMNIST_small\\\\J']\n"
     ]
    }
   ],
   "source": [
    "num_classes = 10\n",
    "np.random.seed(133)\n",
    "\n",
    "def maybe_extract(filename, force=False):\n",
    "  root = os.path.splitext(os.path.splitext(filename)[0])[0]  # remove .tar.gz\n",
    "  if os.path.isdir(root) and not force:\n",
    "    # You may override by setting force=True.\n",
    "    print('%s already present - Skipping extraction of %s.' % (root, filename))\n",
    "  else:\n",
    "    print('Extracting data for %s. This may take a while. Please wait.' % root)\n",
    "    tar = tarfile.open(filename)\n",
    "    sys.stdout.flush()\n",
    "    tar.extractall(data_root)\n",
    "    tar.close()\n",
    "  data_folders = [\n",
    "    os.path.join(root, d) for d in sorted(os.listdir(root))\n",
    "    if os.path.isdir(os.path.join(root, d))]\n",
    "  if len(data_folders) != num_classes:\n",
    "    raise Exception(\n",
    "      'Expected %d folders, one per class. Found %d instead.' % (\n",
    "        num_classes, len(data_folders)))\n",
    "  print(data_folders)\n",
    "  return data_folders\n",
    "  \n",
    "train_folders = maybe_extract(train_filename)\n",
    "test_folders = maybe_extract(test_filename)"
   ]
  },
  {
   "cell_type": "markdown",
   "metadata": {
    "colab_type": "text",
    "id": "4riXK3IoHgx6"
   },
   "source": [
    "---\n",
    "Problem 1\n",
    "---------\n",
    "\n",
    "Let's take a peek at some of the data to make sure it looks sensible. Each exemplar should be an image of a character A through J rendered in a different font. Display a sample of the images that we just downloaded. Hint: you can use the package IPython.display.\n",
    "\n",
    "---"
   ]
  },
  {
   "cell_type": "markdown",
   "metadata": {
    "colab_type": "text",
    "id": "PBdkjESPK8tw"
   },
   "source": [
    "Now let's load the data in a more manageable format. Since, depending on your computer setup you might not be able to fit it all in memory, we'll load each class into a separate dataset, store them on disk and curate them independently. Later we'll merge them into a single dataset of manageable size.\n",
    "\n",
    "We'll convert the entire dataset into a 3D array (image index, x, y) of floating point values, normalized to have approximately zero mean and standard deviation ~0.5 to make training easier down the road. \n",
    "\n",
    "A few images might not be readable, we'll just skip them."
   ]
  },
  {
   "cell_type": "code",
   "execution_count": 4,
   "metadata": {
    "cellView": "both",
    "colab": {
     "autoexec": {
      "startup": false,
      "wait_interval": 0
     },
     "output_extras": [
      {
       "item_id": 30
      }
     ]
    },
    "colab_type": "code",
    "collapsed": false,
    "executionInfo": {
     "elapsed": 399874,
     "status": "ok",
     "timestamp": 1444485886378,
     "user": {
      "color": "#1FA15D",
      "displayName": "Vincent Vanhoucke",
      "isAnonymous": false,
      "isMe": true,
      "permissionId": "05076109866853157986",
      "photoUrl": "//lh6.googleusercontent.com/-cCJa7dTDcgQ/AAAAAAAAAAI/AAAAAAAACgw/r2EZ_8oYer4/s50-c-k-no/photo.jpg",
      "sessionId": "2a0a5e044bb03b66",
      "userId": "102167687554210253930"
     },
     "user_tz": 420
    },
    "id": "h7q0XhG3MJdf",
    "outputId": "92c391bb-86ff-431d-9ada-315568a19e59"
   },
   "outputs": [
    {
     "name": "stdout",
     "output_type": "stream",
     "text": [
      "Pickling C:\\Users\\dehaeth\\Documents\\Tools\\Datasets\\notMNIST\\notMNIST_large\\A.pickle.\n",
      "C:\\Users\\dehaeth\\Documents\\Tools\\Datasets\\notMNIST\\notMNIST_large\\A\n",
      "Could not read: C:\\Users\\dehaeth\\Documents\\Tools\\Datasets\\notMNIST\\notMNIST_large\\A\\RnJlaWdodERpc3BCb29rSXRhbGljLnR0Zg==.png : cannot identify image file 'C:\\\\Users\\\\dehaeth\\\\Documents\\\\Tools\\\\Datasets\\\\notMNIST\\\\notMNIST_large\\\\A\\\\RnJlaWdodERpc3BCb29rSXRhbGljLnR0Zg==.png' - it's ok, skipping.\n",
      "Could not read: C:\\Users\\dehaeth\\Documents\\Tools\\Datasets\\notMNIST\\notMNIST_large\\A\\SG90IE11c3RhcmQgQlROIFBvc3Rlci50dGY=.png : cannot identify image file 'C:\\\\Users\\\\dehaeth\\\\Documents\\\\Tools\\\\Datasets\\\\notMNIST\\\\notMNIST_large\\\\A\\\\SG90IE11c3RhcmQgQlROIFBvc3Rlci50dGY=.png' - it's ok, skipping.\n",
      "Could not read: C:\\Users\\dehaeth\\Documents\\Tools\\Datasets\\notMNIST\\notMNIST_large\\A\\Um9tYW5hIEJvbGQucGZi.png : cannot identify image file 'C:\\\\Users\\\\dehaeth\\\\Documents\\\\Tools\\\\Datasets\\\\notMNIST\\\\notMNIST_large\\\\A\\\\Um9tYW5hIEJvbGQucGZi.png' - it's ok, skipping.\n",
      "Full dataset tensor: (52909, 28, 28)\n",
      "Mean: -0.12825\n",
      "Standard deviation: 0.443121\n",
      "Pickling C:\\Users\\dehaeth\\Documents\\Tools\\Datasets\\notMNIST\\notMNIST_large\\B.pickle.\n",
      "C:\\Users\\dehaeth\\Documents\\Tools\\Datasets\\notMNIST\\notMNIST_large\\B\n",
      "Could not read: C:\\Users\\dehaeth\\Documents\\Tools\\Datasets\\notMNIST\\notMNIST_large\\B\\TmlraXNFRi1TZW1pQm9sZEl0YWxpYy5vdGY=.png : cannot identify image file 'C:\\\\Users\\\\dehaeth\\\\Documents\\\\Tools\\\\Datasets\\\\notMNIST\\\\notMNIST_large\\\\B\\\\TmlraXNFRi1TZW1pQm9sZEl0YWxpYy5vdGY=.png' - it's ok, skipping.\n",
      "Full dataset tensor: (52911, 28, 28)\n",
      "Mean: -0.00756303\n",
      "Standard deviation: 0.454491\n",
      "Pickling C:\\Users\\dehaeth\\Documents\\Tools\\Datasets\\notMNIST\\notMNIST_large\\C.pickle.\n",
      "C:\\Users\\dehaeth\\Documents\\Tools\\Datasets\\notMNIST\\notMNIST_large\\C\n",
      "Full dataset tensor: (52912, 28, 28)\n",
      "Mean: -0.142258\n",
      "Standard deviation: 0.439806\n",
      "Pickling C:\\Users\\dehaeth\\Documents\\Tools\\Datasets\\notMNIST\\notMNIST_large\\D.pickle.\n",
      "C:\\Users\\dehaeth\\Documents\\Tools\\Datasets\\notMNIST\\notMNIST_large\\D\n",
      "Could not read: C:\\Users\\dehaeth\\Documents\\Tools\\Datasets\\notMNIST\\notMNIST_large\\D\\VHJhbnNpdCBCb2xkLnR0Zg==.png : cannot identify image file 'C:\\\\Users\\\\dehaeth\\\\Documents\\\\Tools\\\\Datasets\\\\notMNIST\\\\notMNIST_large\\\\D\\\\VHJhbnNpdCBCb2xkLnR0Zg==.png' - it's ok, skipping.\n",
      "Full dataset tensor: (52911, 28, 28)\n",
      "Mean: -0.0573678\n",
      "Standard deviation: 0.455648\n",
      "Pickling C:\\Users\\dehaeth\\Documents\\Tools\\Datasets\\notMNIST\\notMNIST_large\\E.pickle.\n",
      "C:\\Users\\dehaeth\\Documents\\Tools\\Datasets\\notMNIST\\notMNIST_large\\E\n",
      "Full dataset tensor: (52912, 28, 28)\n",
      "Mean: -0.069899\n",
      "Standard deviation: 0.452942\n",
      "Pickling C:\\Users\\dehaeth\\Documents\\Tools\\Datasets\\notMNIST\\notMNIST_large\\F.pickle.\n",
      "C:\\Users\\dehaeth\\Documents\\Tools\\Datasets\\notMNIST\\notMNIST_large\\F\n",
      "Full dataset tensor: (52912, 28, 28)\n",
      "Mean: -0.125583\n",
      "Standard deviation: 0.44709\n",
      "Pickling C:\\Users\\dehaeth\\Documents\\Tools\\Datasets\\notMNIST\\notMNIST_large\\G.pickle.\n",
      "C:\\Users\\dehaeth\\Documents\\Tools\\Datasets\\notMNIST\\notMNIST_large\\G\n",
      "Full dataset tensor: (52912, 28, 28)\n",
      "Mean: -0.0945814\n",
      "Standard deviation: 0.44624\n",
      "Pickling C:\\Users\\dehaeth\\Documents\\Tools\\Datasets\\notMNIST\\notMNIST_large\\H.pickle.\n",
      "C:\\Users\\dehaeth\\Documents\\Tools\\Datasets\\notMNIST\\notMNIST_large\\H\n",
      "Full dataset tensor: (52912, 28, 28)\n",
      "Mean: -0.0685221\n",
      "Standard deviation: 0.454232\n",
      "Pickling C:\\Users\\dehaeth\\Documents\\Tools\\Datasets\\notMNIST\\notMNIST_large\\I.pickle.\n",
      "C:\\Users\\dehaeth\\Documents\\Tools\\Datasets\\notMNIST\\notMNIST_large\\I\n",
      "Full dataset tensor: (52912, 28, 28)\n",
      "Mean: 0.0307862\n",
      "Standard deviation: 0.468899\n",
      "Pickling C:\\Users\\dehaeth\\Documents\\Tools\\Datasets\\notMNIST\\notMNIST_large\\J.pickle.\n",
      "C:\\Users\\dehaeth\\Documents\\Tools\\Datasets\\notMNIST\\notMNIST_large\\J\n",
      "Full dataset tensor: (52911, 28, 28)\n",
      "Mean: -0.153358\n",
      "Standard deviation: 0.443656\n",
      "Pickling C:\\Users\\dehaeth\\Documents\\Tools\\Datasets\\notMNIST\\notMNIST_small\\A.pickle.\n",
      "C:\\Users\\dehaeth\\Documents\\Tools\\Datasets\\notMNIST\\notMNIST_small\\A\n",
      "Could not read: C:\\Users\\dehaeth\\Documents\\Tools\\Datasets\\notMNIST\\notMNIST_small\\A\\RGVtb2NyYXRpY2FCb2xkT2xkc3R5bGUgQm9sZC50dGY=.png : cannot identify image file 'C:\\\\Users\\\\dehaeth\\\\Documents\\\\Tools\\\\Datasets\\\\notMNIST\\\\notMNIST_small\\\\A\\\\RGVtb2NyYXRpY2FCb2xkT2xkc3R5bGUgQm9sZC50dGY=.png' - it's ok, skipping.\n",
      "Full dataset tensor: (1872, 28, 28)\n",
      "Mean: -0.132626\n",
      "Standard deviation: 0.445128\n",
      "Pickling C:\\Users\\dehaeth\\Documents\\Tools\\Datasets\\notMNIST\\notMNIST_small\\B.pickle.\n",
      "C:\\Users\\dehaeth\\Documents\\Tools\\Datasets\\notMNIST\\notMNIST_small\\B\n",
      "Full dataset tensor: (1873, 28, 28)\n",
      "Mean: 0.00535609\n",
      "Standard deviation: 0.457115\n",
      "Pickling C:\\Users\\dehaeth\\Documents\\Tools\\Datasets\\notMNIST\\notMNIST_small\\C.pickle.\n",
      "C:\\Users\\dehaeth\\Documents\\Tools\\Datasets\\notMNIST\\notMNIST_small\\C\n",
      "Full dataset tensor: (1873, 28, 28)\n",
      "Mean: -0.141521\n",
      "Standard deviation: 0.44269\n",
      "Pickling C:\\Users\\dehaeth\\Documents\\Tools\\Datasets\\notMNIST\\notMNIST_small\\D.pickle.\n",
      "C:\\Users\\dehaeth\\Documents\\Tools\\Datasets\\notMNIST\\notMNIST_small\\D\n",
      "Full dataset tensor: (1873, 28, 28)\n",
      "Mean: -0.0492167\n",
      "Standard deviation: 0.459759\n",
      "Pickling C:\\Users\\dehaeth\\Documents\\Tools\\Datasets\\notMNIST\\notMNIST_small\\E.pickle.\n",
      "C:\\Users\\dehaeth\\Documents\\Tools\\Datasets\\notMNIST\\notMNIST_small\\E\n",
      "Full dataset tensor: (1873, 28, 28)\n",
      "Mean: -0.0599148\n",
      "Standard deviation: 0.45735\n",
      "Pickling C:\\Users\\dehaeth\\Documents\\Tools\\Datasets\\notMNIST\\notMNIST_small\\F.pickle.\n",
      "C:\\Users\\dehaeth\\Documents\\Tools\\Datasets\\notMNIST\\notMNIST_small\\F\n",
      "Could not read: C:\\Users\\dehaeth\\Documents\\Tools\\Datasets\\notMNIST\\notMNIST_small\\F\\Q3Jvc3NvdmVyIEJvbGRPYmxpcXVlLnR0Zg==.png : cannot identify image file 'C:\\\\Users\\\\dehaeth\\\\Documents\\\\Tools\\\\Datasets\\\\notMNIST\\\\notMNIST_small\\\\F\\\\Q3Jvc3NvdmVyIEJvbGRPYmxpcXVlLnR0Zg==.png' - it's ok, skipping.\n",
      "Full dataset tensor: (1872, 28, 28)\n",
      "Mean: -0.118185\n",
      "Standard deviation: 0.452279\n",
      "Pickling C:\\Users\\dehaeth\\Documents\\Tools\\Datasets\\notMNIST\\notMNIST_small\\G.pickle.\n",
      "C:\\Users\\dehaeth\\Documents\\Tools\\Datasets\\notMNIST\\notMNIST_small\\G\n",
      "Full dataset tensor: (1872, 28, 28)\n",
      "Mean: -0.0925503\n",
      "Standard deviation: 0.449006\n",
      "Pickling C:\\Users\\dehaeth\\Documents\\Tools\\Datasets\\notMNIST\\notMNIST_small\\H.pickle.\n",
      "C:\\Users\\dehaeth\\Documents\\Tools\\Datasets\\notMNIST\\notMNIST_small\\H\n",
      "Full dataset tensor: (1872, 28, 28)\n",
      "Mean: -0.0586893\n",
      "Standard deviation: 0.458759\n",
      "Pickling C:\\Users\\dehaeth\\Documents\\Tools\\Datasets\\notMNIST\\notMNIST_small\\I.pickle.\n",
      "C:\\Users\\dehaeth\\Documents\\Tools\\Datasets\\notMNIST\\notMNIST_small\\I\n",
      "Full dataset tensor: (1872, 28, 28)\n",
      "Mean: 0.0526451\n",
      "Standard deviation: 0.471894\n",
      "Pickling C:\\Users\\dehaeth\\Documents\\Tools\\Datasets\\notMNIST\\notMNIST_small\\J.pickle.\n",
      "C:\\Users\\dehaeth\\Documents\\Tools\\Datasets\\notMNIST\\notMNIST_small\\J\n",
      "Full dataset tensor: (1872, 28, 28)\n",
      "Mean: -0.151689\n",
      "Standard deviation: 0.448014\n"
     ]
    }
   ],
   "source": [
    "image_size = 28  # Pixel width and height.\n",
    "pixel_depth = 255.0  # Number of levels per pixel.\n",
    "\n",
    "def load_letter(folder, min_num_images):\n",
    "  \"\"\"Load the data for a single letter label.\"\"\"\n",
    "  image_files = os.listdir(folder)\n",
    "  dataset = np.ndarray(shape=(len(image_files), image_size, image_size),\n",
    "                         dtype=np.float32)\n",
    "  print(folder)\n",
    "  num_images = 0\n",
    "  for image in image_files:\n",
    "    image_file = os.path.join(folder, image)\n",
    "    try:\n",
    "      image_data = (ndimage.imread(image_file).astype(float) - \n",
    "                    pixel_depth / 2) / pixel_depth\n",
    "      if image_data.shape != (image_size, image_size):\n",
    "        raise Exception('Unexpected image shape: %s' % str(image_data.shape))\n",
    "      dataset[num_images, :, :] = image_data\n",
    "      num_images = num_images + 1\n",
    "    except IOError as e:\n",
    "      print('Could not read:', image_file, ':', e, '- it\\'s ok, skipping.')\n",
    "    \n",
    "  dataset = dataset[0:num_images, :, :]\n",
    "  if num_images < min_num_images:\n",
    "    raise Exception('Many fewer images than expected: %d < %d' %\n",
    "                    (num_images, min_num_images))\n",
    "    \n",
    "  print('Full dataset tensor:', dataset.shape)\n",
    "  print('Mean:', np.mean(dataset))\n",
    "  print('Standard deviation:', np.std(dataset))\n",
    "  return dataset\n",
    "        \n",
    "def maybe_pickle(data_folders, min_num_images_per_class, force=False):\n",
    "  dataset_names = []\n",
    "  for folder in data_folders:\n",
    "    set_filename = folder + '.pickle'\n",
    "    dataset_names.append(set_filename)\n",
    "    if os.path.exists(set_filename) and not force:\n",
    "      # You may override by setting force=True.\n",
    "      print('%s already present - Skipping pickling.' % set_filename)\n",
    "    else:\n",
    "      print('Pickling %s.' % set_filename)\n",
    "      dataset = load_letter(folder, min_num_images_per_class)\n",
    "      try:\n",
    "        with open(set_filename, 'wb') as f:\n",
    "          pickle.dump(dataset, f, pickle.HIGHEST_PROTOCOL)\n",
    "      except Exception as e:\n",
    "        print('Unable to save data to', set_filename, ':', e)\n",
    "  \n",
    "  return dataset_names\n",
    "\n",
    "train_datasets = maybe_pickle(train_folders, 45000)\n",
    "test_datasets = maybe_pickle(test_folders, 1800)"
   ]
  },
  {
   "cell_type": "markdown",
   "metadata": {
    "colab_type": "text",
    "id": "vUdbskYE2d87"
   },
   "source": [
    "---\n",
    "Problem 2\n",
    "---------\n",
    "\n",
    "Let's verify that the data still looks good. Displaying a sample of the labels and images from the ndarray. Hint: you can use matplotlib.pyplot.\n",
    "\n",
    "---"
   ]
  },
  {
   "cell_type": "code",
   "execution_count": 28,
   "metadata": {
    "collapsed": false
   },
   "outputs": [
    {
     "name": "stdout",
     "output_type": "stream",
     "text": [
      "C\n"
     ]
    },
    {
     "data": {
      "image/png": "[encoded data removed]",
      "text/plain": [
       "<matplotlib.figure.Figure at 0x1cf275915c0>"
      ]
     },
     "metadata": {},
     "output_type": "display_data"
    }
   ],
   "source": [
    "import random\n",
    "import numpy as np\n",
    "import matplotlib.pyplot as plt\n",
    "\n",
    "\n",
    "file = random.choice(train_datasets)\n",
    "with open(file, 'rb') as f:\n",
    "    print(file[-8:-7])\n",
    "    dataset = pickle.load(f)\n",
    "    img = random.choice(dataset)\n",
    "    imgplot = plt.imshow(img)\n",
    "    plt.plot()\n"
   ]
  },
  {
   "cell_type": "markdown",
   "metadata": {
    "colab_type": "text",
    "id": "cYznx5jUwzoO"
   },
   "source": [
    "---\n",
    "Problem 3\n",
    "---------\n",
    "Another check: we expect the data to be balanced across classes. Verify that.\n",
    "\n",
    "---"
   ]
  },
  {
   "cell_type": "code",
   "execution_count": 40,
   "metadata": {
    "collapsed": false
   },
   "outputs": [
    {
     "data": {
      "image/png": "[encoded data removed]",
      "text/plain": [
       "<matplotlib.figure.Figure at 0x1cf275e09e8>"
      ]
     },
     "metadata": {},
     "output_type": "display_data"
    }
   ],
   "source": [
    "samples = []\n",
    "letters = []\n",
    "\n",
    "for file in train_datasets:\n",
    "    with open(file,'rb') as f:\n",
    "        letters.append(file[-8:-7])\n",
    "        dataset = pickle.load(f)\n",
    "        samples.append(dataset.shape[0])\n",
    "        \n",
    "x = range(len(samples))\n",
    "\n",
    "plt.bar(x,samples)\n",
    "\n",
    "plt.xlabel('Group')\n",
    "plt.ylabel('Scores')\n",
    "plt.title('Scores by group and gender')\n",
    "axes = plt.gca()\n",
    "axes.set_ylim([52750,53000])\n",
    "plt.show()"
   ]
  },
  {
   "cell_type": "markdown",
   "metadata": {
    "colab_type": "text",
    "id": "LA7M7K22ynCt"
   },
   "source": [
    "Merge and prune the training data as needed. Depending on your computer setup, you might not be able to fit it all in memory, and you can tune `train_size` as needed. The labels will be stored into a separate array of integers 0 through 9.\n",
    "\n",
    "Also create a validation dataset for hyperparameter tuning."
   ]
  },
  {
   "cell_type": "code",
   "execution_count": 41,
   "metadata": {
    "cellView": "both",
    "colab": {
     "autoexec": {
      "startup": false,
      "wait_interval": 0
     },
     "output_extras": [
      {
       "item_id": 1
      }
     ]
    },
    "colab_type": "code",
    "collapsed": false,
    "executionInfo": {
     "elapsed": 411281,
     "status": "ok",
     "timestamp": 1444485897869,
     "user": {
      "color": "#1FA15D",
      "displayName": "Vincent Vanhoucke",
      "isAnonymous": false,
      "isMe": true,
      "permissionId": "05076109866853157986",
      "photoUrl": "//lh6.googleusercontent.com/-cCJa7dTDcgQ/AAAAAAAAAAI/AAAAAAAACgw/r2EZ_8oYer4/s50-c-k-no/photo.jpg",
      "sessionId": "2a0a5e044bb03b66",
      "userId": "102167687554210253930"
     },
     "user_tz": 420
    },
    "id": "s3mWgZLpyuzq",
    "outputId": "8af66da6-902d-4719-bedc-7c9fb7ae7948"
   },
   "outputs": [
    {
     "name": "stdout",
     "output_type": "stream",
     "text": [
      "Training: (200000, 28, 28) (200000,)\n",
      "Validation: (10000, 28, 28) (10000,)\n",
      "Testing: (10000, 28, 28) (10000,)\n"
     ]
    }
   ],
   "source": [
    "def make_arrays(nb_rows, img_size):\n",
    "  if nb_rows:\n",
    "    dataset = np.ndarray((nb_rows, img_size, img_size), dtype=np.float32)\n",
    "    labels = np.ndarray(nb_rows, dtype=np.int32)\n",
    "  else:\n",
    "    dataset, labels = None, None\n",
    "  return dataset, labels\n",
    "\n",
    "def merge_datasets(pickle_files, train_size, valid_size=0):\n",
    "  num_classes = len(pickle_files)\n",
    "  valid_dataset, valid_labels = make_arrays(valid_size, image_size)\n",
    "  train_dataset, train_labels = make_arrays(train_size, image_size)\n",
    "  vsize_per_class = valid_size // num_classes\n",
    "  tsize_per_class = train_size // num_classes\n",
    "    \n",
    "  start_v, start_t = 0, 0\n",
    "  end_v, end_t = vsize_per_class, tsize_per_class\n",
    "  end_l = vsize_per_class+tsize_per_class\n",
    "  for label, pickle_file in enumerate(pickle_files):       \n",
    "    try:\n",
    "      with open(pickle_file, 'rb') as f:\n",
    "        letter_set = pickle.load(f)\n",
    "        # let's shuffle the letters to have random validation and training set\n",
    "        np.random.shuffle(letter_set)\n",
    "        if valid_dataset is not None:\n",
    "          valid_letter = letter_set[:vsize_per_class, :, :]\n",
    "          valid_dataset[start_v:end_v, :, :] = valid_letter\n",
    "          valid_labels[start_v:end_v] = label\n",
    "          start_v += vsize_per_class\n",
    "          end_v += vsize_per_class\n",
    "                    \n",
    "        train_letter = letter_set[vsize_per_class:end_l, :, :]\n",
    "        train_dataset[start_t:end_t, :, :] = train_letter\n",
    "        train_labels[start_t:end_t] = label\n",
    "        start_t += tsize_per_class\n",
    "        end_t += tsize_per_class\n",
    "    except Exception as e:\n",
    "      print('Unable to process data from', pickle_file, ':', e)\n",
    "      raise\n",
    "    \n",
    "  return valid_dataset, valid_labels, train_dataset, train_labels\n",
    "            \n",
    "            \n",
    "train_size = 200000\n",
    "valid_size = 10000\n",
    "test_size = 10000\n",
    "\n",
    "valid_dataset, valid_labels, train_dataset, train_labels = merge_datasets(\n",
    "  train_datasets, train_size, valid_size)\n",
    "_, _, test_dataset, test_labels = merge_datasets(test_datasets, test_size)\n",
    "\n",
    "print('Training:', train_dataset.shape, train_labels.shape)\n",
    "print('Validation:', valid_dataset.shape, valid_labels.shape)\n",
    "print('Testing:', test_dataset.shape, test_labels.shape)"
   ]
  },
  {
   "cell_type": "markdown",
   "metadata": {
    "colab_type": "text",
    "id": "GPTCnjIcyuKN"
   },
   "source": [
    "Next, we'll randomize the data. It's important to have the labels well shuffled for the training and test distributions to match."
   ]
  },
  {
   "cell_type": "code",
   "execution_count": 42,
   "metadata": {
    "cellView": "both",
    "colab": {
     "autoexec": {
      "startup": false,
      "wait_interval": 0
     }
    },
    "colab_type": "code",
    "collapsed": true,
    "id": "6WZ2l2tN2zOL"
   },
   "outputs": [],
   "source": [
    "def randomize(dataset, labels):\n",
    "  permutation = np.random.permutation(labels.shape[0])\n",
    "  shuffled_dataset = dataset[permutation,:,:]\n",
    "  shuffled_labels = labels[permutation]\n",
    "  return shuffled_dataset, shuffled_labels\n",
    "train_dataset, train_labels = randomize(train_dataset, train_labels)\n",
    "test_dataset, test_labels = randomize(test_dataset, test_labels)\n",
    "valid_dataset, valid_labels = randomize(valid_dataset, valid_labels)"
   ]
  },
  {
   "cell_type": "markdown",
   "metadata": {
    "colab_type": "text",
    "id": "puDUTe6t6USl"
   },
   "source": [
    "---\n",
    "Problem 4\n",
    "---------\n",
    "Convince yourself that the data is still good after shuffling!\n",
    "\n",
    "---"
   ]
  },
  {
   "cell_type": "markdown",
   "metadata": {
    "colab_type": "text",
    "id": "tIQJaJuwg5Hw"
   },
   "source": [
    "Finally, let's save the data for later reuse:"
   ]
  },
  {
   "cell_type": "code",
   "execution_count": 43,
   "metadata": {
    "cellView": "both",
    "colab": {
     "autoexec": {
      "startup": false,
      "wait_interval": 0
     }
    },
    "colab_type": "code",
    "collapsed": true,
    "id": "QiR_rETzem6C"
   },
   "outputs": [],
   "source": [
    "pickle_file = os.path.join(data_root, 'notMNIST.pickle')\n",
    "\n",
    "try:\n",
    "  f = open(pickle_file, 'wb')\n",
    "  save = {\n",
    "    'train_dataset': train_dataset,\n",
    "    'train_labels': train_labels,\n",
    "    'valid_dataset': valid_dataset,\n",
    "    'valid_labels': valid_labels,\n",
    "    'test_dataset': test_dataset,\n",
    "    'test_labels': test_labels,\n",
    "    }\n",
    "  pickle.dump(save, f, pickle.HIGHEST_PROTOCOL)\n",
    "  f.close()\n",
    "except Exception as e:\n",
    "  print('Unable to save data to', pickle_file, ':', e)\n",
    "  raise"
   ]
  },
  {
   "cell_type": "code",
   "execution_count": 44,
   "metadata": {
    "cellView": "both",
    "colab": {
     "autoexec": {
      "startup": false,
      "wait_interval": 0
     },
     "output_extras": [
      {
       "item_id": 1
      }
     ]
    },
    "colab_type": "code",
    "collapsed": false,
    "executionInfo": {
     "elapsed": 413065,
     "status": "ok",
     "timestamp": 1444485899688,
     "user": {
      "color": "#1FA15D",
      "displayName": "Vincent Vanhoucke",
      "isAnonymous": false,
      "isMe": true,
      "permissionId": "05076109866853157986",
      "photoUrl": "//lh6.googleusercontent.com/-cCJa7dTDcgQ/AAAAAAAAAAI/AAAAAAAACgw/r2EZ_8oYer4/s50-c-k-no/photo.jpg",
      "sessionId": "2a0a5e044bb03b66",
      "userId": "102167687554210253930"
     },
     "user_tz": 420
    },
    "id": "hQbLjrW_iT39",
    "outputId": "b440efc6-5ee1-4cbc-d02d-93db44ebd956"
   },
   "outputs": [
    {
     "name": "stdout",
     "output_type": "stream",
     "text": [
      "Compressed pickle size: 690800506\n"
     ]
    }
   ],
   "source": [
    "statinfo = os.stat(pickle_file)\n",
    "print('Compressed pickle size:', statinfo.st_size)"
   ]
  },
  {
   "cell_type": "markdown",
   "metadata": {
    "colab_type": "text",
    "id": "gE_cRAQB33lk"
   },
   "source": [
    "---\n",
    "Problem 5\n",
    "---------\n",
    "\n",
    "By construction, this dataset might contain a lot of overlapping samples, including training data that's also contained in the validation and test set! Overlap between training and test can skew the results if you expect to use your model in an environment where there is never an overlap, but are actually ok if you expect to see training samples recur when you use it.\n",
    "Measure how much overlap there is between training, validation and test samples.\n",
    "\n",
    "Optional questions:\n",
    "- What about near duplicates between datasets? (images that are almost identical)\n",
    "- Create a sanitized validation and test set, and compare your accuracy on those in subsequent assignments.\n",
    "---"
   ]
  },
  {
   "cell_type": "markdown",
   "metadata": {
    "colab_type": "text",
    "id": "L8oww1s4JMQx"
   },
   "source": [
    "---\n",
    "Problem 6\n",
    "---------\n",
    "\n",
    "Let's get an idea of what an off-the-shelf classifier can give you on this data. It's always good to check that there is something to learn, and that it's a problem that is not so trivial that a canned solution solves it.\n",
    "\n",
    "Train a simple model on this data using 50, 100, 1000 and 5000 training samples. Hint: you can use the LogisticRegression model from sklearn.linear_model.\n",
    "\n",
    "Optional question: train an off-the-shelf model on all the data!\n",
    "\n",
    "---"
   ]
  },
  {
   "cell_type": "markdown",
   "metadata": {},
   "source": [
    "#### Re-fetch the data (had to interrupt the kernel)"
   ]
  },
  {
   "cell_type": "code",
   "execution_count": 4,
   "metadata": {
    "collapsed": false
   },
   "outputs": [],
   "source": [
    "import pickle\n",
    "import os\n",
    "data_root = r'C:\\Users\\dehaeth\\Documents\\Tools\\Datasets\\notMNIST'\n",
    "\n",
    "with open(os.path.join(data_root,'notMNIST.pickle'),'rb') as f:\n",
    "    datasets = pickle.load(f)\n",
    "    train_dataset = datasets[\"train_dataset\"]\n",
    "    train_labels = datasets[\"train_labels\"]\n",
    "    valid_dataset = datasets[\"valid_dataset\"]\n",
    "    valid_labels = datasets[\"valid_labels\"]\n",
    "    test_dataset = datasets[\"test_dataset\"]\n",
    "    test_labels = datasets[\"test_labels\"]"
   ]
  },
  {
   "cell_type": "markdown",
   "metadata": {},
   "source": [
    "#### Reshape the data:"
   ]
  },
  {
   "cell_type": "code",
   "execution_count": 9,
   "metadata": {
    "collapsed": false
   },
   "outputs": [],
   "source": [
    "def get_sampled_data(x,y,sample_size):\n",
    "    X_sampled = x[:sample_size].reshape(sample_size, 28 * 28)\n",
    "    y_sampled = y[:sample_size]\n",
    "    \n",
    "    return X_sampled,y_sampled"
   ]
  },
  {
   "cell_type": "markdown",
   "metadata": {},
   "source": [
    "Import the model"
   ]
  },
  {
   "cell_type": "code",
   "execution_count": 11,
   "metadata": {
    "collapsed": false
   },
   "outputs": [],
   "source": [
    "from sklearn.linear_model import LogisticRegression\n",
    "from sklearn.metrics import accuracy_score\n",
    "lr = LogisticRegression(solver=\"sag\")\n",
    "\n",
    "X_test = test_dataset.reshape(test_dataset.shape[0], 28 * 28)\n",
    "y_test = test_labels"
   ]
  },
  {
   "cell_type": "markdown",
   "metadata": {},
   "source": [
    "Let's try 1000 samples"
   ]
  },
  {
   "cell_type": "code",
   "execution_count": 23,
   "metadata": {
    "collapsed": false
   },
   "outputs": [
    {
     "name": "stderr",
     "output_type": "stream",
     "text": [
      "C:\\ProgramData\\Anaconda3\\lib\\site-packages\\sklearn\\linear_model\\sag.py:286: ConvergenceWarning: The max_iter was reached which means the coef_ did not converge\n",
      "  \"the coef_ did not converge\", ConvergenceWarning)\n"
     ]
    },
    {
     "name": "stdout",
     "output_type": "stream",
     "text": [
      "Wall time: 676 ms\n",
      "0.7065\n",
      "LogisticRegression(C=1.0, class_weight=None, dual=False, fit_intercept=True,\n",
      "          intercept_scaling=1, max_iter=100, multi_class='ovr', n_jobs=1,\n",
      "          penalty='l2', random_state=None, solver='sag', tol=0.0001,\n",
      "          verbose=0, warm_start=False)\n"
     ]
    }
   ],
   "source": [
    "X_train, y_train = get_sampled_data(train_dataset,train_labels,100)\n",
    "%time lr.fit(X_train,y_train)\n",
    "y_predict = lr.predict(X_test)\n",
    "print(accuracy_score(y_predict,y_test))\n",
    "print(x)"
   ]
  },
  {
   "cell_type": "markdown",
   "metadata": {},
   "source": [
    "Now with 2500 samples"
   ]
  },
  {
   "cell_type": "code",
   "execution_count": 19,
   "metadata": {
    "collapsed": false
   },
   "outputs": [
    {
     "name": "stderr",
     "output_type": "stream",
     "text": [
      "C:\\ProgramData\\Anaconda3\\lib\\site-packages\\sklearn\\linear_model\\sag.py:286: ConvergenceWarning: The max_iter was reached which means the coef_ did not converge\n",
      "  \"the coef_ did not converge\", ConvergenceWarning)\n"
     ]
    },
    {
     "name": "stdout",
     "output_type": "stream",
     "text": [
      "Wall time: 17.6 s\n",
      "0.8445\n"
     ]
    }
   ],
   "source": [
    "X_train, y_train = get_sampled_data(train_dataset,train_labels,2500)\n",
    "%time lr.fit(X_train,y_train)\n",
    "y_predict = lr.predict(X_test)\n",
    "print(accuracy_score(y_predict,y_test))"
   ]
  },
  {
   "cell_type": "markdown",
   "metadata": {},
   "source": [
    "There is a slight improvement, let's do it for a set, and log the time and accuracy:"
   ]
  },
  {
   "cell_type": "code",
   "execution_count": 29,
   "metadata": {
    "collapsed": false
   },
   "outputs": [
    {
     "name": "stderr",
     "output_type": "stream",
     "text": [
      "C:\\ProgramData\\Anaconda3\\lib\\site-packages\\sklearn\\linear_model\\sag.py:286: ConvergenceWarning: The max_iter was reached which means the coef_ did not converge\n",
      "  \"the coef_ did not converge\", ConvergenceWarning)\n"
     ]
    },
    {
     "name": "stdout",
     "output_type": "stream",
     "text": [
      "obtained a score of  0.8369  in time  7.098422135900137\n",
      "obtained a score of  0.843  in time  14.462981385667263\n",
      "obtained a score of  0.8456  in time  22.581832099039275\n",
      "obtained a score of  0.8484  in time  29.72390587370387\n",
      "obtained a score of  0.8512  in time  38.15591235903594\n",
      "obtained a score of  0.8528  in time  44.86960886707993\n",
      "obtained a score of  0.8559  in time  52.71195155109717\n",
      "obtained a score of  0.8541  in time  60.858127524443944\n",
      "obtained a score of  0.8567  in time  68.15456270686036\n",
      "obtained a score of  0.8608  in time  75.41362846019297\n",
      "obtained a score of  0.8622  in time  82.39471400210368\n",
      "obtained a score of  0.8664  in time  90.70851342066953\n",
      "obtained a score of  0.8671  in time  97.41463969647566\n",
      "obtained a score of  0.8679  in time  105.5497850621473\n",
      "obtained a score of  0.8695  in time  113.76264209456076\n",
      "obtained a score of  0.8717  in time  121.48796435547092\n",
      "obtained a score of  0.8721  in time  128.7404554319396\n",
      "obtained a score of  0.874  in time  140.20710760896054\n",
      "obtained a score of  0.8736  in time  143.413017998766\n",
      "obtained a score of  0.8755  in time  152.04149533146528\n",
      "obtained a score of  0.876  in time  159.33706915791345\n",
      "obtained a score of  0.8753  in time  166.31158512837192\n",
      "obtained a score of  0.8769  in time  173.79476315992906\n",
      "obtained a score of  0.876  in time  180.35693322266752\n",
      "obtained a score of  0.8769  in time  192.62535901987758\n",
      "obtained a score of  0.8776  in time  194.4478719183371\n",
      "obtained a score of  0.8757  in time  202.62896526423447\n",
      "obtained a score of  0.8791  in time  210.25977905234777\n",
      "obtained a score of  0.8785  in time  219.1315814233012\n",
      "obtained a score of  0.8796  in time  225.02073745490816\n",
      "obtained a score of  0.8804  in time  230.5506927314973\n",
      "obtained a score of  0.8811  in time  239.92465615048968\n",
      "obtained a score of  0.8813  in time  237.98315432785785\n",
      "obtained a score of  0.8816  in time  249.77856733382214\n",
      "obtained a score of  0.8815  in time  257.57086056827575\n",
      "obtained a score of  0.8814  in time  267.6507701149594\n",
      "obtained a score of  0.8809  in time  273.8265779005669\n",
      "obtained a score of  0.8804  in time  281.67641897637986\n",
      "obtained a score of  0.8807  in time  277.18774423927243\n",
      "obtained a score of  0.8815  in time  279.75580011290185\n",
      "obtained a score of  0.8822  in time  286.36271072588715\n",
      "obtained a score of  0.8831  in time  297.9462735596535\n",
      "obtained a score of  0.8841  in time  302.7516457660822\n",
      "obtained a score of  0.8838  in time  309.75014039883536\n",
      "obtained a score of  0.8839  in time  314.6232355330849\n",
      "obtained a score of  0.8849  in time  321.6045344082904\n",
      "obtained a score of  0.8844  in time  331.2985721620844\n",
      "obtained a score of  0.8859  in time  338.5129199748535\n",
      "obtained a score of  0.8855  in time  349.0078776509854\n",
      "obtained a score of  0.8851  in time  351.422524276235\n"
     ]
    }
   ],
   "source": [
    "import timeit\n",
    "times  = []\n",
    "scores = []\n",
    "\n",
    "for sample in [x*1000 for x in range(1,51)]:\n",
    "    X_train, y_train = get_sampled_data(train_dataset,train_labels,sample)\n",
    "    start_time = timeit.default_timer()\n",
    "    lr.fit(X_train,y_train)\n",
    "    elapsed = timeit.default_timer() - start_time\n",
    "    y_predict = lr.predict(X_test)\n",
    "    score = accuracy_score(y_predict,y_test)\n",
    "    print(\"obtained a score of \",str(score),\" in time \", str(elapsed))\n",
    "    times.append(elapsed)\n",
    "    scores.append(score)"
   ]
  },
  {
   "cell_type": "markdown",
   "metadata": {},
   "source": [
    "Visualize the improvement:"
   ]
  },
  {
   "cell_type": "code",
   "execution_count": 31,
   "metadata": {
    "collapsed": false
   },
   "outputs": [
    {
     "data": {
      "image/png": "[encoded data removed]",
      "text/plain": [
       "<matplotlib.figure.Figure at 0x2c20042f240>"
      ]
     },
     "metadata": {},
     "output_type": "display_data"
    }
   ],
   "source": [
    "import numpy as np\n",
    "import matplotlib.pyplot as plt\n",
    "\n",
    "fig, ax1 = plt.subplots()\n",
    "t = [x*1000 for x in range(1,51)]\n",
    "s1 = scores\n",
    "ax1.plot(t, s1, 'b-')\n",
    "ax1.set_xlabel('samples')\n",
    "# Make the y-axis label, ticks and tick labels match the line color.\n",
    "ax1.set_ylabel('score', color='b')\n",
    "ax1.tick_params('samples', colors='b')\n",
    "\n",
    "ax2 = ax1.twinx()\n",
    "s2 = times\n",
    "ax2.plot(t, s2, 'r.')\n",
    "ax2.set_ylabel('time', color='r')\n",
    "ax2.tick_params('samples', colors='r')\n",
    "\n",
    "fig.tight_layout()\n",
    "plt.show()"
   ]
  },
  {
   "cell_type": "markdown",
   "metadata": {},
   "source": [
    "So we clearly see that the time evolves linearly (cool), and that the marginal gain of extra samples decreases, which is to be expected of course. \n",
    "\n",
    "Now for a full training on the entire dataaset:"
   ]
  },
  {
   "cell_type": "code",
   "execution_count": 34,
   "metadata": {
    "collapsed": false
   },
   "outputs": [
    {
     "name": "stdout",
     "output_type": "stream",
     "text": [
      "Wall time: 16min 33s\n",
      "0.8932\n"
     ]
    }
   ],
   "source": [
    "X_train, y_train = get_sampled_data(train_dataset,train_labels,train_dataset.shape[0])\n",
    "%time lr.fit(X_train,y_train)\n",
    "y_predict = lr.predict(X_test)\n",
    "print(accuracy_score(y_predict,y_test))"
   ]
  },
  {
   "cell_type": "code",
   "execution_count": null,
   "metadata": {
    "collapsed": true
   },
   "outputs": [],
   "source": []
  }
 ],
 "metadata": {
  "colab": {
   "default_view": {},
   "name": "1_notmnist.ipynb",
   "provenance": [],
   "version": "0.3.2",
   "views": {}
  },
  "kernelspec": {
   "display_name": "Python 3",
   "language": "python",
   "name": "python3"
  },
  "language_info": {
   "codemirror_mode": {
    "name": "ipython",
    "version": 3
   },
   "file_extension": ".py",
   "mimetype": "text/x-python",
   "name": "python",
   "nbconvert_exporter": "python",
   "pygments_lexer": "ipython3",
   "version": "3.6.0"
  }
 },
 "nbformat": 4,
 "nbformat_minor": 0
}
