{
 "cells": [
  {
   "cell_type": "markdown",
   "metadata": {},
   "source": [
    "# My first Keras model"
   ]
  },
  {
   "cell_type": "markdown",
   "metadata": {},
   "source": [
    "### Imports"
   ]
  },
  {
   "cell_type": "code",
   "execution_count": 7,
   "metadata": {
    "collapsed": false
   },
   "outputs": [],
   "source": [
    "from keras.models import Sequential\n",
    "from keras.layers import Dense, Dropout\n",
    "from keras import optimizers\n",
    "from keras import losses\n",
    "from keras import metrics\n",
    "import numpy\n",
    "numpy.random.seed(7)"
   ]
  },
  {
   "cell_type": "markdown",
   "metadata": {},
   "source": [
    "### Import data"
   ]
  },
  {
   "cell_type": "code",
   "execution_count": 2,
   "metadata": {
    "collapsed": false
   },
   "outputs": [],
   "source": [
    "dataset = numpy.loadtxt(\"pima-indians-diabetes.data.csv\",delimiter=\",\")\n",
    "x_data = dataset[:,0:8]\n",
    "y_data = dataset[:,8].astype('float32')"
   ]
  },
  {
   "cell_type": "code",
   "execution_count": null,
   "metadata": {
    "collapsed": false
   },
   "outputs": [],
   "source": [
    "print(y_data.shape)"
   ]
  },
  {
   "cell_type": "markdown",
   "metadata": {},
   "source": [
    "### Create model"
   ]
  },
  {
   "cell_type": "code",
   "execution_count": null,
   "metadata": {
    "collapsed": true
   },
   "outputs": [],
   "source": [
    "model = Sequential()\n",
    "model.add(Dense(12, input_dim = 8, activation= 'relu'))\n",
    "model.add(Dense(8, activation = 'relu'))\n",
    "model.add(Dense(1,activation='sigmoid'))"
   ]
  },
  {
   "cell_type": "markdown",
   "metadata": {},
   "source": [
    "### Optimizer and loss function"
   ]
  },
  {
   "cell_type": "code",
   "execution_count": null,
   "metadata": {
    "collapsed": true
   },
   "outputs": [],
   "source": [
    "optimizer_adam = optimizers.Adam(lr=0.001, beta_1=0.9, beta_2=0.999, epsilon=1e-08, decay=0.0)\n",
    "optimizer_sgd = optimizers.SGD(lr=0.01, decay=1e-6, momentum=0.9, nesterov=True)"
   ]
  },
  {
   "cell_type": "code",
   "execution_count": null,
   "metadata": {
    "collapsed": false
   },
   "outputs": [],
   "source": [
    "loss = losses.binary_crossentropy"
   ]
  },
  {
   "cell_type": "markdown",
   "metadata": {},
   "source": [
    "### Compile model"
   ]
  },
  {
   "cell_type": "code",
   "execution_count": null,
   "metadata": {
    "collapsed": true
   },
   "outputs": [],
   "source": [
    "model.compile(loss='binary_crossentropy', optimizer=\"sgd\",metrics=['accuracy'])"
   ]
  },
  {
   "cell_type": "markdown",
   "metadata": {},
   "source": [
    "### Fit"
   ]
  },
  {
   "cell_type": "code",
   "execution_count": null,
   "metadata": {
    "collapsed": false
   },
   "outputs": [],
   "source": [
    "model.fit(x_data,y_data, epochs=200,batch_size=10,verbose=0)"
   ]
  },
  {
   "cell_type": "markdown",
   "metadata": {},
   "source": [
    "### Predict"
   ]
  },
  {
   "cell_type": "code",
   "execution_count": null,
   "metadata": {
    "collapsed": false
   },
   "outputs": [],
   "source": [
    "y_predict = model.predict(x_data).astype('float32')"
   ]
  },
  {
   "cell_type": "markdown",
   "metadata": {},
   "source": [
    "### Evaluate"
   ]
  },
  {
   "cell_type": "code",
   "execution_count": null,
   "metadata": {
    "collapsed": false
   },
   "outputs": [],
   "source": [
    "accuracy = model.evaluate(x_data, y_data,verbose=0)\n",
    "print(accuracy[1])"
   ]
  },
  {
   "cell_type": "markdown",
   "metadata": {},
   "source": [
    "### Hyperparameter tuning"
   ]
  },
  {
   "cell_type": "code",
   "execution_count": 4,
   "metadata": {
    "collapsed": true
   },
   "outputs": [],
   "source": [
    "def create_model(init_mode = 'uniform',optimizer = 'adam',loss='binary_crossentropy'):\n",
    "    model = Sequential()\n",
    "    model.add(Dense(12, input_dim = 8, activation= 'relu'))\n",
    "    model.add(Dense(8, activation = 'relu'))\n",
    "    model.add(Dense(1,activation='sigmoid'))\n",
    "    model.compile(loss=loss, optimizer=optimizer,metrics=['accuracy'])\n",
    "    return model"
   ]
  },
  {
   "cell_type": "code",
   "execution_count": 5,
   "metadata": {
    "collapsed": false,
    "scrolled": true
   },
   "outputs": [
    {
     "name": "stdout",
     "output_type": "stream",
     "text": [
      "Fitting 3 folds for each of 60 candidates, totalling 180 fits\n",
      "[CV] batch_size=10, epochs=200, init_mode=uniform, loss=squared_hinge, optimizer=SGD \n",
      "[CV]  batch_size=10, epochs=200, init_mode=uniform, loss=squared_hinge, optimizer=SGD, score=0.6171875018626451, total=   9.0s\n",
      "[CV] batch_size=10, epochs=200, init_mode=uniform, loss=squared_hinge, optimizer=SGD \n"
     ]
    },
    {
     "name": "stderr",
     "output_type": "stream",
     "text": [
      "[Parallel(n_jobs=1)]: Done   1 out of   1 | elapsed:    9.0s remaining:    0.0s\n"
     ]
    },
    {
     "name": "stdout",
     "output_type": "stream",
     "text": [
      "[CV]  batch_size=10, epochs=200, init_mode=uniform, loss=squared_hinge, optimizer=SGD, score=0.3398437548894435, total=   9.2s\n",
      "[CV] batch_size=10, epochs=200, init_mode=uniform, loss=squared_hinge, optimizer=SGD \n"
     ]
    },
    {
     "name": "stderr",
     "output_type": "stream",
     "text": [
      "[Parallel(n_jobs=1)]: Done   2 out of   2 | elapsed:   18.3s remaining:    0.0s\n"
     ]
    },
    {
     "name": "stdout",
     "output_type": "stream",
     "text": [
      "[CV]  batch_size=10, epochs=200, init_mode=uniform, loss=squared_hinge, optimizer=SGD, score=0.32421875692671165, total=   8.9s\n",
      "[CV] batch_size=10, epochs=200, init_mode=uniform, loss=squared_hinge, optimizer=Adagrad \n"
     ]
    },
    {
     "name": "stderr",
     "output_type": "stream",
     "text": [
      "[Parallel(n_jobs=1)]: Done   3 out of   3 | elapsed:   27.3s remaining:    0.0s\n"
     ]
    },
    {
     "name": "stdout",
     "output_type": "stream",
     "text": [
      "[CV]  batch_size=10, epochs=200, init_mode=uniform, loss=squared_hinge, optimizer=Adagrad, score=0.3789062559953891, total=   9.7s\n",
      "[CV] batch_size=10, epochs=200, init_mode=uniform, loss=squared_hinge, optimizer=Adagrad \n"
     ]
    },
    {
     "name": "stderr",
     "output_type": "stream",
     "text": [
      "[Parallel(n_jobs=1)]: Done   4 out of   4 | elapsed:   37.2s remaining:    0.0s\n"
     ]
    },
    {
     "name": "stdout",
     "output_type": "stream",
     "text": [
      "[CV]  batch_size=10, epochs=200, init_mode=uniform, loss=squared_hinge, optimizer=Adagrad, score=0.3398437548894435, total=   9.4s\n",
      "[CV] batch_size=10, epochs=200, init_mode=uniform, loss=squared_hinge, optimizer=Adagrad \n"
     ]
    },
    {
     "name": "stderr",
     "output_type": "stream",
     "text": [
      "[Parallel(n_jobs=1)]: Done   5 out of   5 | elapsed:   46.7s remaining:    0.0s\n"
     ]
    },
    {
     "name": "stdout",
     "output_type": "stream",
     "text": [
      "[CV]  batch_size=10, epochs=200, init_mode=uniform, loss=squared_hinge, optimizer=Adagrad, score=0.32421875692671165, total=   9.8s\n",
      "[CV] batch_size=10, epochs=200, init_mode=uniform, loss=squared_hinge, optimizer=Adadelta \n"
     ]
    },
    {
     "name": "stderr",
     "output_type": "stream",
     "text": [
      "[Parallel(n_jobs=1)]: Done   6 out of   6 | elapsed:   56.6s remaining:    0.0s\n"
     ]
    },
    {
     "name": "stdout",
     "output_type": "stream",
     "text": [
      "[CV]  batch_size=10, epochs=200, init_mode=uniform, loss=squared_hinge, optimizer=Adadelta, score=0.3828125078580342, total=  10.6s\n",
      "[CV] batch_size=10, epochs=200, init_mode=uniform, loss=squared_hinge, optimizer=Adadelta \n"
     ]
    },
    {
     "name": "stderr",
     "output_type": "stream",
     "text": [
      "[Parallel(n_jobs=1)]: Done   7 out of   7 | elapsed:  1.1min remaining:    0.0s\n"
     ]
    },
    {
     "name": "stdout",
     "output_type": "stream",
     "text": [
      "[CV]  batch_size=10, epochs=200, init_mode=uniform, loss=squared_hinge, optimizer=Adadelta, score=0.3398437548894435, total=  10.6s\n",
      "[CV] batch_size=10, epochs=200, init_mode=uniform, loss=squared_hinge, optimizer=Adadelta \n"
     ]
    },
    {
     "name": "stderr",
     "output_type": "stream",
     "text": [
      "[Parallel(n_jobs=1)]: Done   8 out of   8 | elapsed:  1.3min remaining:    0.0s\n"
     ]
    },
    {
     "name": "stdout",
     "output_type": "stream",
     "text": [
      "[CV]  batch_size=10, epochs=200, init_mode=uniform, loss=squared_hinge, optimizer=Adadelta, score=0.6757812534924597, total=  10.0s\n",
      "[CV] batch_size=10, epochs=200, init_mode=uniform, loss=squared_hinge, optimizer=Adam \n"
     ]
    },
    {
     "name": "stderr",
     "output_type": "stream",
     "text": [
      "[Parallel(n_jobs=1)]: Done   9 out of   9 | elapsed:  1.5min remaining:    0.0s\n"
     ]
    },
    {
     "name": "stdout",
     "output_type": "stream",
     "text": [
      "[CV]  batch_size=10, epochs=200, init_mode=uniform, loss=squared_hinge, optimizer=Adam, score=0.3828125078580342, total=  10.0s\n",
      "[CV] batch_size=10, epochs=200, init_mode=uniform, loss=squared_hinge, optimizer=Adam \n",
      "[CV]  batch_size=10, epochs=200, init_mode=uniform, loss=squared_hinge, optimizer=Adam, score=0.3398437548894435, total=  10.1s\n",
      "[CV] batch_size=10, epochs=200, init_mode=uniform, loss=squared_hinge, optimizer=Adam \n",
      "[CV]  batch_size=10, epochs=200, init_mode=uniform, loss=squared_hinge, optimizer=Adam, score=0.32421875692671165, total=  10.3s\n",
      "[CV] batch_size=10, epochs=200, init_mode=uniform, loss=squared_hinge, optimizer=Adamax \n",
      "[CV]  batch_size=10, epochs=200, init_mode=uniform, loss=squared_hinge, optimizer=Adamax, score=0.3828125078580342, total=  10.5s\n",
      "[CV] batch_size=10, epochs=200, init_mode=uniform, loss=squared_hinge, optimizer=Adamax \n",
      "[CV]  batch_size=10, epochs=200, init_mode=uniform, loss=squared_hinge, optimizer=Adamax, score=0.3398437548894435, total=   9.8s\n",
      "[CV] batch_size=10, epochs=200, init_mode=uniform, loss=squared_hinge, optimizer=Adamax \n",
      "[CV]  batch_size=10, epochs=200, init_mode=uniform, loss=squared_hinge, optimizer=Adamax, score=0.32421875692671165, total=   9.9s\n",
      "[CV] batch_size=10, epochs=200, init_mode=uniform, loss=binary_crossentropy, optimizer=SGD \n",
      "[CV]  batch_size=10, epochs=200, init_mode=uniform, loss=binary_crossentropy, optimizer=SGD, score=0.613281253259629, total=  10.9s\n",
      "[CV] batch_size=10, epochs=200, init_mode=uniform, loss=binary_crossentropy, optimizer=SGD \n",
      "[CV]  batch_size=10, epochs=200, init_mode=uniform, loss=binary_crossentropy, optimizer=SGD, score=0.3398437548894435, total=  10.6s\n",
      "[CV] batch_size=10, epochs=200, init_mode=uniform, loss=binary_crossentropy, optimizer=SGD \n",
      "[CV]  batch_size=10, epochs=200, init_mode=uniform, loss=binary_crossentropy, optimizer=SGD, score=0.6757812534924597, total=  11.2s\n",
      "[CV] batch_size=10, epochs=200, init_mode=uniform, loss=binary_crossentropy, optimizer=Adagrad \n",
      "[CV]  batch_size=10, epochs=200, init_mode=uniform, loss=binary_crossentropy, optimizer=Adagrad, score=0.6171875018626451, total=  11.2s\n",
      "[CV] batch_size=10, epochs=200, init_mode=uniform, loss=binary_crossentropy, optimizer=Adagrad \n",
      "[CV]  batch_size=10, epochs=200, init_mode=uniform, loss=binary_crossentropy, optimizer=Adagrad, score=0.7187500004656613, total=  11.6s\n",
      "[CV] batch_size=10, epochs=200, init_mode=uniform, loss=binary_crossentropy, optimizer=Adagrad \n",
      "[CV]  batch_size=10, epochs=200, init_mode=uniform, loss=binary_crossentropy, optimizer=Adagrad, score=0.6835937518626451, total=  11.4s\n",
      "[CV] batch_size=10, epochs=200, init_mode=uniform, loss=binary_crossentropy, optimizer=Adadelta \n",
      "[CV]  batch_size=10, epochs=200, init_mode=uniform, loss=binary_crossentropy, optimizer=Adadelta, score=0.7031250018626451, total=  12.6s\n",
      "[CV] batch_size=10, epochs=200, init_mode=uniform, loss=binary_crossentropy, optimizer=Adadelta \n",
      "[CV]  batch_size=10, epochs=200, init_mode=uniform, loss=binary_crossentropy, optimizer=Adadelta, score=0.6601562504656613, total=  13.3s\n",
      "[CV] batch_size=10, epochs=200, init_mode=uniform, loss=binary_crossentropy, optimizer=Adadelta \n",
      "[CV]  batch_size=10, epochs=200, init_mode=uniform, loss=binary_crossentropy, optimizer=Adadelta, score=0.7109374990686774, total=  12.6s\n",
      "[CV] batch_size=10, epochs=200, init_mode=uniform, loss=binary_crossentropy, optimizer=Adam \n",
      "[CV]  batch_size=10, epochs=200, init_mode=uniform, loss=binary_crossentropy, optimizer=Adam, score=0.7070312527939677, total=  12.4s\n",
      "[CV] batch_size=10, epochs=200, init_mode=uniform, loss=binary_crossentropy, optimizer=Adam \n",
      "[CV]  batch_size=10, epochs=200, init_mode=uniform, loss=binary_crossentropy, optimizer=Adam, score=0.7343749995343387, total=  13.2s\n",
      "[CV] batch_size=10, epochs=200, init_mode=uniform, loss=binary_crossentropy, optimizer=Adam \n",
      "[CV]  batch_size=10, epochs=200, init_mode=uniform, loss=binary_crossentropy, optimizer=Adam, score=0.7656249965075403, total=  13.2s\n",
      "[CV] batch_size=10, epochs=200, init_mode=uniform, loss=binary_crossentropy, optimizer=Adamax \n",
      "[CV]  batch_size=10, epochs=200, init_mode=uniform, loss=binary_crossentropy, optimizer=Adamax, score=0.6914062544237822, total=  12.4s\n",
      "[CV] batch_size=10, epochs=200, init_mode=uniform, loss=binary_crossentropy, optimizer=Adamax \n",
      "[CV]  batch_size=10, epochs=200, init_mode=uniform, loss=binary_crossentropy, optimizer=Adamax, score=0.730468753259629, total=  12.8s\n",
      "[CV] batch_size=10, epochs=200, init_mode=uniform, loss=binary_crossentropy, optimizer=Adamax \n",
      "[CV]  batch_size=10, epochs=200, init_mode=uniform, loss=binary_crossentropy, optimizer=Adamax, score=0.6953125023283064, total=  12.5s\n",
      "[CV] batch_size=10, epochs=200, init_mode=normal, loss=squared_hinge, optimizer=SGD \n",
      "[CV]  batch_size=10, epochs=200, init_mode=normal, loss=squared_hinge, optimizer=SGD, score=0.3828125078580342, total=  11.5s\n",
      "[CV] batch_size=10, epochs=200, init_mode=normal, loss=squared_hinge, optimizer=SGD \n",
      "[CV]  batch_size=10, epochs=200, init_mode=normal, loss=squared_hinge, optimizer=SGD, score=0.33593750454019755, total=  13.0s\n",
      "[CV] batch_size=10, epochs=200, init_mode=normal, loss=squared_hinge, optimizer=SGD \n",
      "[CV]  batch_size=10, epochs=200, init_mode=normal, loss=squared_hinge, optimizer=SGD, score=0.32421875692671165, total=  12.5s\n",
      "[CV] batch_size=10, epochs=200, init_mode=normal, loss=squared_hinge, optimizer=Adagrad \n",
      "[CV]  batch_size=10, epochs=200, init_mode=normal, loss=squared_hinge, optimizer=Adagrad, score=0.3828125078580342, total=  12.2s\n",
      "[CV] batch_size=10, epochs=200, init_mode=normal, loss=squared_hinge, optimizer=Adagrad \n",
      "[CV]  batch_size=10, epochs=200, init_mode=normal, loss=squared_hinge, optimizer=Adagrad, score=0.3398437548894435, total=  11.4s\n",
      "[CV] batch_size=10, epochs=200, init_mode=normal, loss=squared_hinge, optimizer=Adagrad \n",
      "[CV]  batch_size=10, epochs=200, init_mode=normal, loss=squared_hinge, optimizer=Adagrad, score=0.32421875692671165, total=  12.7s\n",
      "[CV] batch_size=10, epochs=200, init_mode=normal, loss=squared_hinge, optimizer=Adadelta \n",
      "[CV]  batch_size=10, epochs=200, init_mode=normal, loss=squared_hinge, optimizer=Adadelta, score=0.39062500855652615, total=  13.0s\n",
      "[CV] batch_size=10, epochs=200, init_mode=normal, loss=squared_hinge, optimizer=Adadelta \n",
      "[CV]  batch_size=10, epochs=200, init_mode=normal, loss=squared_hinge, optimizer=Adadelta, score=0.6601562504656613, total=  13.1s\n",
      "[CV] batch_size=10, epochs=200, init_mode=normal, loss=squared_hinge, optimizer=Adadelta \n",
      "[CV]  batch_size=10, epochs=200, init_mode=normal, loss=squared_hinge, optimizer=Adadelta, score=0.32421875692671165, total=  12.4s\n",
      "[CV] batch_size=10, epochs=200, init_mode=normal, loss=squared_hinge, optimizer=Adam \n",
      "[CV]  batch_size=10, epochs=200, init_mode=normal, loss=squared_hinge, optimizer=Adam, score=0.3828125078580342, total=  12.7s\n",
      "[CV] batch_size=10, epochs=200, init_mode=normal, loss=squared_hinge, optimizer=Adam \n",
      "[CV]  batch_size=10, epochs=200, init_mode=normal, loss=squared_hinge, optimizer=Adam, score=0.3398437548894435, total=  13.2s\n",
      "[CV] batch_size=10, epochs=200, init_mode=normal, loss=squared_hinge, optimizer=Adam \n",
      "[CV]  batch_size=10, epochs=200, init_mode=normal, loss=squared_hinge, optimizer=Adam, score=0.32421875692671165, total=  13.4s\n",
      "[CV] batch_size=10, epochs=200, init_mode=normal, loss=squared_hinge, optimizer=Adamax \n",
      "[CV]  batch_size=10, epochs=200, init_mode=normal, loss=squared_hinge, optimizer=Adamax, score=0.3828125078580342, total=  13.2s\n",
      "[CV] batch_size=10, epochs=200, init_mode=normal, loss=squared_hinge, optimizer=Adamax \n",
      "[CV]  batch_size=10, epochs=200, init_mode=normal, loss=squared_hinge, optimizer=Adamax, score=0.3398437548894435, total=  13.3s\n",
      "[CV] batch_size=10, epochs=200, init_mode=normal, loss=squared_hinge, optimizer=Adamax \n",
      "[CV]  batch_size=10, epochs=200, init_mode=normal, loss=squared_hinge, optimizer=Adamax, score=0.32421875692671165, total=  13.3s\n",
      "[CV] batch_size=10, epochs=200, init_mode=normal, loss=binary_crossentropy, optimizer=SGD \n",
      "[CV]  batch_size=10, epochs=200, init_mode=normal, loss=binary_crossentropy, optimizer=SGD, score=0.3828125078580342, total=  13.4s\n",
      "[CV] batch_size=10, epochs=200, init_mode=normal, loss=binary_crossentropy, optimizer=SGD \n",
      "[CV]  batch_size=10, epochs=200, init_mode=normal, loss=binary_crossentropy, optimizer=SGD, score=0.6601562504656613, total=  14.1s\n",
      "[CV] batch_size=10, epochs=200, init_mode=normal, loss=binary_crossentropy, optimizer=SGD \n",
      "[CV]  batch_size=10, epochs=200, init_mode=normal, loss=binary_crossentropy, optimizer=SGD, score=0.6914062444120646, total=  13.7s\n",
      "[CV] batch_size=10, epochs=200, init_mode=normal, loss=binary_crossentropy, optimizer=Adagrad \n",
      "[CV]  batch_size=10, epochs=200, init_mode=normal, loss=binary_crossentropy, optimizer=Adagrad, score=0.6992187481373549, total=  14.2s\n",
      "[CV] batch_size=10, epochs=200, init_mode=normal, loss=binary_crossentropy, optimizer=Adagrad \n",
      "[CV]  batch_size=10, epochs=200, init_mode=normal, loss=binary_crossentropy, optimizer=Adagrad, score=0.6562500034924597, total=  14.4s\n",
      "[CV] batch_size=10, epochs=200, init_mode=normal, loss=binary_crossentropy, optimizer=Adagrad \n",
      "[CV]  batch_size=10, epochs=200, init_mode=normal, loss=binary_crossentropy, optimizer=Adagrad, score=0.6835937513969839, total=  14.2s\n",
      "[CV] batch_size=10, epochs=200, init_mode=normal, loss=binary_crossentropy, optimizer=Adadelta \n",
      "[CV]  batch_size=10, epochs=200, init_mode=normal, loss=binary_crossentropy, optimizer=Adadelta, score=0.7148437530267984, total=  14.6s\n",
      "[CV] batch_size=10, epochs=200, init_mode=normal, loss=binary_crossentropy, optimizer=Adadelta \n",
      "[CV]  batch_size=10, epochs=200, init_mode=normal, loss=binary_crossentropy, optimizer=Adadelta, score=0.6679687493015081, total=  15.1s\n",
      "[CV] batch_size=10, epochs=200, init_mode=normal, loss=binary_crossentropy, optimizer=Adadelta \n",
      "[CV]  batch_size=10, epochs=200, init_mode=normal, loss=binary_crossentropy, optimizer=Adadelta, score=0.32421875692671165, total=  14.5s\n",
      "[CV] batch_size=10, epochs=200, init_mode=normal, loss=binary_crossentropy, optimizer=Adam \n",
      "[CV]  batch_size=10, epochs=200, init_mode=normal, loss=binary_crossentropy, optimizer=Adam, score=0.6914062502328306, total=  14.9s\n",
      "[CV] batch_size=10, epochs=200, init_mode=normal, loss=binary_crossentropy, optimizer=Adam \n",
      "[CV]  batch_size=10, epochs=200, init_mode=normal, loss=binary_crossentropy, optimizer=Adam, score=0.7187499997671694, total=  15.2s\n",
      "[CV] batch_size=10, epochs=200, init_mode=normal, loss=binary_crossentropy, optimizer=Adam \n",
      "[CV]  batch_size=10, epochs=200, init_mode=normal, loss=binary_crossentropy, optimizer=Adam, score=0.7656249923165888, total=  15.2s\n",
      "[CV] batch_size=10, epochs=200, init_mode=normal, loss=binary_crossentropy, optimizer=Adamax \n",
      "[CV]  batch_size=10, epochs=200, init_mode=normal, loss=binary_crossentropy, optimizer=Adamax, score=0.7265625046566129, total=  15.1s\n",
      "[CV] batch_size=10, epochs=200, init_mode=normal, loss=binary_crossentropy, optimizer=Adamax \n",
      "[CV]  batch_size=10, epochs=200, init_mode=normal, loss=binary_crossentropy, optimizer=Adamax, score=0.7304687537252903, total=  15.6s\n",
      "[CV] batch_size=10, epochs=200, init_mode=normal, loss=binary_crossentropy, optimizer=Adamax \n",
      "[CV]  batch_size=10, epochs=200, init_mode=normal, loss=binary_crossentropy, optimizer=Adamax, score=0.7578124958090484, total=  16.4s\n",
      "[CV] batch_size=10, epochs=200, init_mode=glorot_normal, loss=squared_hinge, optimizer=SGD \n",
      "[CV]  batch_size=10, epochs=200, init_mode=glorot_normal, loss=squared_hinge, optimizer=SGD, score=0.3867187587893568, total=  14.6s\n",
      "[CV] batch_size=10, epochs=200, init_mode=glorot_normal, loss=squared_hinge, optimizer=SGD \n",
      "[CV]  batch_size=10, epochs=200, init_mode=glorot_normal, loss=squared_hinge, optimizer=SGD, score=0.3398437548894435, total=  14.1s\n",
      "[CV] batch_size=10, epochs=200, init_mode=glorot_normal, loss=squared_hinge, optimizer=SGD \n",
      "[CV]  batch_size=10, epochs=200, init_mode=glorot_normal, loss=squared_hinge, optimizer=SGD, score=0.32421875692671165, total=  14.2s\n",
      "[CV] batch_size=10, epochs=200, init_mode=glorot_normal, loss=squared_hinge, optimizer=Adagrad \n",
      "[CV]  batch_size=10, epochs=200, init_mode=glorot_normal, loss=squared_hinge, optimizer=Adagrad, score=0.3828125078580342, total=  15.8s\n",
      "[CV] batch_size=10, epochs=200, init_mode=glorot_normal, loss=squared_hinge, optimizer=Adagrad \n",
      "[CV]  batch_size=10, epochs=200, init_mode=glorot_normal, loss=squared_hinge, optimizer=Adagrad, score=0.6601562504656613, total=  18.3s\n",
      "[CV] batch_size=10, epochs=200, init_mode=glorot_normal, loss=squared_hinge, optimizer=Adagrad \n",
      "[CV]  batch_size=10, epochs=200, init_mode=glorot_normal, loss=squared_hinge, optimizer=Adagrad, score=0.32421875692671165, total=  18.6s\n",
      "[CV] batch_size=10, epochs=200, init_mode=glorot_normal, loss=squared_hinge, optimizer=Adadelta \n",
      "[CV]  batch_size=10, epochs=200, init_mode=glorot_normal, loss=squared_hinge, optimizer=Adadelta, score=0.3828125078580342, total=  19.0s\n",
      "[CV] batch_size=10, epochs=200, init_mode=glorot_normal, loss=squared_hinge, optimizer=Adadelta \n",
      "[CV]  batch_size=10, epochs=200, init_mode=glorot_normal, loss=squared_hinge, optimizer=Adadelta, score=0.33593750454019755, total=  19.4s\n",
      "[CV] batch_size=10, epochs=200, init_mode=glorot_normal, loss=squared_hinge, optimizer=Adadelta \n",
      "[CV]  batch_size=10, epochs=200, init_mode=glorot_normal, loss=squared_hinge, optimizer=Adadelta, score=0.32421875692671165, total=  19.1s\n",
      "[CV] batch_size=10, epochs=200, init_mode=glorot_normal, loss=squared_hinge, optimizer=Adam \n",
      "[CV]  batch_size=10, epochs=200, init_mode=glorot_normal, loss=squared_hinge, optimizer=Adam, score=0.3828125078580342, total=  18.0s\n",
      "[CV] batch_size=10, epochs=200, init_mode=glorot_normal, loss=squared_hinge, optimizer=Adam \n",
      "[CV]  batch_size=10, epochs=200, init_mode=glorot_normal, loss=squared_hinge, optimizer=Adam, score=0.3398437548894435, total=  18.4s\n",
      "[CV] batch_size=10, epochs=200, init_mode=glorot_normal, loss=squared_hinge, optimizer=Adam \n",
      "[CV]  batch_size=10, epochs=200, init_mode=glorot_normal, loss=squared_hinge, optimizer=Adam, score=0.32421875721774995, total=  18.3s\n",
      "[CV] batch_size=10, epochs=200, init_mode=glorot_normal, loss=squared_hinge, optimizer=Adamax \n",
      "[CV]  batch_size=10, epochs=200, init_mode=glorot_normal, loss=squared_hinge, optimizer=Adamax, score=0.3828125078580342, total=  19.3s\n",
      "[CV] batch_size=10, epochs=200, init_mode=glorot_normal, loss=squared_hinge, optimizer=Adamax \n",
      "[CV]  batch_size=10, epochs=200, init_mode=glorot_normal, loss=squared_hinge, optimizer=Adamax, score=0.3398437548894435, total=  33.9s\n",
      "[CV] batch_size=10, epochs=200, init_mode=glorot_normal, loss=squared_hinge, optimizer=Adamax \n",
      "[CV]  batch_size=10, epochs=200, init_mode=glorot_normal, loss=squared_hinge, optimizer=Adamax, score=0.32421875692671165, total=  25.1s\n",
      "[CV] batch_size=10, epochs=200, init_mode=glorot_normal, loss=binary_crossentropy, optimizer=SGD \n",
      "[CV]  batch_size=10, epochs=200, init_mode=glorot_normal, loss=binary_crossentropy, optimizer=SGD, score=0.6406250020954758, total=  19.8s\n",
      "[CV] batch_size=10, epochs=200, init_mode=glorot_normal, loss=binary_crossentropy, optimizer=SGD \n",
      "[CV]  batch_size=10, epochs=200, init_mode=glorot_normal, loss=binary_crossentropy, optimizer=SGD, score=0.3398437548894435, total=  19.5s\n",
      "[CV] batch_size=10, epochs=200, init_mode=glorot_normal, loss=binary_crossentropy, optimizer=SGD \n",
      "[CV]  batch_size=10, epochs=200, init_mode=glorot_normal, loss=binary_crossentropy, optimizer=SGD, score=0.6835937525611371, total=  20.3s\n",
      "[CV] batch_size=10, epochs=200, init_mode=glorot_normal, loss=binary_crossentropy, optimizer=Adagrad \n",
      "[CV]  batch_size=10, epochs=200, init_mode=glorot_normal, loss=binary_crossentropy, optimizer=Adagrad, score=0.6171875018626451, total=  21.5s\n",
      "[CV] batch_size=10, epochs=200, init_mode=glorot_normal, loss=binary_crossentropy, optimizer=Adagrad \n",
      "[CV]  batch_size=10, epochs=200, init_mode=glorot_normal, loss=binary_crossentropy, optimizer=Adagrad, score=0.6601562504656613, total=  20.0s\n",
      "[CV] batch_size=10, epochs=200, init_mode=glorot_normal, loss=binary_crossentropy, optimizer=Adagrad \n",
      "[CV]  batch_size=10, epochs=200, init_mode=glorot_normal, loss=binary_crossentropy, optimizer=Adagrad, score=0.6757812534924597, total=  20.5s\n",
      "[CV] batch_size=10, epochs=200, init_mode=glorot_normal, loss=binary_crossentropy, optimizer=Adadelta \n",
      "[CV]  batch_size=10, epochs=200, init_mode=glorot_normal, loss=binary_crossentropy, optimizer=Adadelta, score=0.6171875018626451, total=  22.0s\n",
      "[CV] batch_size=10, epochs=200, init_mode=glorot_normal, loss=binary_crossentropy, optimizer=Adadelta \n",
      "[CV]  batch_size=10, epochs=200, init_mode=glorot_normal, loss=binary_crossentropy, optimizer=Adadelta, score=0.7031250013969839, total=  22.1s\n",
      "[CV] batch_size=10, epochs=200, init_mode=glorot_normal, loss=binary_crossentropy, optimizer=Adadelta \n",
      "[CV]  batch_size=10, epochs=200, init_mode=glorot_normal, loss=binary_crossentropy, optimizer=Adadelta, score=0.6796875086147338, total=  22.0s\n",
      "[CV] batch_size=10, epochs=200, init_mode=glorot_normal, loss=binary_crossentropy, optimizer=Adam \n",
      "[CV]  batch_size=10, epochs=200, init_mode=glorot_normal, loss=binary_crossentropy, optimizer=Adam, score=0.7148437506984919, total=  21.8s\n",
      "[CV] batch_size=10, epochs=200, init_mode=glorot_normal, loss=binary_crossentropy, optimizer=Adam \n",
      "[CV]  batch_size=10, epochs=200, init_mode=glorot_normal, loss=binary_crossentropy, optimizer=Adam, score=0.7265625023283064, total=  22.6s\n",
      "[CV] batch_size=10, epochs=200, init_mode=glorot_normal, loss=binary_crossentropy, optimizer=Adam \n",
      "[CV]  batch_size=10, epochs=200, init_mode=glorot_normal, loss=binary_crossentropy, optimizer=Adam, score=0.32421875692671165, total=  22.4s\n",
      "[CV] batch_size=10, epochs=200, init_mode=glorot_normal, loss=binary_crossentropy, optimizer=Adamax \n",
      "[CV]  batch_size=10, epochs=200, init_mode=glorot_normal, loss=binary_crossentropy, optimizer=Adamax, score=0.6914062444120646, total=  22.8s\n",
      "[CV] batch_size=10, epochs=200, init_mode=glorot_normal, loss=binary_crossentropy, optimizer=Adamax \n",
      "[CV]  batch_size=10, epochs=200, init_mode=glorot_normal, loss=binary_crossentropy, optimizer=Adamax, score=0.7187500020954758, total=  23.6s\n",
      "[CV] batch_size=10, epochs=200, init_mode=glorot_normal, loss=binary_crossentropy, optimizer=Adamax \n",
      "[CV]  batch_size=10, epochs=200, init_mode=glorot_normal, loss=binary_crossentropy, optimizer=Adamax, score=0.7460937476716936, total=  23.5s\n",
      "[CV] batch_size=10, epochs=200, init_mode=glorot_uniform, loss=squared_hinge, optimizer=SGD \n",
      "[CV]  batch_size=10, epochs=200, init_mode=glorot_uniform, loss=squared_hinge, optimizer=SGD, score=0.6171875018626451, total=  21.4s\n",
      "[CV] batch_size=10, epochs=200, init_mode=glorot_uniform, loss=squared_hinge, optimizer=SGD \n",
      "[CV]  batch_size=10, epochs=200, init_mode=glorot_uniform, loss=squared_hinge, optimizer=SGD, score=0.3398437548894435, total=  20.2s\n",
      "[CV] batch_size=10, epochs=200, init_mode=glorot_uniform, loss=squared_hinge, optimizer=SGD \n",
      "[CV]  batch_size=10, epochs=200, init_mode=glorot_uniform, loss=squared_hinge, optimizer=SGD, score=0.32421875692671165, total=  20.4s\n",
      "[CV] batch_size=10, epochs=200, init_mode=glorot_uniform, loss=squared_hinge, optimizer=Adagrad \n",
      "[CV]  batch_size=10, epochs=200, init_mode=glorot_uniform, loss=squared_hinge, optimizer=Adagrad, score=0.3789062592550181, total=  20.5s\n",
      "[CV] batch_size=10, epochs=200, init_mode=glorot_uniform, loss=squared_hinge, optimizer=Adagrad \n",
      "[CV]  batch_size=10, epochs=200, init_mode=glorot_uniform, loss=squared_hinge, optimizer=Adagrad, score=0.33593750454019755, total=  20.2s\n",
      "[CV] batch_size=10, epochs=200, init_mode=glorot_uniform, loss=squared_hinge, optimizer=Adagrad \n",
      "[CV]  batch_size=10, epochs=200, init_mode=glorot_uniform, loss=squared_hinge, optimizer=Adagrad, score=0.3281250072759576, total=  20.4s\n",
      "[CV] batch_size=10, epochs=200, init_mode=glorot_uniform, loss=squared_hinge, optimizer=Adadelta \n",
      "[CV]  batch_size=10, epochs=200, init_mode=glorot_uniform, loss=squared_hinge, optimizer=Adadelta, score=0.6171875018626451, total=  21.9s\n",
      "[CV] batch_size=10, epochs=200, init_mode=glorot_uniform, loss=squared_hinge, optimizer=Adadelta \n",
      "[CV]  batch_size=10, epochs=200, init_mode=glorot_uniform, loss=squared_hinge, optimizer=Adadelta, score=0.3398437548894435, total=  24.2s\n",
      "[CV] batch_size=10, epochs=200, init_mode=glorot_uniform, loss=squared_hinge, optimizer=Adadelta \n",
      "[CV]  batch_size=10, epochs=200, init_mode=glorot_uniform, loss=squared_hinge, optimizer=Adadelta, score=0.32421875692671165, total=  21.5s\n",
      "[CV] batch_size=10, epochs=200, init_mode=glorot_uniform, loss=squared_hinge, optimizer=Adam \n",
      "[CV]  batch_size=10, epochs=200, init_mode=glorot_uniform, loss=squared_hinge, optimizer=Adam, score=0.3828125078580342, total=  22.1s\n",
      "[CV] batch_size=10, epochs=200, init_mode=glorot_uniform, loss=squared_hinge, optimizer=Adam \n",
      "[CV]  batch_size=10, epochs=200, init_mode=glorot_uniform, loss=squared_hinge, optimizer=Adam, score=0.3398437548894435, total=  21.7s\n",
      "[CV] batch_size=10, epochs=200, init_mode=glorot_uniform, loss=squared_hinge, optimizer=Adam \n",
      "[CV]  batch_size=10, epochs=200, init_mode=glorot_uniform, loss=squared_hinge, optimizer=Adam, score=0.32421875692671165, total=  22.7s\n",
      "[CV] batch_size=10, epochs=200, init_mode=glorot_uniform, loss=squared_hinge, optimizer=Adamax \n",
      "[CV]  batch_size=10, epochs=200, init_mode=glorot_uniform, loss=squared_hinge, optimizer=Adamax, score=0.3828125078580342, total=  22.0s\n",
      "[CV] batch_size=10, epochs=200, init_mode=glorot_uniform, loss=squared_hinge, optimizer=Adamax \n",
      "[CV]  batch_size=10, epochs=200, init_mode=glorot_uniform, loss=squared_hinge, optimizer=Adamax, score=0.3398437548894435, total=  21.8s\n",
      "[CV] batch_size=10, epochs=200, init_mode=glorot_uniform, loss=squared_hinge, optimizer=Adamax \n",
      "[CV]  batch_size=10, epochs=200, init_mode=glorot_uniform, loss=squared_hinge, optimizer=Adamax, score=0.32421875692671165, total=  22.7s\n",
      "[CV] batch_size=10, epochs=200, init_mode=glorot_uniform, loss=binary_crossentropy, optimizer=SGD \n",
      "[CV]  batch_size=10, epochs=200, init_mode=glorot_uniform, loss=binary_crossentropy, optimizer=SGD, score=0.6484375069849193, total=  23.1s\n",
      "[CV] batch_size=10, epochs=200, init_mode=glorot_uniform, loss=binary_crossentropy, optimizer=SGD \n",
      "[CV]  batch_size=10, epochs=200, init_mode=glorot_uniform, loss=binary_crossentropy, optimizer=SGD, score=0.6601562504656613, total=  23.3s\n",
      "[CV] batch_size=10, epochs=200, init_mode=glorot_uniform, loss=binary_crossentropy, optimizer=SGD \n",
      "[CV]  batch_size=10, epochs=200, init_mode=glorot_uniform, loss=binary_crossentropy, optimizer=SGD, score=0.6835937541909516, total=  24.7s\n",
      "[CV] batch_size=10, epochs=200, init_mode=glorot_uniform, loss=binary_crossentropy, optimizer=Adagrad \n",
      "[CV]  batch_size=10, epochs=200, init_mode=glorot_uniform, loss=binary_crossentropy, optimizer=Adagrad, score=0.7031250013969839, total=  23.4s\n",
      "[CV] batch_size=10, epochs=200, init_mode=glorot_uniform, loss=binary_crossentropy, optimizer=Adagrad \n",
      "[CV]  batch_size=10, epochs=200, init_mode=glorot_uniform, loss=binary_crossentropy, optimizer=Adagrad, score=0.710937503259629, total=  23.3s\n",
      "[CV] batch_size=10, epochs=200, init_mode=glorot_uniform, loss=binary_crossentropy, optimizer=Adagrad \n",
      "[CV]  batch_size=10, epochs=200, init_mode=glorot_uniform, loss=binary_crossentropy, optimizer=Adagrad, score=0.6640625048894435, total=  23.9s\n",
      "[CV] batch_size=10, epochs=200, init_mode=glorot_uniform, loss=binary_crossentropy, optimizer=Adadelta \n",
      "[CV]  batch_size=10, epochs=200, init_mode=glorot_uniform, loss=binary_crossentropy, optimizer=Adadelta, score=0.6445312595460564, total=  25.6s\n",
      "[CV] batch_size=10, epochs=200, init_mode=glorot_uniform, loss=binary_crossentropy, optimizer=Adadelta \n",
      "[CV]  batch_size=10, epochs=200, init_mode=glorot_uniform, loss=binary_crossentropy, optimizer=Adadelta, score=0.6601562504656613, total=  26.2s\n",
      "[CV] batch_size=10, epochs=200, init_mode=glorot_uniform, loss=binary_crossentropy, optimizer=Adadelta \n",
      "[CV]  batch_size=10, epochs=200, init_mode=glorot_uniform, loss=binary_crossentropy, optimizer=Adadelta, score=0.7226562513969839, total=  24.8s\n",
      "[CV] batch_size=10, epochs=200, init_mode=glorot_uniform, loss=binary_crossentropy, optimizer=Adam \n",
      "[CV]  batch_size=10, epochs=200, init_mode=glorot_uniform, loss=binary_crossentropy, optimizer=Adam, score=0.691406253259629, total=  24.3s\n",
      "[CV] batch_size=10, epochs=200, init_mode=glorot_uniform, loss=binary_crossentropy, optimizer=Adam \n",
      "[CV]  batch_size=10, epochs=200, init_mode=glorot_uniform, loss=binary_crossentropy, optimizer=Adam, score=0.6953125030267984, total=  25.9s\n",
      "[CV] batch_size=10, epochs=200, init_mode=glorot_uniform, loss=binary_crossentropy, optimizer=Adam \n",
      "[CV]  batch_size=10, epochs=200, init_mode=glorot_uniform, loss=binary_crossentropy, optimizer=Adam, score=0.765625, total=  25.6s\n",
      "[CV] batch_size=10, epochs=200, init_mode=glorot_uniform, loss=binary_crossentropy, optimizer=Adamax \n",
      "[CV]  batch_size=10, epochs=200, init_mode=glorot_uniform, loss=binary_crossentropy, optimizer=Adamax, score=0.679687503259629, total=  24.5s\n",
      "[CV] batch_size=10, epochs=200, init_mode=glorot_uniform, loss=binary_crossentropy, optimizer=Adamax \n",
      "[CV]  batch_size=10, epochs=200, init_mode=glorot_uniform, loss=binary_crossentropy, optimizer=Adamax, score=0.6601562504656613, total=  24.9s\n",
      "[CV] batch_size=10, epochs=200, init_mode=glorot_uniform, loss=binary_crossentropy, optimizer=Adamax \n",
      "[CV]  batch_size=10, epochs=200, init_mode=glorot_uniform, loss=binary_crossentropy, optimizer=Adamax, score=0.7109375009313226, total=  25.7s\n",
      "[CV] batch_size=10, epochs=200, init_mode=he_normal, loss=squared_hinge, optimizer=SGD \n",
      "[CV]  batch_size=10, epochs=200, init_mode=he_normal, loss=squared_hinge, optimizer=SGD, score=0.3828125078580342, total=  24.4s\n",
      "[CV] batch_size=10, epochs=200, init_mode=he_normal, loss=squared_hinge, optimizer=SGD \n",
      "[CV]  batch_size=10, epochs=200, init_mode=he_normal, loss=squared_hinge, optimizer=SGD, score=0.3398437548894435, total=  23.1s\n",
      "[CV] batch_size=10, epochs=200, init_mode=he_normal, loss=squared_hinge, optimizer=SGD \n",
      "[CV]  batch_size=10, epochs=200, init_mode=he_normal, loss=squared_hinge, optimizer=SGD, score=0.32421875692671165, total=  23.2s\n",
      "[CV] batch_size=10, epochs=200, init_mode=he_normal, loss=squared_hinge, optimizer=Adagrad \n",
      "[CV]  batch_size=10, epochs=200, init_mode=he_normal, loss=squared_hinge, optimizer=Adagrad, score=0.3828125078580342, total=  22.7s\n",
      "[CV] batch_size=10, epochs=200, init_mode=he_normal, loss=squared_hinge, optimizer=Adagrad \n",
      "[CV]  batch_size=10, epochs=200, init_mode=he_normal, loss=squared_hinge, optimizer=Adagrad, score=0.3398437548894435, total=  23.7s\n",
      "[CV] batch_size=10, epochs=200, init_mode=he_normal, loss=squared_hinge, optimizer=Adagrad \n",
      "[CV]  batch_size=10, epochs=200, init_mode=he_normal, loss=squared_hinge, optimizer=Adagrad, score=0.32421875692671165, total=  23.6s\n",
      "[CV] batch_size=10, epochs=200, init_mode=he_normal, loss=squared_hinge, optimizer=Adadelta \n",
      "[CV]  batch_size=10, epochs=200, init_mode=he_normal, loss=squared_hinge, optimizer=Adadelta, score=0.3828125078580342, total=  24.8s\n",
      "[CV] batch_size=10, epochs=200, init_mode=he_normal, loss=squared_hinge, optimizer=Adadelta \n",
      "[CV]  batch_size=10, epochs=200, init_mode=he_normal, loss=squared_hinge, optimizer=Adadelta, score=0.3398437548894435, total=  25.9s\n",
      "[CV] batch_size=10, epochs=200, init_mode=he_normal, loss=squared_hinge, optimizer=Adadelta \n",
      "[CV]  batch_size=10, epochs=200, init_mode=he_normal, loss=squared_hinge, optimizer=Adadelta, score=0.32421875692671165, total=  25.7s\n",
      "[CV] batch_size=10, epochs=200, init_mode=he_normal, loss=squared_hinge, optimizer=Adam \n",
      "[CV]  batch_size=10, epochs=200, init_mode=he_normal, loss=squared_hinge, optimizer=Adam, score=0.3828125078580342, total=  26.5s\n",
      "[CV] batch_size=10, epochs=200, init_mode=he_normal, loss=squared_hinge, optimizer=Adam \n",
      "[CV]  batch_size=10, epochs=200, init_mode=he_normal, loss=squared_hinge, optimizer=Adam, score=0.33593750454019755, total=  25.5s\n",
      "[CV] batch_size=10, epochs=200, init_mode=he_normal, loss=squared_hinge, optimizer=Adam \n",
      "[CV]  batch_size=10, epochs=200, init_mode=he_normal, loss=squared_hinge, optimizer=Adam, score=0.6757812534924597, total=  25.3s\n",
      "[CV] batch_size=10, epochs=200, init_mode=he_normal, loss=squared_hinge, optimizer=Adamax \n",
      "[CV]  batch_size=10, epochs=200, init_mode=he_normal, loss=squared_hinge, optimizer=Adamax, score=0.3828125078580342, total=  25.3s\n",
      "[CV] batch_size=10, epochs=200, init_mode=he_normal, loss=squared_hinge, optimizer=Adamax \n",
      "[CV]  batch_size=10, epochs=200, init_mode=he_normal, loss=squared_hinge, optimizer=Adamax, score=0.3398437548894435, total=  26.9s\n",
      "[CV] batch_size=10, epochs=200, init_mode=he_normal, loss=squared_hinge, optimizer=Adamax \n",
      "[CV]  batch_size=10, epochs=200, init_mode=he_normal, loss=squared_hinge, optimizer=Adamax, score=0.6757812534924597, total=  26.0s\n",
      "[CV] batch_size=10, epochs=200, init_mode=he_normal, loss=binary_crossentropy, optimizer=SGD \n",
      "[CV]  batch_size=10, epochs=200, init_mode=he_normal, loss=binary_crossentropy, optimizer=SGD, score=0.613281253259629, total=  26.3s\n",
      "[CV] batch_size=10, epochs=200, init_mode=he_normal, loss=binary_crossentropy, optimizer=SGD \n",
      "[CV]  batch_size=10, epochs=200, init_mode=he_normal, loss=binary_crossentropy, optimizer=SGD, score=0.6601562504656613, total=  27.0s\n",
      "[CV] batch_size=10, epochs=200, init_mode=he_normal, loss=binary_crossentropy, optimizer=SGD \n",
      "[CV]  batch_size=10, epochs=200, init_mode=he_normal, loss=binary_crossentropy, optimizer=SGD, score=0.6757812534924597, total=  28.0s\n",
      "[CV] batch_size=10, epochs=200, init_mode=he_normal, loss=binary_crossentropy, optimizer=Adagrad \n",
      "[CV]  batch_size=10, epochs=200, init_mode=he_normal, loss=binary_crossentropy, optimizer=Adagrad, score=0.6171875018626451, total=  27.9s\n",
      "[CV] batch_size=10, epochs=200, init_mode=he_normal, loss=binary_crossentropy, optimizer=Adagrad \n",
      "[CV]  batch_size=10, epochs=200, init_mode=he_normal, loss=binary_crossentropy, optimizer=Adagrad, score=0.6914062537252903, total=  27.6s\n",
      "[CV] batch_size=10, epochs=200, init_mode=he_normal, loss=binary_crossentropy, optimizer=Adagrad \n",
      "[CV]  batch_size=10, epochs=200, init_mode=he_normal, loss=binary_crossentropy, optimizer=Adagrad, score=0.7070312546566129, total=  26.8s\n",
      "[CV] batch_size=10, epochs=200, init_mode=he_normal, loss=binary_crossentropy, optimizer=Adadelta \n",
      "[CV]  batch_size=10, epochs=200, init_mode=he_normal, loss=binary_crossentropy, optimizer=Adadelta, score=0.7187500004656613, total=  29.8s\n",
      "[CV] batch_size=10, epochs=200, init_mode=he_normal, loss=binary_crossentropy, optimizer=Adadelta \n",
      "[CV]  batch_size=10, epochs=200, init_mode=he_normal, loss=binary_crossentropy, optimizer=Adadelta, score=0.6562499995343387, total=  28.8s\n",
      "[CV] batch_size=10, epochs=200, init_mode=he_normal, loss=binary_crossentropy, optimizer=Adadelta \n",
      "[CV]  batch_size=10, epochs=200, init_mode=he_normal, loss=binary_crossentropy, optimizer=Adadelta, score=0.6640625037252903, total=  28.1s\n",
      "[CV] batch_size=10, epochs=200, init_mode=he_normal, loss=binary_crossentropy, optimizer=Adam \n",
      "[CV]  batch_size=10, epochs=200, init_mode=he_normal, loss=binary_crossentropy, optimizer=Adam, score=0.7304687474388629, total=  28.8s\n",
      "[CV] batch_size=10, epochs=200, init_mode=he_normal, loss=binary_crossentropy, optimizer=Adam \n",
      "[CV]  batch_size=10, epochs=200, init_mode=he_normal, loss=binary_crossentropy, optimizer=Adam, score=0.6601562504656613, total=  30.6s\n",
      "[CV] batch_size=10, epochs=200, init_mode=he_normal, loss=binary_crossentropy, optimizer=Adam \n",
      "[CV]  batch_size=10, epochs=200, init_mode=he_normal, loss=binary_crossentropy, optimizer=Adam, score=0.6757812534924597, total=  29.9s\n",
      "[CV] batch_size=10, epochs=200, init_mode=he_normal, loss=binary_crossentropy, optimizer=Adamax \n",
      "[CV]  batch_size=10, epochs=200, init_mode=he_normal, loss=binary_crossentropy, optimizer=Adamax, score=0.6171875018626451, total=  29.6s\n",
      "[CV] batch_size=10, epochs=200, init_mode=he_normal, loss=binary_crossentropy, optimizer=Adamax \n",
      "[CV]  batch_size=10, epochs=200, init_mode=he_normal, loss=binary_crossentropy, optimizer=Adamax, score=0.7148437541909516, total=  29.8s\n",
      "[CV] batch_size=10, epochs=200, init_mode=he_normal, loss=binary_crossentropy, optimizer=Adamax \n",
      "[CV]  batch_size=10, epochs=200, init_mode=he_normal, loss=binary_crossentropy, optimizer=Adamax, score=0.7148437483701855, total=  28.8s\n",
      "[CV] batch_size=10, epochs=200, init_mode=he_uniform, loss=squared_hinge, optimizer=SGD \n",
      "[CV]  batch_size=10, epochs=200, init_mode=he_uniform, loss=squared_hinge, optimizer=SGD, score=0.613281253259629, total=  27.4s\n",
      "[CV] batch_size=10, epochs=200, init_mode=he_uniform, loss=squared_hinge, optimizer=SGD \n",
      "[CV]  batch_size=10, epochs=200, init_mode=he_uniform, loss=squared_hinge, optimizer=SGD, score=0.3398437548894435, total=  29.2s\n",
      "[CV] batch_size=10, epochs=200, init_mode=he_uniform, loss=squared_hinge, optimizer=SGD \n",
      "[CV]  batch_size=10, epochs=200, init_mode=he_uniform, loss=squared_hinge, optimizer=SGD, score=0.6757812534924597, total=  27.1s\n",
      "[CV] batch_size=10, epochs=200, init_mode=he_uniform, loss=squared_hinge, optimizer=Adagrad \n",
      "[CV]  batch_size=10, epochs=200, init_mode=he_uniform, loss=squared_hinge, optimizer=Adagrad, score=0.3828125078580342, total=  26.2s\n",
      "[CV] batch_size=10, epochs=200, init_mode=he_uniform, loss=squared_hinge, optimizer=Adagrad \n",
      "[CV]  batch_size=10, epochs=200, init_mode=he_uniform, loss=squared_hinge, optimizer=Adagrad, score=0.3398437548894435, total=  22.3s\n",
      "[CV] batch_size=10, epochs=200, init_mode=he_uniform, loss=squared_hinge, optimizer=Adagrad \n",
      "[CV]  batch_size=10, epochs=200, init_mode=he_uniform, loss=squared_hinge, optimizer=Adagrad, score=0.32421875692671165, total=  24.4s\n",
      "[CV] batch_size=10, epochs=200, init_mode=he_uniform, loss=squared_hinge, optimizer=Adadelta \n",
      "[CV]  batch_size=10, epochs=200, init_mode=he_uniform, loss=squared_hinge, optimizer=Adadelta, score=0.3828125078580342, total=  25.7s\n",
      "[CV] batch_size=10, epochs=200, init_mode=he_uniform, loss=squared_hinge, optimizer=Adadelta \n",
      "[CV]  batch_size=10, epochs=200, init_mode=he_uniform, loss=squared_hinge, optimizer=Adadelta, score=0.3398437548894435, total=  24.1s\n",
      "[CV] batch_size=10, epochs=200, init_mode=he_uniform, loss=squared_hinge, optimizer=Adadelta \n",
      "[CV]  batch_size=10, epochs=200, init_mode=he_uniform, loss=squared_hinge, optimizer=Adadelta, score=0.32421875692671165, total=  27.4s\n",
      "[CV] batch_size=10, epochs=200, init_mode=he_uniform, loss=squared_hinge, optimizer=Adam \n",
      "[CV]  batch_size=10, epochs=200, init_mode=he_uniform, loss=squared_hinge, optimizer=Adam, score=0.3828125078580342, total=  27.7s\n",
      "[CV] batch_size=10, epochs=200, init_mode=he_uniform, loss=squared_hinge, optimizer=Adam \n",
      "[CV]  batch_size=10, epochs=200, init_mode=he_uniform, loss=squared_hinge, optimizer=Adam, score=0.3398437548894435, total=  27.0s\n",
      "[CV] batch_size=10, epochs=200, init_mode=he_uniform, loss=squared_hinge, optimizer=Adam \n",
      "[CV]  batch_size=10, epochs=200, init_mode=he_uniform, loss=squared_hinge, optimizer=Adam, score=0.32421875692671165, total=  25.5s\n",
      "[CV] batch_size=10, epochs=200, init_mode=he_uniform, loss=squared_hinge, optimizer=Adamax \n",
      "[CV]  batch_size=10, epochs=200, init_mode=he_uniform, loss=squared_hinge, optimizer=Adamax, score=0.3867187587893568, total=  24.2s\n",
      "[CV] batch_size=10, epochs=200, init_mode=he_uniform, loss=squared_hinge, optimizer=Adamax \n",
      "[CV]  batch_size=10, epochs=200, init_mode=he_uniform, loss=squared_hinge, optimizer=Adamax, score=0.33593750454019755, total=  26.6s\n",
      "[CV] batch_size=10, epochs=200, init_mode=he_uniform, loss=squared_hinge, optimizer=Adamax \n",
      "[CV]  batch_size=10, epochs=200, init_mode=he_uniform, loss=squared_hinge, optimizer=Adamax, score=0.32421875692671165, total=  25.2s\n",
      "[CV] batch_size=10, epochs=200, init_mode=he_uniform, loss=binary_crossentropy, optimizer=SGD \n",
      "[CV]  batch_size=10, epochs=200, init_mode=he_uniform, loss=binary_crossentropy, optimizer=SGD, score=0.6406250016298145, total=  26.3s\n",
      "[CV] batch_size=10, epochs=200, init_mode=he_uniform, loss=binary_crossentropy, optimizer=SGD \n",
      "[CV]  batch_size=10, epochs=200, init_mode=he_uniform, loss=binary_crossentropy, optimizer=SGD, score=0.6679687516298145, total=  25.7s\n",
      "[CV] batch_size=10, epochs=200, init_mode=he_uniform, loss=binary_crossentropy, optimizer=SGD \n",
      "[CV]  batch_size=10, epochs=200, init_mode=he_uniform, loss=binary_crossentropy, optimizer=SGD, score=0.6757812534924597, total=  25.3s\n",
      "[CV] batch_size=10, epochs=200, init_mode=he_uniform, loss=binary_crossentropy, optimizer=Adagrad \n",
      "[CV]  batch_size=10, epochs=200, init_mode=he_uniform, loss=binary_crossentropy, optimizer=Adagrad, score=0.6484375034924597, total=  26.0s\n",
      "[CV] batch_size=10, epochs=200, init_mode=he_uniform, loss=binary_crossentropy, optimizer=Adagrad \n",
      "[CV]  batch_size=10, epochs=200, init_mode=he_uniform, loss=binary_crossentropy, optimizer=Adagrad, score=0.632812506868504, total=  25.8s\n",
      "[CV] batch_size=10, epochs=200, init_mode=he_uniform, loss=binary_crossentropy, optimizer=Adagrad \n",
      "[CV]  batch_size=10, epochs=200, init_mode=he_uniform, loss=binary_crossentropy, optimizer=Adagrad, score=0.6718750037252903, total=  25.7s\n",
      "[CV] batch_size=10, epochs=200, init_mode=he_uniform, loss=binary_crossentropy, optimizer=Adadelta \n",
      "[CV]  batch_size=10, epochs=200, init_mode=he_uniform, loss=binary_crossentropy, optimizer=Adadelta, score=0.6601562562864274, total=  26.6s\n",
      "[CV] batch_size=10, epochs=200, init_mode=he_uniform, loss=binary_crossentropy, optimizer=Adadelta \n",
      "[CV]  batch_size=10, epochs=200, init_mode=he_uniform, loss=binary_crossentropy, optimizer=Adadelta, score=0.6601562504656613, total=  27.3s\n",
      "[CV] batch_size=10, epochs=200, init_mode=he_uniform, loss=binary_crossentropy, optimizer=Adadelta \n",
      "[CV]  batch_size=10, epochs=200, init_mode=he_uniform, loss=binary_crossentropy, optimizer=Adadelta, score=0.7109374962747097, total=  28.0s\n",
      "[CV] batch_size=10, epochs=200, init_mode=he_uniform, loss=binary_crossentropy, optimizer=Adam \n",
      "[CV]  batch_size=10, epochs=200, init_mode=he_uniform, loss=binary_crossentropy, optimizer=Adam, score=0.7031249972060323, total=  28.4s\n",
      "[CV] batch_size=10, epochs=200, init_mode=he_uniform, loss=binary_crossentropy, optimizer=Adam \n",
      "[CV]  batch_size=10, epochs=200, init_mode=he_uniform, loss=binary_crossentropy, optimizer=Adam, score=0.6601562504656613, total=  30.5s\n",
      "[CV] batch_size=10, epochs=200, init_mode=he_uniform, loss=binary_crossentropy, optimizer=Adam \n",
      "[CV]  batch_size=10, epochs=200, init_mode=he_uniform, loss=binary_crossentropy, optimizer=Adam, score=0.7187499981373549, total=  29.4s\n",
      "[CV] batch_size=10, epochs=200, init_mode=he_uniform, loss=binary_crossentropy, optimizer=Adamax \n",
      "[CV]  batch_size=10, epochs=200, init_mode=he_uniform, loss=binary_crossentropy, optimizer=Adamax, score=0.6484375058207661, total=  28.8s\n",
      "[CV] batch_size=10, epochs=200, init_mode=he_uniform, loss=binary_crossentropy, optimizer=Adamax \n",
      "[CV]  batch_size=10, epochs=200, init_mode=he_uniform, loss=binary_crossentropy, optimizer=Adamax, score=0.6601562504656613, total=  28.6s\n",
      "[CV] batch_size=10, epochs=200, init_mode=he_uniform, loss=binary_crossentropy, optimizer=Adamax \n",
      "[CV]  batch_size=10, epochs=200, init_mode=he_uniform, loss=binary_crossentropy, optimizer=Adamax, score=0.7460937523283064, total=  27.8s\n"
     ]
    },
    {
     "name": "stderr",
     "output_type": "stream",
     "text": [
      "[Parallel(n_jobs=1)]: Done 180 out of 180 | elapsed: 61.2min finished\n"
     ]
    }
   ],
   "source": [
    "from sklearn.model_selection import GridSearchCV\n",
    "from keras.wrappers.scikit_learn import KerasClassifier\n",
    "\n",
    "model = KerasClassifier(build_fn=create_model, verbose=0)\n",
    "\n",
    "init_mode = ['uniform', 'normal', 'glorot_normal', 'glorot_uniform', 'he_normal', 'he_uniform']\n",
    "optimizer = ['SGD', 'Adagrad', 'Adadelta', 'Adam', 'Adamax']\n",
    "loss = ['squared_hinge','binary_crossentropy']\n",
    "\n",
    "batch_size = [10]\n",
    "epochs = [200]\n",
    "\n",
    "param_grid = dict(init_mode=init_mode,optimizer=optimizer,loss=loss,batch_size=batch_size,epochs=epochs)\n",
    "\n",
    "grid = GridSearchCV(estimator=model, param_grid=param_grid, n_jobs=1,verbose=10)\n",
    "\n",
    "grid_result = grid.fit(x_data, y_data)"
   ]
  },
  {
   "cell_type": "code",
   "execution_count": 6,
   "metadata": {
    "collapsed": false
   },
   "outputs": [
    {
     "name": "stdout",
     "output_type": "stream",
     "text": [
      "{'batch_size': 10, 'epochs': 200, 'init_mode': 'normal', 'loss': 'binary_crossentropy', 'optimizer': 'Adamax'}\n",
      "0.738281251397\n"
     ]
    }
   ],
   "source": [
    "print(grid_result.best_params_)\n",
    "print(grid_result.best_score_)"
   ]
  },
  {
   "cell_type": "markdown",
   "metadata": {
    "collapsed": false
   },
   "source": [
    "### Further refinement"
   ]
  },
  {
   "cell_type": "code",
   "execution_count": null,
   "metadata": {
    "collapsed": true
   },
   "outputs": [],
   "source": [
    "def create_model():\n",
    "    model = Sequential()\n",
    "    model.add(Dense(12,kernel_initializer='normal' input_dim = 8, activation= 'relu'))\n",
    "    model.add(Dropout(0.5))\n",
    "    model.add(Dense(8, activation = 'relu'))\n",
    "    model.add(Dense(1,activation='sigmoid'))\n",
    "    optimizer = optimizers.Adamax((lr=0.002, beta_1=0.9, beta_2=0.999, epsilon=1e-08, decay=0.0))\n",
    "    model.compile(loss=\"binary_crossentropy\", optimizer='adamax',metrics=['accuracy'])\n",
    "    return model\n",
    "\n",
    "\n",
    "\n",
    "\n",
    "from sklearn.model_selection import GridSearchCV\n",
    "from keras.wrappers.scikit_learn import KerasClassifier\n",
    "\n",
    "model = KerasClassifier(build_fn=create_model, verbose=0)\n",
    "\n",
    "learn_rate = [0.001, 0.01, 0.1, 0.2, 0.3]\n",
    "decay = [0.0, 0.2, 0.4, 0.6, 0.8, 0.9]\n",
    "\n",
    "batch_size = [10]\n",
    "epochs = [200]\n",
    "\n",
    "param_grid = dict(decay=decay,learn_rate=learn_rate,batch_size=batch_size,epochs=epochs)\n",
    "\n",
    "grid = GridSearchCV(estimator=model, param_grid=param_grid, n_jobs=1,verbose=10)\n",
    "\n",
    "grid_result = grid.fit(x_data, y_data)"
   ]
  }
 ],
 "metadata": {
  "kernelspec": {
   "display_name": "Python 3",
   "language": "python",
   "name": "python3"
  },
  "language_info": {
   "codemirror_mode": {
    "name": "ipython",
    "version": 3
   },
   "file_extension": ".py",
   "mimetype": "text/x-python",
   "name": "python",
   "nbconvert_exporter": "python",
   "pygments_lexer": "ipython3",
   "version": "3.6.0"
  }
 },
 "nbformat": 4,
 "nbformat_minor": 2
}
